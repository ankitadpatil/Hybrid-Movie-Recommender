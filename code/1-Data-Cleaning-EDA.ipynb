{
 "cells": [
  {
   "cell_type": "markdown",
   "id": "68a33f06",
   "metadata": {},
   "source": [
    "## Data Cleaning and Analysis"
   ]
  },
  {
   "cell_type": "code",
   "execution_count": 1,
   "id": "bf87cc8a",
   "metadata": {},
   "outputs": [],
   "source": [
    "import pandas as pd\n",
    "import numpy as np\n",
    "import matplotlib.pyplot as plt\n",
    "import seaborn as sns \n",
    "from bs4 import BeautifulSoup\n",
    "import ast\n",
    "import requests\n",
    "import json\n",
    "import time\n",
    "import warnings\n",
    "warnings.filterwarnings('ignore')"
   ]
  },
  {
   "cell_type": "markdown",
   "id": "040939e7",
   "metadata": {},
   "source": [
    "### Ratings Data"
   ]
  },
  {
   "cell_type": "code",
   "execution_count": 2,
   "id": "d17f756d",
   "metadata": {},
   "outputs": [
    {
     "data": {
      "text/html": [
       "<div>\n",
       "<style scoped>\n",
       "    .dataframe tbody tr th:only-of-type {\n",
       "        vertical-align: middle;\n",
       "    }\n",
       "\n",
       "    .dataframe tbody tr th {\n",
       "        vertical-align: top;\n",
       "    }\n",
       "\n",
       "    .dataframe thead th {\n",
       "        text-align: right;\n",
       "    }\n",
       "</style>\n",
       "<table border=\"1\" class=\"dataframe\">\n",
       "  <thead>\n",
       "    <tr style=\"text-align: right;\">\n",
       "      <th></th>\n",
       "      <th>userId</th>\n",
       "      <th>movieId</th>\n",
       "      <th>rating</th>\n",
       "      <th>timestamp</th>\n",
       "    </tr>\n",
       "  </thead>\n",
       "  <tbody>\n",
       "    <tr>\n",
       "      <th>0</th>\n",
       "      <td>1</td>\n",
       "      <td>1</td>\n",
       "      <td>4.0</td>\n",
       "      <td>964982703</td>\n",
       "    </tr>\n",
       "    <tr>\n",
       "      <th>1</th>\n",
       "      <td>1</td>\n",
       "      <td>3</td>\n",
       "      <td>4.0</td>\n",
       "      <td>964981247</td>\n",
       "    </tr>\n",
       "    <tr>\n",
       "      <th>2</th>\n",
       "      <td>1</td>\n",
       "      <td>6</td>\n",
       "      <td>4.0</td>\n",
       "      <td>964982224</td>\n",
       "    </tr>\n",
       "    <tr>\n",
       "      <th>3</th>\n",
       "      <td>1</td>\n",
       "      <td>47</td>\n",
       "      <td>5.0</td>\n",
       "      <td>964983815</td>\n",
       "    </tr>\n",
       "    <tr>\n",
       "      <th>4</th>\n",
       "      <td>1</td>\n",
       "      <td>50</td>\n",
       "      <td>5.0</td>\n",
       "      <td>964982931</td>\n",
       "    </tr>\n",
       "  </tbody>\n",
       "</table>\n",
       "</div>"
      ],
      "text/plain": [
       "   userId  movieId  rating  timestamp\n",
       "0       1        1     4.0  964982703\n",
       "1       1        3     4.0  964981247\n",
       "2       1        6     4.0  964982224\n",
       "3       1       47     5.0  964983815\n",
       "4       1       50     5.0  964982931"
      ]
     },
     "execution_count": 2,
     "metadata": {},
     "output_type": "execute_result"
    }
   ],
   "source": [
    "df_ratings = pd.read_csv('../data/ratings.csv')\n",
    "df_ratings.head()"
   ]
  },
  {
   "cell_type": "code",
   "execution_count": 3,
   "id": "0ae5a60e",
   "metadata": {},
   "outputs": [
    {
     "data": {
      "text/plain": [
       "(100836, 4)"
      ]
     },
     "execution_count": 3,
     "metadata": {},
     "output_type": "execute_result"
    }
   ],
   "source": [
    "df_ratings.shape"
   ]
  },
  {
   "cell_type": "code",
   "execution_count": 4,
   "id": "37636c5a",
   "metadata": {},
   "outputs": [
    {
     "data": {
      "text/plain": [
       "userId         int64\n",
       "movieId        int64\n",
       "rating       float64\n",
       "timestamp      int64\n",
       "dtype: object"
      ]
     },
     "execution_count": 4,
     "metadata": {},
     "output_type": "execute_result"
    }
   ],
   "source": [
    "df_ratings.dtypes"
   ]
  },
  {
   "cell_type": "code",
   "execution_count": 5,
   "id": "57277c66",
   "metadata": {},
   "outputs": [],
   "source": [
    "df_ratings.drop(columns=['timestamp'], inplace=True)"
   ]
  },
  {
   "cell_type": "code",
   "execution_count": 6,
   "id": "6a907116",
   "metadata": {},
   "outputs": [
    {
     "data": {
      "text/html": [
       "<div>\n",
       "<style scoped>\n",
       "    .dataframe tbody tr th:only-of-type {\n",
       "        vertical-align: middle;\n",
       "    }\n",
       "\n",
       "    .dataframe tbody tr th {\n",
       "        vertical-align: top;\n",
       "    }\n",
       "\n",
       "    .dataframe thead th {\n",
       "        text-align: right;\n",
       "    }\n",
       "</style>\n",
       "<table border=\"1\" class=\"dataframe\">\n",
       "  <thead>\n",
       "    <tr style=\"text-align: right;\">\n",
       "      <th></th>\n",
       "      <th>userId</th>\n",
       "      <th>movieId</th>\n",
       "      <th>rating</th>\n",
       "    </tr>\n",
       "  </thead>\n",
       "  <tbody>\n",
       "    <tr>\n",
       "      <th>count</th>\n",
       "      <td>100836.000000</td>\n",
       "      <td>100836.000000</td>\n",
       "      <td>100836.000000</td>\n",
       "    </tr>\n",
       "    <tr>\n",
       "      <th>mean</th>\n",
       "      <td>326.127564</td>\n",
       "      <td>19435.295718</td>\n",
       "      <td>3.501557</td>\n",
       "    </tr>\n",
       "    <tr>\n",
       "      <th>std</th>\n",
       "      <td>182.618491</td>\n",
       "      <td>35530.987199</td>\n",
       "      <td>1.042529</td>\n",
       "    </tr>\n",
       "    <tr>\n",
       "      <th>min</th>\n",
       "      <td>1.000000</td>\n",
       "      <td>1.000000</td>\n",
       "      <td>0.500000</td>\n",
       "    </tr>\n",
       "    <tr>\n",
       "      <th>25%</th>\n",
       "      <td>177.000000</td>\n",
       "      <td>1199.000000</td>\n",
       "      <td>3.000000</td>\n",
       "    </tr>\n",
       "    <tr>\n",
       "      <th>50%</th>\n",
       "      <td>325.000000</td>\n",
       "      <td>2991.000000</td>\n",
       "      <td>3.500000</td>\n",
       "    </tr>\n",
       "    <tr>\n",
       "      <th>75%</th>\n",
       "      <td>477.000000</td>\n",
       "      <td>8122.000000</td>\n",
       "      <td>4.000000</td>\n",
       "    </tr>\n",
       "    <tr>\n",
       "      <th>max</th>\n",
       "      <td>610.000000</td>\n",
       "      <td>193609.000000</td>\n",
       "      <td>5.000000</td>\n",
       "    </tr>\n",
       "  </tbody>\n",
       "</table>\n",
       "</div>"
      ],
      "text/plain": [
       "              userId        movieId         rating\n",
       "count  100836.000000  100836.000000  100836.000000\n",
       "mean      326.127564   19435.295718       3.501557\n",
       "std       182.618491   35530.987199       1.042529\n",
       "min         1.000000       1.000000       0.500000\n",
       "25%       177.000000    1199.000000       3.000000\n",
       "50%       325.000000    2991.000000       3.500000\n",
       "75%       477.000000    8122.000000       4.000000\n",
       "max       610.000000  193609.000000       5.000000"
      ]
     },
     "execution_count": 6,
     "metadata": {},
     "output_type": "execute_result"
    }
   ],
   "source": [
    "df_ratings.describe()"
   ]
  },
  {
   "cell_type": "code",
   "execution_count": 7,
   "id": "bbb98fb2",
   "metadata": {},
   "outputs": [
    {
     "data": {
      "text/plain": [
       "userId      610\n",
       "movieId    9724\n",
       "rating       10\n",
       "dtype: int64"
      ]
     },
     "execution_count": 7,
     "metadata": {},
     "output_type": "execute_result"
    }
   ],
   "source": [
    "df_ratings.nunique()"
   ]
  },
  {
   "cell_type": "code",
   "execution_count": 39,
   "id": "c1f04b64",
   "metadata": {},
   "outputs": [
    {
     "data": {
      "image/png": "[encoded data removed]",
      "text/plain": [
       "<Figure size 576x432 with 1 Axes>"
      ]
     },
     "metadata": {
      "needs_background": "light"
     },
     "output_type": "display_data"
    }
   ],
   "source": [
    "plt.figure(figsize=(8,6))\n",
    "sns.barplot(x = df_ratings['rating'].value_counts(normalize=True).sort_index().index, y = df_ratings['rating'].value_counts(normalize=True).sort_index().values * 100, palette='PuOr')\n",
    "plt.xlabel('Ratings')\n",
    "plt.ylabel('Percentage(%)')\n",
    "plt.title('Movie Ratings')\n",
    "plt.savefig('../images/ratings.png', facecolor='w', transparent=False, dpi = 1000, bbox_inches='tight');"
   ]
  },
  {
   "cell_type": "markdown",
   "id": "5eb3081e",
   "metadata": {},
   "source": [
    "There are 9724 movies rated by 610 users. These ratings range from 0.5 to 5 in increments of 0.5. 4 is the most popular rating given by the users. "
   ]
  },
  {
   "cell_type": "markdown",
   "id": "b54a0213",
   "metadata": {},
   "source": [
    "### Movies Data"
   ]
  },
  {
   "cell_type": "code",
   "execution_count": 9,
   "id": "c942bcdd",
   "metadata": {},
   "outputs": [
    {
     "data": {
      "text/html": [
       "<div>\n",
       "<style scoped>\n",
       "    .dataframe tbody tr th:only-of-type {\n",
       "        vertical-align: middle;\n",
       "    }\n",
       "\n",
       "    .dataframe tbody tr th {\n",
       "        vertical-align: top;\n",
       "    }\n",
       "\n",
       "    .dataframe thead th {\n",
       "        text-align: right;\n",
       "    }\n",
       "</style>\n",
       "<table border=\"1\" class=\"dataframe\">\n",
       "  <thead>\n",
       "    <tr style=\"text-align: right;\">\n",
       "      <th></th>\n",
       "      <th>movieId</th>\n",
       "      <th>title</th>\n",
       "      <th>genres</th>\n",
       "    </tr>\n",
       "  </thead>\n",
       "  <tbody>\n",
       "    <tr>\n",
       "      <th>0</th>\n",
       "      <td>1</td>\n",
       "      <td>Toy Story (1995)</td>\n",
       "      <td>Adventure|Animation|Children|Comedy|Fantasy</td>\n",
       "    </tr>\n",
       "    <tr>\n",
       "      <th>1</th>\n",
       "      <td>2</td>\n",
       "      <td>Jumanji (1995)</td>\n",
       "      <td>Adventure|Children|Fantasy</td>\n",
       "    </tr>\n",
       "    <tr>\n",
       "      <th>2</th>\n",
       "      <td>3</td>\n",
       "      <td>Grumpier Old Men (1995)</td>\n",
       "      <td>Comedy|Romance</td>\n",
       "    </tr>\n",
       "    <tr>\n",
       "      <th>3</th>\n",
       "      <td>4</td>\n",
       "      <td>Waiting to Exhale (1995)</td>\n",
       "      <td>Comedy|Drama|Romance</td>\n",
       "    </tr>\n",
       "    <tr>\n",
       "      <th>4</th>\n",
       "      <td>5</td>\n",
       "      <td>Father of the Bride Part II (1995)</td>\n",
       "      <td>Comedy</td>\n",
       "    </tr>\n",
       "    <tr>\n",
       "      <th>...</th>\n",
       "      <td>...</td>\n",
       "      <td>...</td>\n",
       "      <td>...</td>\n",
       "    </tr>\n",
       "    <tr>\n",
       "      <th>9737</th>\n",
       "      <td>193581</td>\n",
       "      <td>Black Butler: Book of the Atlantic (2017)</td>\n",
       "      <td>Action|Animation|Comedy|Fantasy</td>\n",
       "    </tr>\n",
       "    <tr>\n",
       "      <th>9738</th>\n",
       "      <td>193583</td>\n",
       "      <td>No Game No Life: Zero (2017)</td>\n",
       "      <td>Animation|Comedy|Fantasy</td>\n",
       "    </tr>\n",
       "    <tr>\n",
       "      <th>9739</th>\n",
       "      <td>193585</td>\n",
       "      <td>Flint (2017)</td>\n",
       "      <td>Drama</td>\n",
       "    </tr>\n",
       "    <tr>\n",
       "      <th>9740</th>\n",
       "      <td>193587</td>\n",
       "      <td>Bungo Stray Dogs: Dead Apple (2018)</td>\n",
       "      <td>Action|Animation</td>\n",
       "    </tr>\n",
       "    <tr>\n",
       "      <th>9741</th>\n",
       "      <td>193609</td>\n",
       "      <td>Andrew Dice Clay: Dice Rules (1991)</td>\n",
       "      <td>Comedy</td>\n",
       "    </tr>\n",
       "  </tbody>\n",
       "</table>\n",
       "<p>9742 rows × 3 columns</p>\n",
       "</div>"
      ],
      "text/plain": [
       "      movieId                                      title  \\\n",
       "0           1                           Toy Story (1995)   \n",
       "1           2                             Jumanji (1995)   \n",
       "2           3                    Grumpier Old Men (1995)   \n",
       "3           4                   Waiting to Exhale (1995)   \n",
       "4           5         Father of the Bride Part II (1995)   \n",
       "...       ...                                        ...   \n",
       "9737   193581  Black Butler: Book of the Atlantic (2017)   \n",
       "9738   193583               No Game No Life: Zero (2017)   \n",
       "9739   193585                               Flint (2017)   \n",
       "9740   193587        Bungo Stray Dogs: Dead Apple (2018)   \n",
       "9741   193609        Andrew Dice Clay: Dice Rules (1991)   \n",
       "\n",
       "                                           genres  \n",
       "0     Adventure|Animation|Children|Comedy|Fantasy  \n",
       "1                      Adventure|Children|Fantasy  \n",
       "2                                  Comedy|Romance  \n",
       "3                            Comedy|Drama|Romance  \n",
       "4                                          Comedy  \n",
       "...                                           ...  \n",
       "9737              Action|Animation|Comedy|Fantasy  \n",
       "9738                     Animation|Comedy|Fantasy  \n",
       "9739                                        Drama  \n",
       "9740                             Action|Animation  \n",
       "9741                                       Comedy  \n",
       "\n",
       "[9742 rows x 3 columns]"
      ]
     },
     "execution_count": 9,
     "metadata": {},
     "output_type": "execute_result"
    }
   ],
   "source": [
    "df_movies = pd.read_csv('../data/movies.csv')\n",
    "df_movies"
   ]
  },
  {
   "cell_type": "code",
   "execution_count": 10,
   "id": "b40ff57e",
   "metadata": {},
   "outputs": [
    {
     "data": {
      "text/plain": [
       "movieId    0\n",
       "title      0\n",
       "genres     0\n",
       "dtype: int64"
      ]
     },
     "execution_count": 10,
     "metadata": {},
     "output_type": "execute_result"
    }
   ],
   "source": [
    "df_movies.isnull().sum()"
   ]
  },
  {
   "cell_type": "code",
   "execution_count": 11,
   "id": "01b153dd",
   "metadata": {},
   "outputs": [
    {
     "data": {
      "text/plain": [
       "movieId     int64\n",
       "title      object\n",
       "genres     object\n",
       "dtype: object"
      ]
     },
     "execution_count": 11,
     "metadata": {},
     "output_type": "execute_result"
    }
   ],
   "source": [
    "df_movies.dtypes"
   ]
  },
  {
   "cell_type": "code",
   "execution_count": 12,
   "id": "0f9b15a2",
   "metadata": {},
   "outputs": [
    {
     "data": {
      "text/plain": [
       "movieId    9742\n",
       "title      9737\n",
       "genres      951\n",
       "dtype: int64"
      ]
     },
     "execution_count": 12,
     "metadata": {},
     "output_type": "execute_result"
    }
   ],
   "source": [
    "df_movies.nunique()"
   ]
  },
  {
   "cell_type": "markdown",
   "id": "5740b089",
   "metadata": {},
   "source": [
    "There are 9742 unique movie IDs and 9737 unique movie titles. The dataset seems to have some movies that share title names. The movie titles also contain the year of release. The dataset also contains genres for each movie. "
   ]
  },
  {
   "cell_type": "code",
   "execution_count": 13,
   "id": "c0e940c8",
   "metadata": {},
   "outputs": [
    {
     "data": {
      "text/plain": [
       "0       1995\n",
       "1       1995\n",
       "2       1995\n",
       "3       1995\n",
       "4       1995\n",
       "        ... \n",
       "9737    2017\n",
       "9738    2017\n",
       "9739    2017\n",
       "9740    2018\n",
       "9741    1991\n",
       "Name: year, Length: 9742, dtype: object"
      ]
     },
     "execution_count": 13,
     "metadata": {},
     "output_type": "execute_result"
    }
   ],
   "source": [
    "#Extract the year out of the movie title\n",
    "df_movies['year'] = df_movies['title'].map(lambda x: x[-5:-1] if x[-5:-1].isnumeric() else (x[-6:-2] if x[-6:-2].isnumeric() else'0'))\n",
    "df_movies['year']"
   ]
  },
  {
   "cell_type": "code",
   "execution_count": 14,
   "id": "fd5ca922",
   "metadata": {},
   "outputs": [
    {
     "data": {
      "text/html": [
       "<div>\n",
       "<style scoped>\n",
       "    .dataframe tbody tr th:only-of-type {\n",
       "        vertical-align: middle;\n",
       "    }\n",
       "\n",
       "    .dataframe tbody tr th {\n",
       "        vertical-align: top;\n",
       "    }\n",
       "\n",
       "    .dataframe thead th {\n",
       "        text-align: right;\n",
       "    }\n",
       "</style>\n",
       "<table border=\"1\" class=\"dataframe\">\n",
       "  <thead>\n",
       "    <tr style=\"text-align: right;\">\n",
       "      <th></th>\n",
       "      <th>movieId</th>\n",
       "      <th>title</th>\n",
       "      <th>genres</th>\n",
       "      <th>year</th>\n",
       "    </tr>\n",
       "  </thead>\n",
       "  <tbody>\n",
       "    <tr>\n",
       "      <th>6059</th>\n",
       "      <td>40697</td>\n",
       "      <td>Babylon 5</td>\n",
       "      <td>Sci-Fi</td>\n",
       "      <td>0</td>\n",
       "    </tr>\n",
       "    <tr>\n",
       "      <th>9031</th>\n",
       "      <td>140956</td>\n",
       "      <td>Ready Player One</td>\n",
       "      <td>Action|Sci-Fi|Thriller</td>\n",
       "      <td>0</td>\n",
       "    </tr>\n",
       "    <tr>\n",
       "      <th>9091</th>\n",
       "      <td>143410</td>\n",
       "      <td>Hyena Road</td>\n",
       "      <td>(no genres listed)</td>\n",
       "      <td>0</td>\n",
       "    </tr>\n",
       "    <tr>\n",
       "      <th>9138</th>\n",
       "      <td>147250</td>\n",
       "      <td>The Adventures of Sherlock Holmes and Doctor W...</td>\n",
       "      <td>(no genres listed)</td>\n",
       "      <td>0</td>\n",
       "    </tr>\n",
       "    <tr>\n",
       "      <th>9179</th>\n",
       "      <td>149334</td>\n",
       "      <td>Nocturnal Animals</td>\n",
       "      <td>Drama|Thriller</td>\n",
       "      <td>0</td>\n",
       "    </tr>\n",
       "    <tr>\n",
       "      <th>9259</th>\n",
       "      <td>156605</td>\n",
       "      <td>Paterson</td>\n",
       "      <td>(no genres listed)</td>\n",
       "      <td>0</td>\n",
       "    </tr>\n",
       "    <tr>\n",
       "      <th>9367</th>\n",
       "      <td>162414</td>\n",
       "      <td>Moonlight</td>\n",
       "      <td>Drama</td>\n",
       "      <td>0</td>\n",
       "    </tr>\n",
       "    <tr>\n",
       "      <th>9448</th>\n",
       "      <td>167570</td>\n",
       "      <td>The OA</td>\n",
       "      <td>(no genres listed)</td>\n",
       "      <td>0</td>\n",
       "    </tr>\n",
       "    <tr>\n",
       "      <th>9514</th>\n",
       "      <td>171495</td>\n",
       "      <td>Cosmos</td>\n",
       "      <td>(no genres listed)</td>\n",
       "      <td>0</td>\n",
       "    </tr>\n",
       "    <tr>\n",
       "      <th>9515</th>\n",
       "      <td>171631</td>\n",
       "      <td>Maria Bamford: Old Baby</td>\n",
       "      <td>(no genres listed)</td>\n",
       "      <td>0</td>\n",
       "    </tr>\n",
       "    <tr>\n",
       "      <th>9525</th>\n",
       "      <td>171891</td>\n",
       "      <td>Generation Iron 2</td>\n",
       "      <td>(no genres listed)</td>\n",
       "      <td>0</td>\n",
       "    </tr>\n",
       "    <tr>\n",
       "      <th>9611</th>\n",
       "      <td>176601</td>\n",
       "      <td>Black Mirror</td>\n",
       "      <td>(no genres listed)</td>\n",
       "      <td>0</td>\n",
       "    </tr>\n",
       "  </tbody>\n",
       "</table>\n",
       "</div>"
      ],
      "text/plain": [
       "      movieId                                              title  \\\n",
       "6059    40697                                          Babylon 5   \n",
       "9031   140956                                   Ready Player One   \n",
       "9091   143410                                         Hyena Road   \n",
       "9138   147250  The Adventures of Sherlock Holmes and Doctor W...   \n",
       "9179   149334                                  Nocturnal Animals   \n",
       "9259   156605                                           Paterson   \n",
       "9367   162414                                          Moonlight   \n",
       "9448   167570                                             The OA   \n",
       "9514   171495                                             Cosmos   \n",
       "9515   171631                            Maria Bamford: Old Baby   \n",
       "9525   171891                                  Generation Iron 2   \n",
       "9611   176601                                       Black Mirror   \n",
       "\n",
       "                      genres year  \n",
       "6059                  Sci-Fi    0  \n",
       "9031  Action|Sci-Fi|Thriller    0  \n",
       "9091      (no genres listed)    0  \n",
       "9138      (no genres listed)    0  \n",
       "9179          Drama|Thriller    0  \n",
       "9259      (no genres listed)    0  \n",
       "9367                   Drama    0  \n",
       "9448      (no genres listed)    0  \n",
       "9514      (no genres listed)    0  \n",
       "9515      (no genres listed)    0  \n",
       "9525      (no genres listed)    0  \n",
       "9611      (no genres listed)    0  "
      ]
     },
     "execution_count": 14,
     "metadata": {},
     "output_type": "execute_result"
    }
   ],
   "source": [
    "df_movies[df_movies['year'] == '0']"
   ]
  },
  {
   "cell_type": "code",
   "execution_count": 15,
   "id": "46eb9e66",
   "metadata": {},
   "outputs": [
    {
     "data": {
      "image/png": "[encoded data removed]",
      "text/plain": [
       "<Figure size 1080x720 with 1 Axes>"
      ]
     },
     "metadata": {
      "needs_background": "light"
     },
     "output_type": "display_data"
    }
   ],
   "source": [
    "#Considered rows that do have year of release\n",
    "plt.figure(figsize=(15,10))\n",
    "df_movies[df_movies['year'] != '0']['year'].value_counts().sort_index(ascending=True).plot.bar(color='#2b1153')\n",
    "plt.xlabel('Years')\n",
    "plt.ylabel('Count')\n",
    "plt.title('Movie Count Over the Years');"
   ]
  },
  {
   "cell_type": "code",
   "execution_count": 16,
   "id": "3f135968",
   "metadata": {},
   "outputs": [
    {
     "data": {
      "text/html": [
       "<div>\n",
       "<style scoped>\n",
       "    .dataframe tbody tr th:only-of-type {\n",
       "        vertical-align: middle;\n",
       "    }\n",
       "\n",
       "    .dataframe tbody tr th {\n",
       "        vertical-align: top;\n",
       "    }\n",
       "\n",
       "    .dataframe thead th {\n",
       "        text-align: right;\n",
       "    }\n",
       "</style>\n",
       "<table border=\"1\" class=\"dataframe\">\n",
       "  <thead>\n",
       "    <tr style=\"text-align: right;\">\n",
       "      <th></th>\n",
       "      <th>userId</th>\n",
       "      <th>movieId</th>\n",
       "      <th>rating</th>\n",
       "      <th>title</th>\n",
       "      <th>genres</th>\n",
       "      <th>year</th>\n",
       "    </tr>\n",
       "  </thead>\n",
       "  <tbody>\n",
       "    <tr>\n",
       "      <th>0</th>\n",
       "      <td>1</td>\n",
       "      <td>1</td>\n",
       "      <td>4.0</td>\n",
       "      <td>Toy Story (1995)</td>\n",
       "      <td>Adventure|Animation|Children|Comedy|Fantasy</td>\n",
       "      <td>1995</td>\n",
       "    </tr>\n",
       "    <tr>\n",
       "      <th>1</th>\n",
       "      <td>5</td>\n",
       "      <td>1</td>\n",
       "      <td>4.0</td>\n",
       "      <td>Toy Story (1995)</td>\n",
       "      <td>Adventure|Animation|Children|Comedy|Fantasy</td>\n",
       "      <td>1995</td>\n",
       "    </tr>\n",
       "    <tr>\n",
       "      <th>2</th>\n",
       "      <td>7</td>\n",
       "      <td>1</td>\n",
       "      <td>4.5</td>\n",
       "      <td>Toy Story (1995)</td>\n",
       "      <td>Adventure|Animation|Children|Comedy|Fantasy</td>\n",
       "      <td>1995</td>\n",
       "    </tr>\n",
       "    <tr>\n",
       "      <th>3</th>\n",
       "      <td>15</td>\n",
       "      <td>1</td>\n",
       "      <td>2.5</td>\n",
       "      <td>Toy Story (1995)</td>\n",
       "      <td>Adventure|Animation|Children|Comedy|Fantasy</td>\n",
       "      <td>1995</td>\n",
       "    </tr>\n",
       "    <tr>\n",
       "      <th>4</th>\n",
       "      <td>17</td>\n",
       "      <td>1</td>\n",
       "      <td>4.5</td>\n",
       "      <td>Toy Story (1995)</td>\n",
       "      <td>Adventure|Animation|Children|Comedy|Fantasy</td>\n",
       "      <td>1995</td>\n",
       "    </tr>\n",
       "  </tbody>\n",
       "</table>\n",
       "</div>"
      ],
      "text/plain": [
       "   userId  movieId  rating             title  \\\n",
       "0       1        1     4.0  Toy Story (1995)   \n",
       "1       5        1     4.0  Toy Story (1995)   \n",
       "2       7        1     4.5  Toy Story (1995)   \n",
       "3      15        1     2.5  Toy Story (1995)   \n",
       "4      17        1     4.5  Toy Story (1995)   \n",
       "\n",
       "                                        genres  year  \n",
       "0  Adventure|Animation|Children|Comedy|Fantasy  1995  \n",
       "1  Adventure|Animation|Children|Comedy|Fantasy  1995  \n",
       "2  Adventure|Animation|Children|Comedy|Fantasy  1995  \n",
       "3  Adventure|Animation|Children|Comedy|Fantasy  1995  \n",
       "4  Adventure|Animation|Children|Comedy|Fantasy  1995  "
      ]
     },
     "execution_count": 16,
     "metadata": {},
     "output_type": "execute_result"
    }
   ],
   "source": [
    "#Combining data from movies dataset and ratings dataset. \n",
    "df = pd.merge(df_ratings, df_movies, left_on='movieId', right_on='movieId')\n",
    "df.head()"
   ]
  },
  {
   "cell_type": "code",
   "execution_count": 17,
   "id": "51b14b54",
   "metadata": {},
   "outputs": [
    {
     "data": {
      "text/plain": [
       "userId      610\n",
       "movieId    9724\n",
       "rating       10\n",
       "title      9719\n",
       "genres      951\n",
       "year        107\n",
       "dtype: int64"
      ]
     },
     "execution_count": 17,
     "metadata": {},
     "output_type": "execute_result"
    }
   ],
   "source": [
    "df.nunique()"
   ]
  },
  {
   "cell_type": "markdown",
   "id": "ed8a59db",
   "metadata": {},
   "source": [
    "Number of rated movies per user"
   ]
  },
  {
   "cell_type": "code",
   "execution_count": 18,
   "id": "4eb9715b",
   "metadata": {},
   "outputs": [
    {
     "data": {
      "text/plain": [
       "userId\n",
       "414    2698\n",
       "599    2478\n",
       "474    2108\n",
       "448    1864\n",
       "274    1346\n",
       "610    1302\n",
       "68     1260\n",
       "380    1218\n",
       "606    1115\n",
       "288    1055\n",
       "Name: rating, dtype: int64"
      ]
     },
     "execution_count": 18,
     "metadata": {},
     "output_type": "execute_result"
    }
   ],
   "source": [
    "#Top 10 users with most number of ratings\n",
    "df.groupby('userId')['rating'].count().sort_values(ascending=False).head(10)"
   ]
  },
  {
   "cell_type": "code",
   "execution_count": 19,
   "id": "b5ba96ee",
   "metadata": {},
   "outputs": [
    {
     "data": {
      "text/plain": [
       "userId\n",
       "147    20\n",
       "257    20\n",
       "406    20\n",
       "431    20\n",
       "278    20\n",
       "442    20\n",
       "569    20\n",
       "320    20\n",
       "576    20\n",
       "53     20\n",
       "Name: rating, dtype: int64"
      ]
     },
     "execution_count": 19,
     "metadata": {},
     "output_type": "execute_result"
    }
   ],
   "source": [
    "#Bottom 10 users with least number of ratings\n",
    "df.groupby('userId')['rating'].count().sort_values(ascending=False).tail(10)"
   ]
  },
  {
   "cell_type": "code",
   "execution_count": 20,
   "id": "69ef894a",
   "metadata": {},
   "outputs": [
    {
     "data": {
      "image/png": "[encoded data removed]",
      "text/plain": [
       "<Figure size 576x432 with 1 Axes>"
      ]
     },
     "metadata": {
      "needs_background": "light"
     },
     "output_type": "display_data"
    }
   ],
   "source": [
    "plt.figure(figsize=(8,6))\n",
    "plt.hist(df.groupby('userId')['rating'].mean(), color='#582f9a', bins=50, rwidth=0.8, label='Users Average Rating')\n",
    "plt.axvline(df['rating'].mean(), color = '#ee7043', label = 'Mean Rating')\n",
    "plt.xlabel('Average Ratings')\n",
    "plt.ylabel('Count')\n",
    "plt.title('Average User Ratings')\n",
    "plt.legend()\n",
    "plt.savefig('../images/average_rating.png', facecolor='w', transparent=False, dpi = 1000, bbox_inches='tight');"
   ]
  },
  {
   "cell_type": "markdown",
   "id": "14995079",
   "metadata": {},
   "source": [
    "The following plot shows number of ratings per movie. The x-axis comprises of movieIds ordered by the number of ratings recieved by each movie. As it is the ordered count of ratings per movie that matters and not the order of movie, th ex-axis has been left blank.   "
   ]
  },
  {
   "cell_type": "code",
   "execution_count": 21,
   "id": "64893b15",
   "metadata": {},
   "outputs": [
    {
     "data": {
      "image/png": "[encoded data removed]",
      "text/plain": [
       "<Figure size 576x432 with 1 Axes>"
      ]
     },
     "metadata": {
      "needs_background": "light"
     },
     "output_type": "display_data"
    }
   ],
   "source": [
    "plt.figure(figsize=(8,6))\n",
    "plt.plot(df.groupby('movieId')['rating'].count().sort_values(ascending=False).values, color ='#2b1153')\n",
    "plt.xlabel('Movies')  #Movie Ids not arranged in a particular way\n",
    "plt.ylabel('Ratings Count')\n",
    "plt.title('Ratings Per Movie')\n",
    "plt.xticks([])\n",
    "plt.savefig('../images/ratings_per_movie.png', facecolor='w', transparent=False, dpi = 1000, bbox_inches='tight');"
   ]
  },
  {
   "cell_type": "markdown",
   "id": "e3ae820b",
   "metadata": {},
   "source": [
    "The plot above shows that there are less number of movies with more number of ratings and more number of movies with very few ratings. "
   ]
  },
  {
   "cell_type": "markdown",
   "id": "79b3c62e",
   "metadata": {},
   "source": [
    "Extract the genres from each movie and create columns of genre. "
   ]
  },
  {
   "cell_type": "code",
   "execution_count": 22,
   "id": "e191f8ac",
   "metadata": {},
   "outputs": [
    {
     "data": {
      "text/plain": [
       "Index(['(no genres listed)', 'Action', 'Adventure', 'Animation', 'Children',\n",
       "       'Comedy', 'Crime', 'Documentary', 'Drama', 'Fantasy', 'Film-Noir',\n",
       "       'Horror', 'IMAX', 'Musical', 'Mystery', 'Romance', 'Sci-Fi', 'Thriller',\n",
       "       'War', 'Western'],\n",
       "      dtype='object')"
      ]
     },
     "execution_count": 22,
     "metadata": {},
     "output_type": "execute_result"
    }
   ],
   "source": [
    "df['genres'].str.get_dummies().columns"
   ]
  },
  {
   "cell_type": "markdown",
   "id": "f7961e90",
   "metadata": {},
   "source": [
    "There are movies with IMAX as a genre. IMAX is not really a genre, it is a movie viewing experience. As the goal of the project is to come up with recommendations on streaming services, IMAX doesn't particularly hold a value here. "
   ]
  },
  {
   "cell_type": "code",
   "execution_count": 23,
   "id": "3189615b",
   "metadata": {},
   "outputs": [
    {
     "data": {
      "text/plain": [
       "Action|Adventure|Animation|Children|Comedy|IMAX           30\n",
       "Action|Adventure|Animation|Children|Comedy|Sci-Fi|IMAX     1\n",
       "Action|Adventure|Animation|Fantasy|IMAX                    8\n",
       "Action|Adventure|Children|IMAX                            16\n",
       "Action|Adventure|Comedy|Sci-Fi|IMAX                        1\n",
       "                                                          ..\n",
       "Horror|IMAX                                                6\n",
       "Horror|Thriller|IMAX                                       1\n",
       "Mystery|Sci-Fi|Thriller|IMAX                              21\n",
       "Sci-Fi|IMAX                                               73\n",
       "Sci-Fi|Thriller|IMAX                                      12\n",
       "Name: genres, Length: 91, dtype: int64"
      ]
     },
     "execution_count": 23,
     "metadata": {},
     "output_type": "execute_result"
    }
   ],
   "source": [
    "df[df['genres'].str.contains('IMAX')]['genres'].value_counts().sort_index()"
   ]
  },
  {
   "cell_type": "markdown",
   "id": "3442202f",
   "metadata": {},
   "source": [
    "Based on the observation above, none of the movies have just `IMAX` as a genre. SO if we were to remove IMAX from the genres column, we would not be loosing any information.  "
   ]
  },
  {
   "cell_type": "code",
   "execution_count": 24,
   "id": "ee3a489a",
   "metadata": {},
   "outputs": [],
   "source": [
    "df['genres'] = df['genres'].str.replace('IMAX','', regex=True)"
   ]
  },
  {
   "cell_type": "code",
   "execution_count": 25,
   "id": "0c003001-fd4a-414c-886a-27f7c3f75d30",
   "metadata": {},
   "outputs": [],
   "source": [
    "#Saving dataframe to csv\n",
    "df.to_csv('../data/ratings_title.csv', index=False)"
   ]
  },
  {
   "cell_type": "code",
   "execution_count": 26,
   "id": "c11bd5ee-72d6-4343-a47b-44267b734e33",
   "metadata": {},
   "outputs": [
    {
     "data": {
      "text/plain": [
       "userId     0\n",
       "movieId    0\n",
       "rating     0\n",
       "title      0\n",
       "genres     0\n",
       "year       0\n",
       "dtype: int64"
      ]
     },
     "execution_count": 26,
     "metadata": {},
     "output_type": "execute_result"
    }
   ],
   "source": [
    "df.isnull().sum()"
   ]
  },
  {
   "cell_type": "code",
   "execution_count": 27,
   "id": "f37726eb-c02a-490b-8ce9-be5ed8c1a612",
   "metadata": {},
   "outputs": [
    {
     "data": {
      "text/html": [
       "<div>\n",
       "<style scoped>\n",
       "    .dataframe tbody tr th:only-of-type {\n",
       "        vertical-align: middle;\n",
       "    }\n",
       "\n",
       "    .dataframe tbody tr th {\n",
       "        vertical-align: top;\n",
       "    }\n",
       "\n",
       "    .dataframe thead th {\n",
       "        text-align: right;\n",
       "    }\n",
       "</style>\n",
       "<table border=\"1\" class=\"dataframe\">\n",
       "  <thead>\n",
       "    <tr style=\"text-align: right;\">\n",
       "      <th></th>\n",
       "      <th>movieId</th>\n",
       "      <th>title</th>\n",
       "      <th>genres</th>\n",
       "      <th>year</th>\n",
       "    </tr>\n",
       "  </thead>\n",
       "  <tbody>\n",
       "    <tr>\n",
       "      <th>123</th>\n",
       "      <td>150</td>\n",
       "      <td>Apollo 13 (1995)</td>\n",
       "      <td>Adventure|Drama|IMAX</td>\n",
       "      <td>1995</td>\n",
       "    </tr>\n",
       "    <tr>\n",
       "      <th>322</th>\n",
       "      <td>364</td>\n",
       "      <td>Lion King, The (1994)</td>\n",
       "      <td>Adventure|Animation|Children|Drama|Musical|IMAX</td>\n",
       "      <td>1994</td>\n",
       "    </tr>\n",
       "    <tr>\n",
       "      <th>512</th>\n",
       "      <td>595</td>\n",
       "      <td>Beauty and the Beast (1991)</td>\n",
       "      <td>Animation|Children|Fantasy|Musical|Romance|IMAX</td>\n",
       "      <td>1991</td>\n",
       "    </tr>\n",
       "    <tr>\n",
       "      <th>1328</th>\n",
       "      <td>1797</td>\n",
       "      <td>Everest (1998)</td>\n",
       "      <td>Documentary|IMAX</td>\n",
       "      <td>1998</td>\n",
       "    </tr>\n",
       "    <tr>\n",
       "      <th>2381</th>\n",
       "      <td>3159</td>\n",
       "      <td>Fantasia 2000 (1999)</td>\n",
       "      <td>Animation|Children|Musical|IMAX</td>\n",
       "      <td>1999</td>\n",
       "    </tr>\n",
       "    <tr>\n",
       "      <th>...</th>\n",
       "      <td>...</td>\n",
       "      <td>...</td>\n",
       "      <td>...</td>\n",
       "      <td>...</td>\n",
       "    </tr>\n",
       "    <tr>\n",
       "      <th>8426</th>\n",
       "      <td>111364</td>\n",
       "      <td>Godzilla (2014)</td>\n",
       "      <td>Action|Adventure|Sci-Fi|IMAX</td>\n",
       "      <td>2014</td>\n",
       "    </tr>\n",
       "    <tr>\n",
       "      <th>8433</th>\n",
       "      <td>111659</td>\n",
       "      <td>Maleficent (2014)</td>\n",
       "      <td>Action|Adventure|Children|IMAX</td>\n",
       "      <td>2014</td>\n",
       "    </tr>\n",
       "    <tr>\n",
       "      <th>8438</th>\n",
       "      <td>111759</td>\n",
       "      <td>Edge of Tomorrow (2014)</td>\n",
       "      <td>Action|Sci-Fi|IMAX</td>\n",
       "      <td>2014</td>\n",
       "    </tr>\n",
       "    <tr>\n",
       "      <th>8564</th>\n",
       "      <td>116529</td>\n",
       "      <td>Stalingrad (2013)</td>\n",
       "      <td>Action|Drama|War|IMAX</td>\n",
       "      <td>2013</td>\n",
       "    </tr>\n",
       "    <tr>\n",
       "      <th>8683</th>\n",
       "      <td>122886</td>\n",
       "      <td>Star Wars: Episode VII - The Force Awakens (2015)</td>\n",
       "      <td>Action|Adventure|Fantasy|Sci-Fi|IMAX</td>\n",
       "      <td>2015</td>\n",
       "    </tr>\n",
       "  </tbody>\n",
       "</table>\n",
       "<p>158 rows × 4 columns</p>\n",
       "</div>"
      ],
      "text/plain": [
       "      movieId                                              title  \\\n",
       "123       150                                   Apollo 13 (1995)   \n",
       "322       364                              Lion King, The (1994)   \n",
       "512       595                        Beauty and the Beast (1991)   \n",
       "1328     1797                                     Everest (1998)   \n",
       "2381     3159                               Fantasia 2000 (1999)   \n",
       "...       ...                                                ...   \n",
       "8426   111364                                    Godzilla (2014)   \n",
       "8433   111659                                  Maleficent (2014)   \n",
       "8438   111759                            Edge of Tomorrow (2014)   \n",
       "8564   116529                                  Stalingrad (2013)   \n",
       "8683   122886  Star Wars: Episode VII - The Force Awakens (2015)   \n",
       "\n",
       "                                               genres  year  \n",
       "123                              Adventure|Drama|IMAX  1995  \n",
       "322   Adventure|Animation|Children|Drama|Musical|IMAX  1994  \n",
       "512   Animation|Children|Fantasy|Musical|Romance|IMAX  1991  \n",
       "1328                                 Documentary|IMAX  1998  \n",
       "2381                  Animation|Children|Musical|IMAX  1999  \n",
       "...                                               ...   ...  \n",
       "8426                     Action|Adventure|Sci-Fi|IMAX  2014  \n",
       "8433                   Action|Adventure|Children|IMAX  2014  \n",
       "8438                               Action|Sci-Fi|IMAX  2014  \n",
       "8564                            Action|Drama|War|IMAX  2013  \n",
       "8683             Action|Adventure|Fantasy|Sci-Fi|IMAX  2015  \n",
       "\n",
       "[158 rows x 4 columns]"
      ]
     },
     "execution_count": 27,
     "metadata": {},
     "output_type": "execute_result"
    }
   ],
   "source": [
    "df_movies[df_movies['genres'].str.contains('IMAX')]"
   ]
  },
  {
   "cell_type": "code",
   "execution_count": 28,
   "id": "f5a01d2e-eb6d-434b-9991-1777f0889832",
   "metadata": {},
   "outputs": [],
   "source": [
    "df_movies['genres'] = df_movies['genres'].str.replace('IMAX','', regex=True)"
   ]
  },
  {
   "cell_type": "code",
   "execution_count": 29,
   "id": "d5196cdd",
   "metadata": {},
   "outputs": [
    {
     "data": {
      "text/html": [
       "<div>\n",
       "<style scoped>\n",
       "    .dataframe tbody tr th:only-of-type {\n",
       "        vertical-align: middle;\n",
       "    }\n",
       "\n",
       "    .dataframe tbody tr th {\n",
       "        vertical-align: top;\n",
       "    }\n",
       "\n",
       "    .dataframe thead th {\n",
       "        text-align: right;\n",
       "    }\n",
       "</style>\n",
       "<table border=\"1\" class=\"dataframe\">\n",
       "  <thead>\n",
       "    <tr style=\"text-align: right;\">\n",
       "      <th></th>\n",
       "      <th>(no genres listed)</th>\n",
       "      <th>Action</th>\n",
       "      <th>Adventure</th>\n",
       "      <th>Animation</th>\n",
       "      <th>Children</th>\n",
       "      <th>Comedy</th>\n",
       "      <th>Crime</th>\n",
       "      <th>Documentary</th>\n",
       "      <th>Drama</th>\n",
       "      <th>Fantasy</th>\n",
       "      <th>Film-Noir</th>\n",
       "      <th>Horror</th>\n",
       "      <th>Musical</th>\n",
       "      <th>Mystery</th>\n",
       "      <th>Romance</th>\n",
       "      <th>Sci-Fi</th>\n",
       "      <th>Thriller</th>\n",
       "      <th>War</th>\n",
       "      <th>Western</th>\n",
       "    </tr>\n",
       "  </thead>\n",
       "  <tbody>\n",
       "    <tr>\n",
       "      <th>0</th>\n",
       "      <td>0</td>\n",
       "      <td>0</td>\n",
       "      <td>1</td>\n",
       "      <td>1</td>\n",
       "      <td>1</td>\n",
       "      <td>1</td>\n",
       "      <td>0</td>\n",
       "      <td>0</td>\n",
       "      <td>0</td>\n",
       "      <td>1</td>\n",
       "      <td>0</td>\n",
       "      <td>0</td>\n",
       "      <td>0</td>\n",
       "      <td>0</td>\n",
       "      <td>0</td>\n",
       "      <td>0</td>\n",
       "      <td>0</td>\n",
       "      <td>0</td>\n",
       "      <td>0</td>\n",
       "    </tr>\n",
       "    <tr>\n",
       "      <th>1</th>\n",
       "      <td>0</td>\n",
       "      <td>0</td>\n",
       "      <td>1</td>\n",
       "      <td>1</td>\n",
       "      <td>1</td>\n",
       "      <td>1</td>\n",
       "      <td>0</td>\n",
       "      <td>0</td>\n",
       "      <td>0</td>\n",
       "      <td>1</td>\n",
       "      <td>0</td>\n",
       "      <td>0</td>\n",
       "      <td>0</td>\n",
       "      <td>0</td>\n",
       "      <td>0</td>\n",
       "      <td>0</td>\n",
       "      <td>0</td>\n",
       "      <td>0</td>\n",
       "      <td>0</td>\n",
       "    </tr>\n",
       "    <tr>\n",
       "      <th>2</th>\n",
       "      <td>0</td>\n",
       "      <td>0</td>\n",
       "      <td>1</td>\n",
       "      <td>1</td>\n",
       "      <td>1</td>\n",
       "      <td>1</td>\n",
       "      <td>0</td>\n",
       "      <td>0</td>\n",
       "      <td>0</td>\n",
       "      <td>1</td>\n",
       "      <td>0</td>\n",
       "      <td>0</td>\n",
       "      <td>0</td>\n",
       "      <td>0</td>\n",
       "      <td>0</td>\n",
       "      <td>0</td>\n",
       "      <td>0</td>\n",
       "      <td>0</td>\n",
       "      <td>0</td>\n",
       "    </tr>\n",
       "    <tr>\n",
       "      <th>3</th>\n",
       "      <td>0</td>\n",
       "      <td>0</td>\n",
       "      <td>1</td>\n",
       "      <td>1</td>\n",
       "      <td>1</td>\n",
       "      <td>1</td>\n",
       "      <td>0</td>\n",
       "      <td>0</td>\n",
       "      <td>0</td>\n",
       "      <td>1</td>\n",
       "      <td>0</td>\n",
       "      <td>0</td>\n",
       "      <td>0</td>\n",
       "      <td>0</td>\n",
       "      <td>0</td>\n",
       "      <td>0</td>\n",
       "      <td>0</td>\n",
       "      <td>0</td>\n",
       "      <td>0</td>\n",
       "    </tr>\n",
       "    <tr>\n",
       "      <th>4</th>\n",
       "      <td>0</td>\n",
       "      <td>0</td>\n",
       "      <td>1</td>\n",
       "      <td>1</td>\n",
       "      <td>1</td>\n",
       "      <td>1</td>\n",
       "      <td>0</td>\n",
       "      <td>0</td>\n",
       "      <td>0</td>\n",
       "      <td>1</td>\n",
       "      <td>0</td>\n",
       "      <td>0</td>\n",
       "      <td>0</td>\n",
       "      <td>0</td>\n",
       "      <td>0</td>\n",
       "      <td>0</td>\n",
       "      <td>0</td>\n",
       "      <td>0</td>\n",
       "      <td>0</td>\n",
       "    </tr>\n",
       "    <tr>\n",
       "      <th>...</th>\n",
       "      <td>...</td>\n",
       "      <td>...</td>\n",
       "      <td>...</td>\n",
       "      <td>...</td>\n",
       "      <td>...</td>\n",
       "      <td>...</td>\n",
       "      <td>...</td>\n",
       "      <td>...</td>\n",
       "      <td>...</td>\n",
       "      <td>...</td>\n",
       "      <td>...</td>\n",
       "      <td>...</td>\n",
       "      <td>...</td>\n",
       "      <td>...</td>\n",
       "      <td>...</td>\n",
       "      <td>...</td>\n",
       "      <td>...</td>\n",
       "      <td>...</td>\n",
       "      <td>...</td>\n",
       "    </tr>\n",
       "    <tr>\n",
       "      <th>100831</th>\n",
       "      <td>0</td>\n",
       "      <td>1</td>\n",
       "      <td>0</td>\n",
       "      <td>0</td>\n",
       "      <td>0</td>\n",
       "      <td>0</td>\n",
       "      <td>0</td>\n",
       "      <td>0</td>\n",
       "      <td>0</td>\n",
       "      <td>0</td>\n",
       "      <td>0</td>\n",
       "      <td>0</td>\n",
       "      <td>0</td>\n",
       "      <td>0</td>\n",
       "      <td>0</td>\n",
       "      <td>0</td>\n",
       "      <td>1</td>\n",
       "      <td>0</td>\n",
       "      <td>0</td>\n",
       "    </tr>\n",
       "    <tr>\n",
       "      <th>100832</th>\n",
       "      <td>0</td>\n",
       "      <td>1</td>\n",
       "      <td>0</td>\n",
       "      <td>0</td>\n",
       "      <td>0</td>\n",
       "      <td>0</td>\n",
       "      <td>1</td>\n",
       "      <td>0</td>\n",
       "      <td>1</td>\n",
       "      <td>0</td>\n",
       "      <td>0</td>\n",
       "      <td>0</td>\n",
       "      <td>0</td>\n",
       "      <td>0</td>\n",
       "      <td>0</td>\n",
       "      <td>0</td>\n",
       "      <td>0</td>\n",
       "      <td>0</td>\n",
       "      <td>0</td>\n",
       "    </tr>\n",
       "    <tr>\n",
       "      <th>100833</th>\n",
       "      <td>0</td>\n",
       "      <td>1</td>\n",
       "      <td>0</td>\n",
       "      <td>0</td>\n",
       "      <td>0</td>\n",
       "      <td>0</td>\n",
       "      <td>0</td>\n",
       "      <td>0</td>\n",
       "      <td>1</td>\n",
       "      <td>0</td>\n",
       "      <td>0</td>\n",
       "      <td>0</td>\n",
       "      <td>0</td>\n",
       "      <td>0</td>\n",
       "      <td>0</td>\n",
       "      <td>0</td>\n",
       "      <td>1</td>\n",
       "      <td>0</td>\n",
       "      <td>0</td>\n",
       "    </tr>\n",
       "    <tr>\n",
       "      <th>100834</th>\n",
       "      <td>0</td>\n",
       "      <td>0</td>\n",
       "      <td>0</td>\n",
       "      <td>0</td>\n",
       "      <td>0</td>\n",
       "      <td>0</td>\n",
       "      <td>0</td>\n",
       "      <td>0</td>\n",
       "      <td>0</td>\n",
       "      <td>0</td>\n",
       "      <td>0</td>\n",
       "      <td>1</td>\n",
       "      <td>0</td>\n",
       "      <td>0</td>\n",
       "      <td>0</td>\n",
       "      <td>0</td>\n",
       "      <td>1</td>\n",
       "      <td>0</td>\n",
       "      <td>0</td>\n",
       "    </tr>\n",
       "    <tr>\n",
       "      <th>100835</th>\n",
       "      <td>0</td>\n",
       "      <td>0</td>\n",
       "      <td>0</td>\n",
       "      <td>0</td>\n",
       "      <td>0</td>\n",
       "      <td>0</td>\n",
       "      <td>0</td>\n",
       "      <td>0</td>\n",
       "      <td>0</td>\n",
       "      <td>0</td>\n",
       "      <td>0</td>\n",
       "      <td>1</td>\n",
       "      <td>0</td>\n",
       "      <td>0</td>\n",
       "      <td>0</td>\n",
       "      <td>0</td>\n",
       "      <td>0</td>\n",
       "      <td>0</td>\n",
       "      <td>0</td>\n",
       "    </tr>\n",
       "  </tbody>\n",
       "</table>\n",
       "<p>100836 rows × 19 columns</p>\n",
       "</div>"
      ],
      "text/plain": [
       "        (no genres listed)  Action  Adventure  Animation  Children  Comedy  \\\n",
       "0                        0       0          1          1         1       1   \n",
       "1                        0       0          1          1         1       1   \n",
       "2                        0       0          1          1         1       1   \n",
       "3                        0       0          1          1         1       1   \n",
       "4                        0       0          1          1         1       1   \n",
       "...                    ...     ...        ...        ...       ...     ...   \n",
       "100831                   0       1          0          0         0       0   \n",
       "100832                   0       1          0          0         0       0   \n",
       "100833                   0       1          0          0         0       0   \n",
       "100834                   0       0          0          0         0       0   \n",
       "100835                   0       0          0          0         0       0   \n",
       "\n",
       "        Crime  Documentary  Drama  Fantasy  Film-Noir  Horror  Musical  \\\n",
       "0           0            0      0        1          0       0        0   \n",
       "1           0            0      0        1          0       0        0   \n",
       "2           0            0      0        1          0       0        0   \n",
       "3           0            0      0        1          0       0        0   \n",
       "4           0            0      0        1          0       0        0   \n",
       "...       ...          ...    ...      ...        ...     ...      ...   \n",
       "100831      0            0      0        0          0       0        0   \n",
       "100832      1            0      1        0          0       0        0   \n",
       "100833      0            0      1        0          0       0        0   \n",
       "100834      0            0      0        0          0       1        0   \n",
       "100835      0            0      0        0          0       1        0   \n",
       "\n",
       "        Mystery  Romance  Sci-Fi  Thriller  War  Western  \n",
       "0             0        0       0         0    0        0  \n",
       "1             0        0       0         0    0        0  \n",
       "2             0        0       0         0    0        0  \n",
       "3             0        0       0         0    0        0  \n",
       "4             0        0       0         0    0        0  \n",
       "...         ...      ...     ...       ...  ...      ...  \n",
       "100831        0        0       0         1    0        0  \n",
       "100832        0        0       0         0    0        0  \n",
       "100833        0        0       0         1    0        0  \n",
       "100834        0        0       0         1    0        0  \n",
       "100835        0        0       0         0    0        0  \n",
       "\n",
       "[100836 rows x 19 columns]"
      ]
     },
     "execution_count": 29,
     "metadata": {},
     "output_type": "execute_result"
    }
   ],
   "source": [
    "#One Hot Encoding genres column\n",
    "df_genre = df['genres'].str.get_dummies()\n",
    "df_genre"
   ]
  },
  {
   "cell_type": "code",
   "execution_count": 30,
   "id": "2c579e43",
   "metadata": {},
   "outputs": [
    {
     "data": {
      "text/plain": [
       "Drama                 41928\n",
       "Comedy                39053\n",
       "Action                30635\n",
       "Thriller              26452\n",
       "Adventure             24161\n",
       "Romance               18124\n",
       "Sci-Fi                17243\n",
       "Crime                 16681\n",
       "Fantasy               11834\n",
       "Children               9208\n",
       "Mystery                7674\n",
       "Horror                 7291\n",
       "Animation              6988\n",
       "War                    4859\n",
       "Musical                4138\n",
       "Western                1930\n",
       "Documentary            1219\n",
       "Film-Noir               870\n",
       "(no genres listed)       47\n",
       "dtype: int64"
      ]
     },
     "execution_count": 30,
     "metadata": {},
     "output_type": "execute_result"
    }
   ],
   "source": [
    "genres = df_genre.sum().sort_values(ascending=False)\n",
    "genres"
   ]
  },
  {
   "cell_type": "code",
   "execution_count": 31,
   "id": "970e5cab",
   "metadata": {},
   "outputs": [
    {
     "data": {
      "image/png": "[encoded data removed]",
      "text/plain": [
       "<Figure size 576x432 with 1 Axes>"
      ]
     },
     "metadata": {
      "needs_background": "light"
     },
     "output_type": "display_data"
    }
   ],
   "source": [
    "#Number of ratings per genre\n",
    "plt.figure(figsize=(8,6))\n",
    "sns.barplot(y = genres.index[:-1], x = genres.values[:-1], palette='PuOr_r')\n",
    "plt.title('Genre Popularity by Ratings')\n",
    "plt.xlabel('Number of Ratings')\n",
    "plt.ylabel('Genre')\n",
    "plt.savefig('../images/genre_popularity', facecolor='w', transparent=False, dpi = 1000, bbox_inches='tight');"
   ]
  },
  {
   "cell_type": "code",
   "execution_count": 32,
   "id": "a2bb5cd1",
   "metadata": {},
   "outputs": [
    {
     "data": {
      "text/plain": [
       "Index(['(no genres listed)', 'Action', 'Adventure', 'Animation', 'Children',\n",
       "       'Comedy', 'Crime', 'Documentary', 'Drama', 'Fantasy', 'Film-Noir',\n",
       "       'Horror', 'Musical', 'Mystery', 'Romance', 'Sci-Fi', 'Thriller', 'War',\n",
       "       'Western'],\n",
       "      dtype='object')"
      ]
     },
     "execution_count": 32,
     "metadata": {},
     "output_type": "execute_result"
    }
   ],
   "source": [
    "df_genre.columns"
   ]
  },
  {
   "cell_type": "code",
   "execution_count": 33,
   "id": "476c7da9",
   "metadata": {},
   "outputs": [],
   "source": [
    "#Scale the genre columns per the rating give by the users\n",
    "for column in df_genre.columns:\n",
    "    df_genre[column] *= df['rating']"
   ]
  },
  {
   "cell_type": "code",
   "execution_count": 34,
   "id": "76090fb0",
   "metadata": {},
   "outputs": [
    {
     "data": {
      "text/html": [
       "<div>\n",
       "<style scoped>\n",
       "    .dataframe tbody tr th:only-of-type {\n",
       "        vertical-align: middle;\n",
       "    }\n",
       "\n",
       "    .dataframe tbody tr th {\n",
       "        vertical-align: top;\n",
       "    }\n",
       "\n",
       "    .dataframe thead th {\n",
       "        text-align: right;\n",
       "    }\n",
       "</style>\n",
       "<table border=\"1\" class=\"dataframe\">\n",
       "  <thead>\n",
       "    <tr style=\"text-align: right;\">\n",
       "      <th></th>\n",
       "      <th>(no genres listed)</th>\n",
       "      <th>Action</th>\n",
       "      <th>Adventure</th>\n",
       "      <th>Animation</th>\n",
       "      <th>Children</th>\n",
       "      <th>Comedy</th>\n",
       "      <th>Crime</th>\n",
       "      <th>Documentary</th>\n",
       "      <th>Drama</th>\n",
       "      <th>Fantasy</th>\n",
       "      <th>Film-Noir</th>\n",
       "      <th>Horror</th>\n",
       "      <th>Musical</th>\n",
       "      <th>Mystery</th>\n",
       "      <th>Romance</th>\n",
       "      <th>Sci-Fi</th>\n",
       "      <th>Thriller</th>\n",
       "      <th>War</th>\n",
       "      <th>Western</th>\n",
       "    </tr>\n",
       "  </thead>\n",
       "  <tbody>\n",
       "    <tr>\n",
       "      <th>0</th>\n",
       "      <td>0.0</td>\n",
       "      <td>0.0</td>\n",
       "      <td>4.0</td>\n",
       "      <td>4.0</td>\n",
       "      <td>4.0</td>\n",
       "      <td>4.0</td>\n",
       "      <td>0.0</td>\n",
       "      <td>0.0</td>\n",
       "      <td>0.0</td>\n",
       "      <td>4.0</td>\n",
       "      <td>0.0</td>\n",
       "      <td>0.0</td>\n",
       "      <td>0.0</td>\n",
       "      <td>0.0</td>\n",
       "      <td>0.0</td>\n",
       "      <td>0.0</td>\n",
       "      <td>0.0</td>\n",
       "      <td>0.0</td>\n",
       "      <td>0.0</td>\n",
       "    </tr>\n",
       "    <tr>\n",
       "      <th>1</th>\n",
       "      <td>0.0</td>\n",
       "      <td>0.0</td>\n",
       "      <td>4.0</td>\n",
       "      <td>4.0</td>\n",
       "      <td>4.0</td>\n",
       "      <td>4.0</td>\n",
       "      <td>0.0</td>\n",
       "      <td>0.0</td>\n",
       "      <td>0.0</td>\n",
       "      <td>4.0</td>\n",
       "      <td>0.0</td>\n",
       "      <td>0.0</td>\n",
       "      <td>0.0</td>\n",
       "      <td>0.0</td>\n",
       "      <td>0.0</td>\n",
       "      <td>0.0</td>\n",
       "      <td>0.0</td>\n",
       "      <td>0.0</td>\n",
       "      <td>0.0</td>\n",
       "    </tr>\n",
       "    <tr>\n",
       "      <th>2</th>\n",
       "      <td>0.0</td>\n",
       "      <td>0.0</td>\n",
       "      <td>4.5</td>\n",
       "      <td>4.5</td>\n",
       "      <td>4.5</td>\n",
       "      <td>4.5</td>\n",
       "      <td>0.0</td>\n",
       "      <td>0.0</td>\n",
       "      <td>0.0</td>\n",
       "      <td>4.5</td>\n",
       "      <td>0.0</td>\n",
       "      <td>0.0</td>\n",
       "      <td>0.0</td>\n",
       "      <td>0.0</td>\n",
       "      <td>0.0</td>\n",
       "      <td>0.0</td>\n",
       "      <td>0.0</td>\n",
       "      <td>0.0</td>\n",
       "      <td>0.0</td>\n",
       "    </tr>\n",
       "    <tr>\n",
       "      <th>3</th>\n",
       "      <td>0.0</td>\n",
       "      <td>0.0</td>\n",
       "      <td>2.5</td>\n",
       "      <td>2.5</td>\n",
       "      <td>2.5</td>\n",
       "      <td>2.5</td>\n",
       "      <td>0.0</td>\n",
       "      <td>0.0</td>\n",
       "      <td>0.0</td>\n",
       "      <td>2.5</td>\n",
       "      <td>0.0</td>\n",
       "      <td>0.0</td>\n",
       "      <td>0.0</td>\n",
       "      <td>0.0</td>\n",
       "      <td>0.0</td>\n",
       "      <td>0.0</td>\n",
       "      <td>0.0</td>\n",
       "      <td>0.0</td>\n",
       "      <td>0.0</td>\n",
       "    </tr>\n",
       "    <tr>\n",
       "      <th>4</th>\n",
       "      <td>0.0</td>\n",
       "      <td>0.0</td>\n",
       "      <td>4.5</td>\n",
       "      <td>4.5</td>\n",
       "      <td>4.5</td>\n",
       "      <td>4.5</td>\n",
       "      <td>0.0</td>\n",
       "      <td>0.0</td>\n",
       "      <td>0.0</td>\n",
       "      <td>4.5</td>\n",
       "      <td>0.0</td>\n",
       "      <td>0.0</td>\n",
       "      <td>0.0</td>\n",
       "      <td>0.0</td>\n",
       "      <td>0.0</td>\n",
       "      <td>0.0</td>\n",
       "      <td>0.0</td>\n",
       "      <td>0.0</td>\n",
       "      <td>0.0</td>\n",
       "    </tr>\n",
       "    <tr>\n",
       "      <th>...</th>\n",
       "      <td>...</td>\n",
       "      <td>...</td>\n",
       "      <td>...</td>\n",
       "      <td>...</td>\n",
       "      <td>...</td>\n",
       "      <td>...</td>\n",
       "      <td>...</td>\n",
       "      <td>...</td>\n",
       "      <td>...</td>\n",
       "      <td>...</td>\n",
       "      <td>...</td>\n",
       "      <td>...</td>\n",
       "      <td>...</td>\n",
       "      <td>...</td>\n",
       "      <td>...</td>\n",
       "      <td>...</td>\n",
       "      <td>...</td>\n",
       "      <td>...</td>\n",
       "      <td>...</td>\n",
       "    </tr>\n",
       "    <tr>\n",
       "      <th>100831</th>\n",
       "      <td>0.0</td>\n",
       "      <td>2.5</td>\n",
       "      <td>0.0</td>\n",
       "      <td>0.0</td>\n",
       "      <td>0.0</td>\n",
       "      <td>0.0</td>\n",
       "      <td>0.0</td>\n",
       "      <td>0.0</td>\n",
       "      <td>0.0</td>\n",
       "      <td>0.0</td>\n",
       "      <td>0.0</td>\n",
       "      <td>0.0</td>\n",
       "      <td>0.0</td>\n",
       "      <td>0.0</td>\n",
       "      <td>0.0</td>\n",
       "      <td>0.0</td>\n",
       "      <td>2.5</td>\n",
       "      <td>0.0</td>\n",
       "      <td>0.0</td>\n",
       "    </tr>\n",
       "    <tr>\n",
       "      <th>100832</th>\n",
       "      <td>0.0</td>\n",
       "      <td>4.5</td>\n",
       "      <td>0.0</td>\n",
       "      <td>0.0</td>\n",
       "      <td>0.0</td>\n",
       "      <td>0.0</td>\n",
       "      <td>4.5</td>\n",
       "      <td>0.0</td>\n",
       "      <td>4.5</td>\n",
       "      <td>0.0</td>\n",
       "      <td>0.0</td>\n",
       "      <td>0.0</td>\n",
       "      <td>0.0</td>\n",
       "      <td>0.0</td>\n",
       "      <td>0.0</td>\n",
       "      <td>0.0</td>\n",
       "      <td>0.0</td>\n",
       "      <td>0.0</td>\n",
       "      <td>0.0</td>\n",
       "    </tr>\n",
       "    <tr>\n",
       "      <th>100833</th>\n",
       "      <td>0.0</td>\n",
       "      <td>3.0</td>\n",
       "      <td>0.0</td>\n",
       "      <td>0.0</td>\n",
       "      <td>0.0</td>\n",
       "      <td>0.0</td>\n",
       "      <td>0.0</td>\n",
       "      <td>0.0</td>\n",
       "      <td>3.0</td>\n",
       "      <td>0.0</td>\n",
       "      <td>0.0</td>\n",
       "      <td>0.0</td>\n",
       "      <td>0.0</td>\n",
       "      <td>0.0</td>\n",
       "      <td>0.0</td>\n",
       "      <td>0.0</td>\n",
       "      <td>3.0</td>\n",
       "      <td>0.0</td>\n",
       "      <td>0.0</td>\n",
       "    </tr>\n",
       "    <tr>\n",
       "      <th>100834</th>\n",
       "      <td>0.0</td>\n",
       "      <td>0.0</td>\n",
       "      <td>0.0</td>\n",
       "      <td>0.0</td>\n",
       "      <td>0.0</td>\n",
       "      <td>0.0</td>\n",
       "      <td>0.0</td>\n",
       "      <td>0.0</td>\n",
       "      <td>0.0</td>\n",
       "      <td>0.0</td>\n",
       "      <td>0.0</td>\n",
       "      <td>3.5</td>\n",
       "      <td>0.0</td>\n",
       "      <td>0.0</td>\n",
       "      <td>0.0</td>\n",
       "      <td>0.0</td>\n",
       "      <td>3.5</td>\n",
       "      <td>0.0</td>\n",
       "      <td>0.0</td>\n",
       "    </tr>\n",
       "    <tr>\n",
       "      <th>100835</th>\n",
       "      <td>0.0</td>\n",
       "      <td>0.0</td>\n",
       "      <td>0.0</td>\n",
       "      <td>0.0</td>\n",
       "      <td>0.0</td>\n",
       "      <td>0.0</td>\n",
       "      <td>0.0</td>\n",
       "      <td>0.0</td>\n",
       "      <td>0.0</td>\n",
       "      <td>0.0</td>\n",
       "      <td>0.0</td>\n",
       "      <td>3.5</td>\n",
       "      <td>0.0</td>\n",
       "      <td>0.0</td>\n",
       "      <td>0.0</td>\n",
       "      <td>0.0</td>\n",
       "      <td>0.0</td>\n",
       "      <td>0.0</td>\n",
       "      <td>0.0</td>\n",
       "    </tr>\n",
       "  </tbody>\n",
       "</table>\n",
       "<p>100836 rows × 19 columns</p>\n",
       "</div>"
      ],
      "text/plain": [
       "        (no genres listed)  Action  Adventure  Animation  Children  Comedy  \\\n",
       "0                      0.0     0.0        4.0        4.0       4.0     4.0   \n",
       "1                      0.0     0.0        4.0        4.0       4.0     4.0   \n",
       "2                      0.0     0.0        4.5        4.5       4.5     4.5   \n",
       "3                      0.0     0.0        2.5        2.5       2.5     2.5   \n",
       "4                      0.0     0.0        4.5        4.5       4.5     4.5   \n",
       "...                    ...     ...        ...        ...       ...     ...   \n",
       "100831                 0.0     2.5        0.0        0.0       0.0     0.0   \n",
       "100832                 0.0     4.5        0.0        0.0       0.0     0.0   \n",
       "100833                 0.0     3.0        0.0        0.0       0.0     0.0   \n",
       "100834                 0.0     0.0        0.0        0.0       0.0     0.0   \n",
       "100835                 0.0     0.0        0.0        0.0       0.0     0.0   \n",
       "\n",
       "        Crime  Documentary  Drama  Fantasy  Film-Noir  Horror  Musical  \\\n",
       "0         0.0          0.0    0.0      4.0        0.0     0.0      0.0   \n",
       "1         0.0          0.0    0.0      4.0        0.0     0.0      0.0   \n",
       "2         0.0          0.0    0.0      4.5        0.0     0.0      0.0   \n",
       "3         0.0          0.0    0.0      2.5        0.0     0.0      0.0   \n",
       "4         0.0          0.0    0.0      4.5        0.0     0.0      0.0   \n",
       "...       ...          ...    ...      ...        ...     ...      ...   \n",
       "100831    0.0          0.0    0.0      0.0        0.0     0.0      0.0   \n",
       "100832    4.5          0.0    4.5      0.0        0.0     0.0      0.0   \n",
       "100833    0.0          0.0    3.0      0.0        0.0     0.0      0.0   \n",
       "100834    0.0          0.0    0.0      0.0        0.0     3.5      0.0   \n",
       "100835    0.0          0.0    0.0      0.0        0.0     3.5      0.0   \n",
       "\n",
       "        Mystery  Romance  Sci-Fi  Thriller  War  Western  \n",
       "0           0.0      0.0     0.0       0.0  0.0      0.0  \n",
       "1           0.0      0.0     0.0       0.0  0.0      0.0  \n",
       "2           0.0      0.0     0.0       0.0  0.0      0.0  \n",
       "3           0.0      0.0     0.0       0.0  0.0      0.0  \n",
       "4           0.0      0.0     0.0       0.0  0.0      0.0  \n",
       "...         ...      ...     ...       ...  ...      ...  \n",
       "100831      0.0      0.0     0.0       2.5  0.0      0.0  \n",
       "100832      0.0      0.0     0.0       0.0  0.0      0.0  \n",
       "100833      0.0      0.0     0.0       3.0  0.0      0.0  \n",
       "100834      0.0      0.0     0.0       3.5  0.0      0.0  \n",
       "100835      0.0      0.0     0.0       0.0  0.0      0.0  \n",
       "\n",
       "[100836 rows x 19 columns]"
      ]
     },
     "execution_count": 34,
     "metadata": {},
     "output_type": "execute_result"
    }
   ],
   "source": [
    "df_genre"
   ]
  },
  {
   "cell_type": "code",
   "execution_count": 35,
   "id": "4b9217d4",
   "metadata": {},
   "outputs": [],
   "source": [
    "ones = []\n",
    "twos = []\n",
    "threes = []\n",
    "fours = []\n",
    "fives = []\n",
    "for column in df_genre.drop(columns=['(no genres listed)']).columns:\n",
    "    ratings = df_genre[df_genre[column]!=0][column].value_counts(normalize=True).sort_index().values[1::2]\n",
    "    ones.append(ratings[0]*100)\n",
    "    twos.append(ratings[1]*100)\n",
    "    threes.append(ratings[2]*100)\n",
    "    fours.append(ratings[3]*100)\n",
    "    fives.append(ratings[4]*100)"
   ]
  },
  {
   "cell_type": "code",
   "execution_count": 37,
   "id": "c2a511e6",
   "metadata": {
    "scrolled": false
   },
   "outputs": [
    {
     "data": {
      "image/png": "[encoded data removed]",
      "text/plain": [
       "<Figure size 1080x432 with 1 Axes>"
      ]
     },
     "metadata": {
      "needs_background": "light"
     },
     "output_type": "display_data"
    },
    {
     "data": {
      "text/plain": [
       "<Figure size 432x288 with 0 Axes>"
      ]
     },
     "metadata": {},
     "output_type": "display_data"
    }
   ],
   "source": [
    "labels = df_genre.drop(columns=['(no genres listed)']).columns.tolist()\n",
    "\n",
    "x = np.arange(len(labels))  # the label locations\n",
    "width = 0.15  # the width of the bars\n",
    "\n",
    "fig, ax = plt.subplots(figsize=(15,6))\n",
    "rects1 = ax.bar(x - width*2, ones, width, label='Rating 1')\n",
    "rects2 = ax.bar(x - width, twos, width, label='Rating 2')\n",
    "rects3 = ax.bar(x, threes, width, label='Rating 3')\n",
    "rects4 = ax.bar(x + width, fours, width, label='Rating 4')\n",
    "rects5 = ax.bar(x + width*2, fives, width, label='Rating 5')\n",
    "\n",
    "# Add some text for labels, title and custom x-axis tick labels, etc.\n",
    "ax.set_ylabel('Percentages')\n",
    "#ax.set_title('Scores by group and gender')\n",
    "ax.set_xticks(x)\n",
    "ax.set_xticklabels(labels,rotation=45)\n",
    "ax.legend()\n",
    "\n",
    "fig.tight_layout()\n",
    "\n",
    "plt.show()\n",
    "plt.savefig('../images/ratings_per_genre.png');"
   ]
  },
  {
   "cell_type": "markdown",
   "id": "3327e000",
   "metadata": {},
   "source": [
    "### TMDB Movies Data"
   ]
  },
  {
   "cell_type": "code",
   "execution_count": 40,
   "id": "1d20369c",
   "metadata": {},
   "outputs": [
    {
     "data": {
      "text/html": [
       "<div>\n",
       "<style scoped>\n",
       "    .dataframe tbody tr th:only-of-type {\n",
       "        vertical-align: middle;\n",
       "    }\n",
       "\n",
       "    .dataframe tbody tr th {\n",
       "        vertical-align: top;\n",
       "    }\n",
       "\n",
       "    .dataframe thead th {\n",
       "        text-align: right;\n",
       "    }\n",
       "</style>\n",
       "<table border=\"1\" class=\"dataframe\">\n",
       "  <thead>\n",
       "    <tr style=\"text-align: right;\">\n",
       "      <th></th>\n",
       "      <th>adult</th>\n",
       "      <th>belongs_to_collection</th>\n",
       "      <th>budget</th>\n",
       "      <th>genres</th>\n",
       "      <th>homepage</th>\n",
       "      <th>id</th>\n",
       "      <th>imdb_id</th>\n",
       "      <th>original_language</th>\n",
       "      <th>original_title</th>\n",
       "      <th>overview</th>\n",
       "      <th>...</th>\n",
       "      <th>release_date</th>\n",
       "      <th>revenue</th>\n",
       "      <th>runtime</th>\n",
       "      <th>spoken_languages</th>\n",
       "      <th>status</th>\n",
       "      <th>tagline</th>\n",
       "      <th>title</th>\n",
       "      <th>video</th>\n",
       "      <th>vote_average</th>\n",
       "      <th>vote_count</th>\n",
       "    </tr>\n",
       "  </thead>\n",
       "  <tbody>\n",
       "    <tr>\n",
       "      <th>0</th>\n",
       "      <td>False</td>\n",
       "      <td>{'id': 10194, 'name': 'Toy Story Collection', ...</td>\n",
       "      <td>30000000</td>\n",
       "      <td>[{'id': 16, 'name': 'Animation'}, {'id': 35, '...</td>\n",
       "      <td>http://toystory.disney.com/toy-story</td>\n",
       "      <td>862</td>\n",
       "      <td>tt0114709</td>\n",
       "      <td>en</td>\n",
       "      <td>Toy Story</td>\n",
       "      <td>Led by Woody, Andy's toys live happily in his ...</td>\n",
       "      <td>...</td>\n",
       "      <td>1995-10-30</td>\n",
       "      <td>373554033.0</td>\n",
       "      <td>81.0</td>\n",
       "      <td>[{'iso_639_1': 'en', 'name': 'English'}]</td>\n",
       "      <td>Released</td>\n",
       "      <td>NaN</td>\n",
       "      <td>Toy Story</td>\n",
       "      <td>False</td>\n",
       "      <td>7.7</td>\n",
       "      <td>5415.0</td>\n",
       "    </tr>\n",
       "    <tr>\n",
       "      <th>1</th>\n",
       "      <td>False</td>\n",
       "      <td>NaN</td>\n",
       "      <td>65000000</td>\n",
       "      <td>[{'id': 12, 'name': 'Adventure'}, {'id': 14, '...</td>\n",
       "      <td>NaN</td>\n",
       "      <td>8844</td>\n",
       "      <td>tt0113497</td>\n",
       "      <td>en</td>\n",
       "      <td>Jumanji</td>\n",
       "      <td>When siblings Judy and Peter discover an encha...</td>\n",
       "      <td>...</td>\n",
       "      <td>1995-12-15</td>\n",
       "      <td>262797249.0</td>\n",
       "      <td>104.0</td>\n",
       "      <td>[{'iso_639_1': 'en', 'name': 'English'}, {'iso...</td>\n",
       "      <td>Released</td>\n",
       "      <td>Roll the dice and unleash the excitement!</td>\n",
       "      <td>Jumanji</td>\n",
       "      <td>False</td>\n",
       "      <td>6.9</td>\n",
       "      <td>2413.0</td>\n",
       "    </tr>\n",
       "    <tr>\n",
       "      <th>2</th>\n",
       "      <td>False</td>\n",
       "      <td>{'id': 119050, 'name': 'Grumpy Old Men Collect...</td>\n",
       "      <td>0</td>\n",
       "      <td>[{'id': 10749, 'name': 'Romance'}, {'id': 35, ...</td>\n",
       "      <td>NaN</td>\n",
       "      <td>15602</td>\n",
       "      <td>tt0113228</td>\n",
       "      <td>en</td>\n",
       "      <td>Grumpier Old Men</td>\n",
       "      <td>A family wedding reignites the ancient feud be...</td>\n",
       "      <td>...</td>\n",
       "      <td>1995-12-22</td>\n",
       "      <td>0.0</td>\n",
       "      <td>101.0</td>\n",
       "      <td>[{'iso_639_1': 'en', 'name': 'English'}]</td>\n",
       "      <td>Released</td>\n",
       "      <td>Still Yelling. Still Fighting. Still Ready for...</td>\n",
       "      <td>Grumpier Old Men</td>\n",
       "      <td>False</td>\n",
       "      <td>6.5</td>\n",
       "      <td>92.0</td>\n",
       "    </tr>\n",
       "    <tr>\n",
       "      <th>3</th>\n",
       "      <td>False</td>\n",
       "      <td>NaN</td>\n",
       "      <td>16000000</td>\n",
       "      <td>[{'id': 35, 'name': 'Comedy'}, {'id': 18, 'nam...</td>\n",
       "      <td>NaN</td>\n",
       "      <td>31357</td>\n",
       "      <td>tt0114885</td>\n",
       "      <td>en</td>\n",
       "      <td>Waiting to Exhale</td>\n",
       "      <td>Cheated on, mistreated and stepped on, the wom...</td>\n",
       "      <td>...</td>\n",
       "      <td>1995-12-22</td>\n",
       "      <td>81452156.0</td>\n",
       "      <td>127.0</td>\n",
       "      <td>[{'iso_639_1': 'en', 'name': 'English'}]</td>\n",
       "      <td>Released</td>\n",
       "      <td>Friends are the people who let you be yourself...</td>\n",
       "      <td>Waiting to Exhale</td>\n",
       "      <td>False</td>\n",
       "      <td>6.1</td>\n",
       "      <td>34.0</td>\n",
       "    </tr>\n",
       "    <tr>\n",
       "      <th>4</th>\n",
       "      <td>False</td>\n",
       "      <td>{'id': 96871, 'name': 'Father of the Bride Col...</td>\n",
       "      <td>0</td>\n",
       "      <td>[{'id': 35, 'name': 'Comedy'}]</td>\n",
       "      <td>NaN</td>\n",
       "      <td>11862</td>\n",
       "      <td>tt0113041</td>\n",
       "      <td>en</td>\n",
       "      <td>Father of the Bride Part II</td>\n",
       "      <td>Just when George Banks has recovered from his ...</td>\n",
       "      <td>...</td>\n",
       "      <td>1995-02-10</td>\n",
       "      <td>76578911.0</td>\n",
       "      <td>106.0</td>\n",
       "      <td>[{'iso_639_1': 'en', 'name': 'English'}]</td>\n",
       "      <td>Released</td>\n",
       "      <td>Just When His World Is Back To Normal... He's ...</td>\n",
       "      <td>Father of the Bride Part II</td>\n",
       "      <td>False</td>\n",
       "      <td>5.7</td>\n",
       "      <td>173.0</td>\n",
       "    </tr>\n",
       "  </tbody>\n",
       "</table>\n",
       "<p>5 rows × 24 columns</p>\n",
       "</div>"
      ],
      "text/plain": [
       "   adult                              belongs_to_collection    budget  \\\n",
       "0  False  {'id': 10194, 'name': 'Toy Story Collection', ...  30000000   \n",
       "1  False                                                NaN  65000000   \n",
       "2  False  {'id': 119050, 'name': 'Grumpy Old Men Collect...         0   \n",
       "3  False                                                NaN  16000000   \n",
       "4  False  {'id': 96871, 'name': 'Father of the Bride Col...         0   \n",
       "\n",
       "                                              genres  \\\n",
       "0  [{'id': 16, 'name': 'Animation'}, {'id': 35, '...   \n",
       "1  [{'id': 12, 'name': 'Adventure'}, {'id': 14, '...   \n",
       "2  [{'id': 10749, 'name': 'Romance'}, {'id': 35, ...   \n",
       "3  [{'id': 35, 'name': 'Comedy'}, {'id': 18, 'nam...   \n",
       "4                     [{'id': 35, 'name': 'Comedy'}]   \n",
       "\n",
       "                               homepage     id    imdb_id original_language  \\\n",
       "0  http://toystory.disney.com/toy-story    862  tt0114709                en   \n",
       "1                                   NaN   8844  tt0113497                en   \n",
       "2                                   NaN  15602  tt0113228                en   \n",
       "3                                   NaN  31357  tt0114885                en   \n",
       "4                                   NaN  11862  tt0113041                en   \n",
       "\n",
       "                original_title  \\\n",
       "0                    Toy Story   \n",
       "1                      Jumanji   \n",
       "2             Grumpier Old Men   \n",
       "3            Waiting to Exhale   \n",
       "4  Father of the Bride Part II   \n",
       "\n",
       "                                            overview  ... release_date  \\\n",
       "0  Led by Woody, Andy's toys live happily in his ...  ...   1995-10-30   \n",
       "1  When siblings Judy and Peter discover an encha...  ...   1995-12-15   \n",
       "2  A family wedding reignites the ancient feud be...  ...   1995-12-22   \n",
       "3  Cheated on, mistreated and stepped on, the wom...  ...   1995-12-22   \n",
       "4  Just when George Banks has recovered from his ...  ...   1995-02-10   \n",
       "\n",
       "       revenue runtime                                   spoken_languages  \\\n",
       "0  373554033.0    81.0           [{'iso_639_1': 'en', 'name': 'English'}]   \n",
       "1  262797249.0   104.0  [{'iso_639_1': 'en', 'name': 'English'}, {'iso...   \n",
       "2          0.0   101.0           [{'iso_639_1': 'en', 'name': 'English'}]   \n",
       "3   81452156.0   127.0           [{'iso_639_1': 'en', 'name': 'English'}]   \n",
       "4   76578911.0   106.0           [{'iso_639_1': 'en', 'name': 'English'}]   \n",
       "\n",
       "     status                                            tagline  \\\n",
       "0  Released                                                NaN   \n",
       "1  Released          Roll the dice and unleash the excitement!   \n",
       "2  Released  Still Yelling. Still Fighting. Still Ready for...   \n",
       "3  Released  Friends are the people who let you be yourself...   \n",
       "4  Released  Just When His World Is Back To Normal... He's ...   \n",
       "\n",
       "                         title  video vote_average vote_count  \n",
       "0                    Toy Story  False          7.7     5415.0  \n",
       "1                      Jumanji  False          6.9     2413.0  \n",
       "2             Grumpier Old Men  False          6.5       92.0  \n",
       "3            Waiting to Exhale  False          6.1       34.0  \n",
       "4  Father of the Bride Part II  False          5.7      173.0  \n",
       "\n",
       "[5 rows x 24 columns]"
      ]
     },
     "execution_count": 40,
     "metadata": {},
     "output_type": "execute_result"
    }
   ],
   "source": [
    "df_meta = pd.read_csv('../data/movies_metadata.csv')\n",
    "df_meta.head()"
   ]
  },
  {
   "cell_type": "code",
   "execution_count": 41,
   "id": "82693b55",
   "metadata": {},
   "outputs": [
    {
     "data": {
      "text/plain": [
       "(45466, 24)"
      ]
     },
     "execution_count": 41,
     "metadata": {},
     "output_type": "execute_result"
    }
   ],
   "source": [
    "df_meta.shape"
   ]
  },
  {
   "cell_type": "code",
   "execution_count": 42,
   "id": "4742ffbe",
   "metadata": {},
   "outputs": [
    {
     "data": {
      "text/plain": [
       "adult                     object\n",
       "belongs_to_collection     object\n",
       "budget                    object\n",
       "genres                    object\n",
       "homepage                  object\n",
       "id                        object\n",
       "imdb_id                   object\n",
       "original_language         object\n",
       "original_title            object\n",
       "overview                  object\n",
       "popularity                object\n",
       "poster_path               object\n",
       "production_companies      object\n",
       "production_countries      object\n",
       "release_date              object\n",
       "revenue                  float64\n",
       "runtime                  float64\n",
       "spoken_languages          object\n",
       "status                    object\n",
       "tagline                   object\n",
       "title                     object\n",
       "video                     object\n",
       "vote_average             float64\n",
       "vote_count               float64\n",
       "dtype: object"
      ]
     },
     "execution_count": 42,
     "metadata": {},
     "output_type": "execute_result"
    }
   ],
   "source": [
    "df_meta.dtypes"
   ]
  },
  {
   "cell_type": "code",
   "execution_count": 43,
   "id": "9f866379",
   "metadata": {},
   "outputs": [],
   "source": [
    "#Keep necessary columns\n",
    "df_meta = df_meta[['id','imdb_id', 'overview','tagline', 'vote_average', 'vote_count']]"
   ]
  },
  {
   "cell_type": "code",
   "execution_count": 44,
   "id": "7114cfd3",
   "metadata": {},
   "outputs": [
    {
     "data": {
      "text/plain": [
       "id                  0\n",
       "imdb_id            17\n",
       "overview          954\n",
       "tagline         25054\n",
       "vote_average        6\n",
       "vote_count          6\n",
       "dtype: int64"
      ]
     },
     "execution_count": 44,
     "metadata": {},
     "output_type": "execute_result"
    }
   ],
   "source": [
    "df_meta.isnull().sum()"
   ]
  },
  {
   "cell_type": "code",
   "execution_count": 45,
   "id": "cec58142",
   "metadata": {},
   "outputs": [],
   "source": [
    "df_meta['tagline'].fillna('', inplace=True)\n",
    "df_meta['overview'].fillna('', inplace=True)"
   ]
  },
  {
   "cell_type": "code",
   "execution_count": 46,
   "id": "47c6d78b",
   "metadata": {},
   "outputs": [
    {
     "data": {
      "text/html": [
       "<div>\n",
       "<style scoped>\n",
       "    .dataframe tbody tr th:only-of-type {\n",
       "        vertical-align: middle;\n",
       "    }\n",
       "\n",
       "    .dataframe tbody tr th {\n",
       "        vertical-align: top;\n",
       "    }\n",
       "\n",
       "    .dataframe thead th {\n",
       "        text-align: right;\n",
       "    }\n",
       "</style>\n",
       "<table border=\"1\" class=\"dataframe\">\n",
       "  <thead>\n",
       "    <tr style=\"text-align: right;\">\n",
       "      <th></th>\n",
       "      <th>movieId</th>\n",
       "      <th>imdbId</th>\n",
       "      <th>tmdbId</th>\n",
       "    </tr>\n",
       "  </thead>\n",
       "  <tbody>\n",
       "    <tr>\n",
       "      <th>0</th>\n",
       "      <td>1</td>\n",
       "      <td>114709</td>\n",
       "      <td>862.0</td>\n",
       "    </tr>\n",
       "    <tr>\n",
       "      <th>1</th>\n",
       "      <td>2</td>\n",
       "      <td>113497</td>\n",
       "      <td>8844.0</td>\n",
       "    </tr>\n",
       "    <tr>\n",
       "      <th>2</th>\n",
       "      <td>3</td>\n",
       "      <td>113228</td>\n",
       "      <td>15602.0</td>\n",
       "    </tr>\n",
       "    <tr>\n",
       "      <th>3</th>\n",
       "      <td>4</td>\n",
       "      <td>114885</td>\n",
       "      <td>31357.0</td>\n",
       "    </tr>\n",
       "    <tr>\n",
       "      <th>4</th>\n",
       "      <td>5</td>\n",
       "      <td>113041</td>\n",
       "      <td>11862.0</td>\n",
       "    </tr>\n",
       "  </tbody>\n",
       "</table>\n",
       "</div>"
      ],
      "text/plain": [
       "   movieId  imdbId   tmdbId\n",
       "0        1  114709    862.0\n",
       "1        2  113497   8844.0\n",
       "2        3  113228  15602.0\n",
       "3        4  114885  31357.0\n",
       "4        5  113041  11862.0"
      ]
     },
     "execution_count": 46,
     "metadata": {},
     "output_type": "execute_result"
    }
   ],
   "source": [
    "#The link between movielens data and TMDB data\n",
    "df_links = pd.read_csv('../data/links.csv')\n",
    "df_links.head()"
   ]
  },
  {
   "cell_type": "code",
   "execution_count": 47,
   "id": "986dfbec",
   "metadata": {},
   "outputs": [
    {
     "data": {
      "text/plain": [
       "movieId    0\n",
       "imdbId     0\n",
       "tmdbId     8\n",
       "dtype: int64"
      ]
     },
     "execution_count": 47,
     "metadata": {},
     "output_type": "execute_result"
    }
   ],
   "source": [
    "df_links.isnull().sum()"
   ]
  },
  {
   "cell_type": "code",
   "execution_count": 48,
   "id": "cd8a98ab",
   "metadata": {},
   "outputs": [
    {
     "data": {
      "text/plain": [
       "movieId      int64\n",
       "imdbId       int64\n",
       "tmdbId     float64\n",
       "dtype: object"
      ]
     },
     "execution_count": 48,
     "metadata": {},
     "output_type": "execute_result"
    }
   ],
   "source": [
    "df_links.dtypes"
   ]
  },
  {
   "cell_type": "code",
   "execution_count": 49,
   "id": "f0d3ad95",
   "metadata": {},
   "outputs": [],
   "source": [
    "df_links.dropna(inplace=True)"
   ]
  },
  {
   "cell_type": "code",
   "execution_count": 50,
   "id": "bc7bb5ed",
   "metadata": {},
   "outputs": [],
   "source": [
    "df_links['tmdbId'] = df_links['tmdbId'].map(lambda x: str(int(x)))"
   ]
  },
  {
   "cell_type": "code",
   "execution_count": 51,
   "id": "7e5b280c",
   "metadata": {},
   "outputs": [],
   "source": [
    "df_meta = pd.merge(df_meta, df_links, left_on = 'id', right_on = 'tmdbId')"
   ]
  },
  {
   "cell_type": "code",
   "execution_count": 52,
   "id": "e842589e",
   "metadata": {},
   "outputs": [
    {
     "data": {
      "text/html": [
       "<div>\n",
       "<style scoped>\n",
       "    .dataframe tbody tr th:only-of-type {\n",
       "        vertical-align: middle;\n",
       "    }\n",
       "\n",
       "    .dataframe tbody tr th {\n",
       "        vertical-align: top;\n",
       "    }\n",
       "\n",
       "    .dataframe thead th {\n",
       "        text-align: right;\n",
       "    }\n",
       "</style>\n",
       "<table border=\"1\" class=\"dataframe\">\n",
       "  <thead>\n",
       "    <tr style=\"text-align: right;\">\n",
       "      <th></th>\n",
       "      <th>id</th>\n",
       "      <th>imdb_id</th>\n",
       "      <th>overview</th>\n",
       "      <th>tagline</th>\n",
       "      <th>vote_average</th>\n",
       "      <th>vote_count</th>\n",
       "      <th>movieId</th>\n",
       "      <th>imdbId</th>\n",
       "      <th>tmdbId</th>\n",
       "    </tr>\n",
       "  </thead>\n",
       "  <tbody>\n",
       "    <tr>\n",
       "      <th>0</th>\n",
       "      <td>862</td>\n",
       "      <td>tt0114709</td>\n",
       "      <td>Led by Woody, Andy's toys live happily in his ...</td>\n",
       "      <td></td>\n",
       "      <td>7.7</td>\n",
       "      <td>5415.0</td>\n",
       "      <td>1</td>\n",
       "      <td>114709</td>\n",
       "      <td>862</td>\n",
       "    </tr>\n",
       "    <tr>\n",
       "      <th>1</th>\n",
       "      <td>8844</td>\n",
       "      <td>tt0113497</td>\n",
       "      <td>When siblings Judy and Peter discover an encha...</td>\n",
       "      <td>Roll the dice and unleash the excitement!</td>\n",
       "      <td>6.9</td>\n",
       "      <td>2413.0</td>\n",
       "      <td>2</td>\n",
       "      <td>113497</td>\n",
       "      <td>8844</td>\n",
       "    </tr>\n",
       "    <tr>\n",
       "      <th>2</th>\n",
       "      <td>15602</td>\n",
       "      <td>tt0113228</td>\n",
       "      <td>A family wedding reignites the ancient feud be...</td>\n",
       "      <td>Still Yelling. Still Fighting. Still Ready for...</td>\n",
       "      <td>6.5</td>\n",
       "      <td>92.0</td>\n",
       "      <td>3</td>\n",
       "      <td>113228</td>\n",
       "      <td>15602</td>\n",
       "    </tr>\n",
       "    <tr>\n",
       "      <th>3</th>\n",
       "      <td>31357</td>\n",
       "      <td>tt0114885</td>\n",
       "      <td>Cheated on, mistreated and stepped on, the wom...</td>\n",
       "      <td>Friends are the people who let you be yourself...</td>\n",
       "      <td>6.1</td>\n",
       "      <td>34.0</td>\n",
       "      <td>4</td>\n",
       "      <td>114885</td>\n",
       "      <td>31357</td>\n",
       "    </tr>\n",
       "    <tr>\n",
       "      <th>4</th>\n",
       "      <td>11862</td>\n",
       "      <td>tt0113041</td>\n",
       "      <td>Just when George Banks has recovered from his ...</td>\n",
       "      <td>Just When His World Is Back To Normal... He's ...</td>\n",
       "      <td>5.7</td>\n",
       "      <td>173.0</td>\n",
       "      <td>5</td>\n",
       "      <td>113041</td>\n",
       "      <td>11862</td>\n",
       "    </tr>\n",
       "  </tbody>\n",
       "</table>\n",
       "</div>"
      ],
      "text/plain": [
       "      id    imdb_id                                           overview  \\\n",
       "0    862  tt0114709  Led by Woody, Andy's toys live happily in his ...   \n",
       "1   8844  tt0113497  When siblings Judy and Peter discover an encha...   \n",
       "2  15602  tt0113228  A family wedding reignites the ancient feud be...   \n",
       "3  31357  tt0114885  Cheated on, mistreated and stepped on, the wom...   \n",
       "4  11862  tt0113041  Just when George Banks has recovered from his ...   \n",
       "\n",
       "                                             tagline  vote_average  \\\n",
       "0                                                              7.7   \n",
       "1          Roll the dice and unleash the excitement!           6.9   \n",
       "2  Still Yelling. Still Fighting. Still Ready for...           6.5   \n",
       "3  Friends are the people who let you be yourself...           6.1   \n",
       "4  Just When His World Is Back To Normal... He's ...           5.7   \n",
       "\n",
       "   vote_count  movieId  imdbId tmdbId  \n",
       "0      5415.0        1  114709    862  \n",
       "1      2413.0        2  113497   8844  \n",
       "2        92.0        3  113228  15602  \n",
       "3        34.0        4  114885  31357  \n",
       "4       173.0        5  113041  11862  "
      ]
     },
     "execution_count": 52,
     "metadata": {},
     "output_type": "execute_result"
    }
   ],
   "source": [
    "df_meta.head()"
   ]
  },
  {
   "cell_type": "code",
   "execution_count": 53,
   "id": "92e08407",
   "metadata": {},
   "outputs": [],
   "source": [
    "df_meta.drop(columns=['imdbId','id'], inplace=True)"
   ]
  },
  {
   "cell_type": "code",
   "execution_count": 54,
   "id": "059dff5c",
   "metadata": {},
   "outputs": [],
   "source": [
    "#Rearranging the columns\n",
    "df_meta = df_meta[['movieId','tmdbId','imdb_id', 'overview', 'tagline', 'vote_average',\n",
    "       'vote_count']]"
   ]
  },
  {
   "cell_type": "code",
   "execution_count": 55,
   "id": "3a9cab82",
   "metadata": {},
   "outputs": [],
   "source": [
    "df_meta['movieId'] = df_meta['movieId'].map(str)"
   ]
  },
  {
   "cell_type": "code",
   "execution_count": 56,
   "id": "ac427e55",
   "metadata": {},
   "outputs": [
    {
     "data": {
      "text/plain": [
       "(9555, 7)"
      ]
     },
     "execution_count": 56,
     "metadata": {},
     "output_type": "execute_result"
    }
   ],
   "source": [
    "df_meta.shape"
   ]
  },
  {
   "cell_type": "code",
   "execution_count": 57,
   "id": "1d92fd00",
   "metadata": {},
   "outputs": [
    {
     "data": {
      "text/plain": [
       "movieId         9544\n",
       "tmdbId          9543\n",
       "imdb_id         9541\n",
       "overview        9514\n",
       "tagline         7217\n",
       "vote_average      78\n",
       "vote_count      1794\n",
       "dtype: int64"
      ]
     },
     "execution_count": 57,
     "metadata": {},
     "output_type": "execute_result"
    }
   ],
   "source": [
    "df_meta.nunique()"
   ]
  },
  {
   "cell_type": "code",
   "execution_count": 58,
   "id": "bdd5c979",
   "metadata": {},
   "outputs": [],
   "source": [
    "df_meta.drop_duplicates(inplace=True)"
   ]
  },
  {
   "cell_type": "code",
   "execution_count": 59,
   "id": "f5bbcedb",
   "metadata": {},
   "outputs": [],
   "source": [
    "df_meta.reset_index(inplace=True)"
   ]
  },
  {
   "cell_type": "code",
   "execution_count": 60,
   "id": "aaa7e696",
   "metadata": {},
   "outputs": [],
   "source": [
    "df_meta.drop(columns=['index'], inplace=True)"
   ]
  },
  {
   "cell_type": "code",
   "execution_count": 61,
   "id": "a8af9bac",
   "metadata": {},
   "outputs": [],
   "source": [
    "df_movies['movieId'] = df_movies['movieId'].map(str)"
   ]
  },
  {
   "cell_type": "code",
   "execution_count": 62,
   "id": "796a96c7",
   "metadata": {},
   "outputs": [],
   "source": [
    "df_meta = pd.merge(df_movies, df_meta, left_on = 'movieId', right_on='movieId')"
   ]
  },
  {
   "cell_type": "code",
   "execution_count": 63,
   "id": "2a6df997",
   "metadata": {},
   "outputs": [
    {
     "data": {
      "text/plain": [
       "movieId         9544\n",
       "title           9541\n",
       "genres           941\n",
       "year             106\n",
       "tmdbId          9543\n",
       "imdb_id         9541\n",
       "overview        9514\n",
       "tagline         7217\n",
       "vote_average      78\n",
       "vote_count      1794\n",
       "dtype: int64"
      ]
     },
     "execution_count": 63,
     "metadata": {},
     "output_type": "execute_result"
    }
   ],
   "source": [
    "df_meta.nunique()"
   ]
  },
  {
   "cell_type": "code",
   "execution_count": 64,
   "id": "1e0a185b",
   "metadata": {},
   "outputs": [
    {
     "data": {
      "text/plain": [
       "(9546, 10)"
      ]
     },
     "execution_count": 64,
     "metadata": {},
     "output_type": "execute_result"
    }
   ],
   "source": [
    "df_meta.shape"
   ]
  },
  {
   "cell_type": "markdown",
   "id": "62d01887",
   "metadata": {},
   "source": [
    "Looks like there are some duplicates in the dataframe. "
   ]
  },
  {
   "cell_type": "code",
   "execution_count": 65,
   "id": "48ef6fb6",
   "metadata": {},
   "outputs": [
    {
     "data": {
      "text/html": [
       "<div>\n",
       "<style scoped>\n",
       "    .dataframe tbody tr th:only-of-type {\n",
       "        vertical-align: middle;\n",
       "    }\n",
       "\n",
       "    .dataframe tbody tr th {\n",
       "        vertical-align: top;\n",
       "    }\n",
       "\n",
       "    .dataframe thead th {\n",
       "        text-align: right;\n",
       "    }\n",
       "</style>\n",
       "<table border=\"1\" class=\"dataframe\">\n",
       "  <thead>\n",
       "    <tr style=\"text-align: right;\">\n",
       "      <th></th>\n",
       "      <th>movieId</th>\n",
       "      <th>title</th>\n",
       "      <th>genres</th>\n",
       "      <th>year</th>\n",
       "      <th>tmdbId</th>\n",
       "      <th>imdb_id</th>\n",
       "      <th>overview</th>\n",
       "      <th>tagline</th>\n",
       "      <th>vote_average</th>\n",
       "      <th>vote_count</th>\n",
       "    </tr>\n",
       "  </thead>\n",
       "  <tbody>\n",
       "    <tr>\n",
       "      <th>3149</th>\n",
       "      <td>4241</td>\n",
       "      <td>Pokémon 3: The Movie (2001)</td>\n",
       "      <td>Animation|Children</td>\n",
       "      <td>2001</td>\n",
       "      <td>10991</td>\n",
       "      <td>tt0235679</td>\n",
       "      <td>When Molly Hale's sadness of her father's disa...</td>\n",
       "      <td>Pokémon: Spell of the Unknown</td>\n",
       "      <td>6.0</td>\n",
       "      <td>144.0</td>\n",
       "    </tr>\n",
       "    <tr>\n",
       "      <th>3761</th>\n",
       "      <td>5264</td>\n",
       "      <td>Clockstoppers (2002)</td>\n",
       "      <td>Action|Adventure|Sci-Fi|Thriller</td>\n",
       "      <td>2002</td>\n",
       "      <td>15028</td>\n",
       "      <td>tt0157472</td>\n",
       "      <td>Until now, Zak Gibbs' greatest challenge has b...</td>\n",
       "      <td>The adventure of a lifetime, in a few mere sec...</td>\n",
       "      <td>4.9</td>\n",
       "      <td>90.0</td>\n",
       "    </tr>\n",
       "    <tr>\n",
       "      <th>5590</th>\n",
       "      <td>26958</td>\n",
       "      <td>Emma (1996)</td>\n",
       "      <td>Romance</td>\n",
       "      <td>1996</td>\n",
       "      <td>12254</td>\n",
       "      <td>tt0118308</td>\n",
       "      <td>Emma Woodhouse has a rigid sense of propriety ...</td>\n",
       "      <td></td>\n",
       "      <td>6.7</td>\n",
       "      <td>34.0</td>\n",
       "    </tr>\n",
       "    <tr>\n",
       "      <th>6912</th>\n",
       "      <td>64997</td>\n",
       "      <td>War of the Worlds (2005)</td>\n",
       "      <td>Action|Sci-Fi</td>\n",
       "      <td>2005</td>\n",
       "      <td>34812</td>\n",
       "      <td>tt0449040</td>\n",
       "      <td>In this modern retelling of H.G. Wells' classi...</td>\n",
       "      <td></td>\n",
       "      <td>4.4</td>\n",
       "      <td>10.0</td>\n",
       "    </tr>\n",
       "    <tr>\n",
       "      <th>9069</th>\n",
       "      <td>144606</td>\n",
       "      <td>Confessions of a Dangerous Mind (2002)</td>\n",
       "      <td>Comedy|Crime|Drama|Romance|Thriller</td>\n",
       "      <td>2002</td>\n",
       "      <td>4912</td>\n",
       "      <td>tt0270288</td>\n",
       "      <td>Television made him famous, but his biggest hi...</td>\n",
       "      <td>Some things are better left top secret.</td>\n",
       "      <td>6.6</td>\n",
       "      <td>281.0</td>\n",
       "    </tr>\n",
       "  </tbody>\n",
       "</table>\n",
       "</div>"
      ],
      "text/plain": [
       "     movieId                                   title  \\\n",
       "3149    4241             Pokémon 3: The Movie (2001)   \n",
       "3761    5264                    Clockstoppers (2002)   \n",
       "5590   26958                             Emma (1996)   \n",
       "6912   64997                War of the Worlds (2005)   \n",
       "9069  144606  Confessions of a Dangerous Mind (2002)   \n",
       "\n",
       "                                   genres  year tmdbId    imdb_id  \\\n",
       "3149                   Animation|Children  2001  10991  tt0235679   \n",
       "3761     Action|Adventure|Sci-Fi|Thriller  2002  15028  tt0157472   \n",
       "5590                              Romance  1996  12254  tt0118308   \n",
       "6912                        Action|Sci-Fi  2005  34812  tt0449040   \n",
       "9069  Comedy|Crime|Drama|Romance|Thriller  2002   4912  tt0270288   \n",
       "\n",
       "                                               overview  \\\n",
       "3149  When Molly Hale's sadness of her father's disa...   \n",
       "3761  Until now, Zak Gibbs' greatest challenge has b...   \n",
       "5590  Emma Woodhouse has a rigid sense of propriety ...   \n",
       "6912  In this modern retelling of H.G. Wells' classi...   \n",
       "9069  Television made him famous, but his biggest hi...   \n",
       "\n",
       "                                                tagline  vote_average  \\\n",
       "3149                      Pokémon: Spell of the Unknown           6.0   \n",
       "3761  The adventure of a lifetime, in a few mere sec...           4.9   \n",
       "5590                                                              6.7   \n",
       "6912                                                              4.4   \n",
       "9069            Some things are better left top secret.           6.6   \n",
       "\n",
       "      vote_count  \n",
       "3149       144.0  \n",
       "3761        90.0  \n",
       "5590        34.0  \n",
       "6912        10.0  \n",
       "9069       281.0  "
      ]
     },
     "execution_count": 65,
     "metadata": {},
     "output_type": "execute_result"
    }
   ],
   "source": [
    "df_meta[df_meta['title'].duplicated()]"
   ]
  },
  {
   "cell_type": "code",
   "execution_count": 66,
   "id": "0638b3fe",
   "metadata": {},
   "outputs": [
    {
     "data": {
      "text/html": [
       "<div>\n",
       "<style scoped>\n",
       "    .dataframe tbody tr th:only-of-type {\n",
       "        vertical-align: middle;\n",
       "    }\n",
       "\n",
       "    .dataframe tbody tr th {\n",
       "        vertical-align: top;\n",
       "    }\n",
       "\n",
       "    .dataframe thead th {\n",
       "        text-align: right;\n",
       "    }\n",
       "</style>\n",
       "<table border=\"1\" class=\"dataframe\">\n",
       "  <thead>\n",
       "    <tr style=\"text-align: right;\">\n",
       "      <th></th>\n",
       "      <th>movieId</th>\n",
       "      <th>title</th>\n",
       "      <th>genres</th>\n",
       "      <th>year</th>\n",
       "      <th>tmdbId</th>\n",
       "      <th>imdb_id</th>\n",
       "      <th>overview</th>\n",
       "      <th>tagline</th>\n",
       "      <th>vote_average</th>\n",
       "      <th>vote_count</th>\n",
       "    </tr>\n",
       "  </thead>\n",
       "  <tbody>\n",
       "    <tr>\n",
       "      <th>3148</th>\n",
       "      <td>4241</td>\n",
       "      <td>Pokémon 3: The Movie (2001)</td>\n",
       "      <td>Animation|Children</td>\n",
       "      <td>2001</td>\n",
       "      <td>10991</td>\n",
       "      <td>tt0235679</td>\n",
       "      <td>When Molly Hale's sadness of her father's disa...</td>\n",
       "      <td>Pokémon: Spell of the Unknown</td>\n",
       "      <td>6.0</td>\n",
       "      <td>143.0</td>\n",
       "    </tr>\n",
       "    <tr>\n",
       "      <th>3149</th>\n",
       "      <td>4241</td>\n",
       "      <td>Pokémon 3: The Movie (2001)</td>\n",
       "      <td>Animation|Children</td>\n",
       "      <td>2001</td>\n",
       "      <td>10991</td>\n",
       "      <td>tt0235679</td>\n",
       "      <td>When Molly Hale's sadness of her father's disa...</td>\n",
       "      <td>Pokémon: Spell of the Unknown</td>\n",
       "      <td>6.0</td>\n",
       "      <td>144.0</td>\n",
       "    </tr>\n",
       "  </tbody>\n",
       "</table>\n",
       "</div>"
      ],
      "text/plain": [
       "     movieId                        title              genres  year tmdbId  \\\n",
       "3148    4241  Pokémon 3: The Movie (2001)  Animation|Children  2001  10991   \n",
       "3149    4241  Pokémon 3: The Movie (2001)  Animation|Children  2001  10991   \n",
       "\n",
       "        imdb_id                                           overview  \\\n",
       "3148  tt0235679  When Molly Hale's sadness of her father's disa...   \n",
       "3149  tt0235679  When Molly Hale's sadness of her father's disa...   \n",
       "\n",
       "                            tagline  vote_average  vote_count  \n",
       "3148  Pokémon: Spell of the Unknown           6.0       143.0  \n",
       "3149  Pokémon: Spell of the Unknown           6.0       144.0  "
      ]
     },
     "execution_count": 66,
     "metadata": {},
     "output_type": "execute_result"
    }
   ],
   "source": [
    "df_meta[df_meta['title'] == 'Pokémon 3: The Movie (2001)']"
   ]
  },
  {
   "cell_type": "code",
   "execution_count": 67,
   "id": "c7283f80",
   "metadata": {},
   "outputs": [
    {
     "data": {
      "text/html": [
       "<div>\n",
       "<style scoped>\n",
       "    .dataframe tbody tr th:only-of-type {\n",
       "        vertical-align: middle;\n",
       "    }\n",
       "\n",
       "    .dataframe tbody tr th {\n",
       "        vertical-align: top;\n",
       "    }\n",
       "\n",
       "    .dataframe thead th {\n",
       "        text-align: right;\n",
       "    }\n",
       "</style>\n",
       "<table border=\"1\" class=\"dataframe\">\n",
       "  <thead>\n",
       "    <tr style=\"text-align: right;\">\n",
       "      <th></th>\n",
       "      <th>movieId</th>\n",
       "      <th>title</th>\n",
       "      <th>genres</th>\n",
       "      <th>year</th>\n",
       "      <th>tmdbId</th>\n",
       "      <th>imdb_id</th>\n",
       "      <th>overview</th>\n",
       "      <th>tagline</th>\n",
       "      <th>vote_average</th>\n",
       "      <th>vote_count</th>\n",
       "    </tr>\n",
       "  </thead>\n",
       "  <tbody>\n",
       "    <tr>\n",
       "      <th>3760</th>\n",
       "      <td>5264</td>\n",
       "      <td>Clockstoppers (2002)</td>\n",
       "      <td>Action|Adventure|Sci-Fi|Thriller</td>\n",
       "      <td>2002</td>\n",
       "      <td>15028</td>\n",
       "      <td>tt0157472</td>\n",
       "      <td>Until now, Zak Gibbs' greatest challenge has b...</td>\n",
       "      <td>The adventure of a lifetime, in a few mere sec...</td>\n",
       "      <td>4.9</td>\n",
       "      <td>89.0</td>\n",
       "    </tr>\n",
       "    <tr>\n",
       "      <th>3761</th>\n",
       "      <td>5264</td>\n",
       "      <td>Clockstoppers (2002)</td>\n",
       "      <td>Action|Adventure|Sci-Fi|Thriller</td>\n",
       "      <td>2002</td>\n",
       "      <td>15028</td>\n",
       "      <td>tt0157472</td>\n",
       "      <td>Until now, Zak Gibbs' greatest challenge has b...</td>\n",
       "      <td>The adventure of a lifetime, in a few mere sec...</td>\n",
       "      <td>4.9</td>\n",
       "      <td>90.0</td>\n",
       "    </tr>\n",
       "  </tbody>\n",
       "</table>\n",
       "</div>"
      ],
      "text/plain": [
       "     movieId                 title                            genres  year  \\\n",
       "3760    5264  Clockstoppers (2002)  Action|Adventure|Sci-Fi|Thriller  2002   \n",
       "3761    5264  Clockstoppers (2002)  Action|Adventure|Sci-Fi|Thriller  2002   \n",
       "\n",
       "     tmdbId    imdb_id                                           overview  \\\n",
       "3760  15028  tt0157472  Until now, Zak Gibbs' greatest challenge has b...   \n",
       "3761  15028  tt0157472  Until now, Zak Gibbs' greatest challenge has b...   \n",
       "\n",
       "                                                tagline  vote_average  \\\n",
       "3760  The adventure of a lifetime, in a few mere sec...           4.9   \n",
       "3761  The adventure of a lifetime, in a few mere sec...           4.9   \n",
       "\n",
       "      vote_count  \n",
       "3760        89.0  \n",
       "3761        90.0  "
      ]
     },
     "execution_count": 67,
     "metadata": {},
     "output_type": "execute_result"
    }
   ],
   "source": [
    "df_meta[df_meta['title'] == 'Clockstoppers (2002)']"
   ]
  },
  {
   "cell_type": "code",
   "execution_count": 68,
   "id": "21c175a2",
   "metadata": {},
   "outputs": [
    {
     "data": {
      "text/html": [
       "<div>\n",
       "<style scoped>\n",
       "    .dataframe tbody tr th:only-of-type {\n",
       "        vertical-align: middle;\n",
       "    }\n",
       "\n",
       "    .dataframe tbody tr th {\n",
       "        vertical-align: top;\n",
       "    }\n",
       "\n",
       "    .dataframe thead th {\n",
       "        text-align: right;\n",
       "    }\n",
       "</style>\n",
       "<table border=\"1\" class=\"dataframe\">\n",
       "  <thead>\n",
       "    <tr style=\"text-align: right;\">\n",
       "      <th></th>\n",
       "      <th>movieId</th>\n",
       "      <th>title</th>\n",
       "      <th>genres</th>\n",
       "      <th>year</th>\n",
       "      <th>tmdbId</th>\n",
       "      <th>imdb_id</th>\n",
       "      <th>overview</th>\n",
       "      <th>tagline</th>\n",
       "      <th>vote_average</th>\n",
       "      <th>vote_count</th>\n",
       "    </tr>\n",
       "  </thead>\n",
       "  <tbody>\n",
       "    <tr>\n",
       "      <th>4162</th>\n",
       "      <td>6003</td>\n",
       "      <td>Confessions of a Dangerous Mind (2002)</td>\n",
       "      <td>Comedy|Crime|Drama|Thriller</td>\n",
       "      <td>2002</td>\n",
       "      <td>4912</td>\n",
       "      <td>tt0270288</td>\n",
       "      <td>Television made him famous, but his biggest hi...</td>\n",
       "      <td>Some things are better left top secret.</td>\n",
       "      <td>6.6</td>\n",
       "      <td>281.0</td>\n",
       "    </tr>\n",
       "    <tr>\n",
       "      <th>9069</th>\n",
       "      <td>144606</td>\n",
       "      <td>Confessions of a Dangerous Mind (2002)</td>\n",
       "      <td>Comedy|Crime|Drama|Romance|Thriller</td>\n",
       "      <td>2002</td>\n",
       "      <td>4912</td>\n",
       "      <td>tt0270288</td>\n",
       "      <td>Television made him famous, but his biggest hi...</td>\n",
       "      <td>Some things are better left top secret.</td>\n",
       "      <td>6.6</td>\n",
       "      <td>281.0</td>\n",
       "    </tr>\n",
       "  </tbody>\n",
       "</table>\n",
       "</div>"
      ],
      "text/plain": [
       "     movieId                                   title  \\\n",
       "4162    6003  Confessions of a Dangerous Mind (2002)   \n",
       "9069  144606  Confessions of a Dangerous Mind (2002)   \n",
       "\n",
       "                                   genres  year tmdbId    imdb_id  \\\n",
       "4162          Comedy|Crime|Drama|Thriller  2002   4912  tt0270288   \n",
       "9069  Comedy|Crime|Drama|Romance|Thriller  2002   4912  tt0270288   \n",
       "\n",
       "                                               overview  \\\n",
       "4162  Television made him famous, but his biggest hi...   \n",
       "9069  Television made him famous, but his biggest hi...   \n",
       "\n",
       "                                      tagline  vote_average  vote_count  \n",
       "4162  Some things are better left top secret.           6.6       281.0  \n",
       "9069  Some things are better left top secret.           6.6       281.0  "
      ]
     },
     "execution_count": 68,
     "metadata": {},
     "output_type": "execute_result"
    }
   ],
   "source": [
    "df_meta[df_meta['title'] == 'Confessions of a Dangerous Mind (2002)']"
   ]
  },
  {
   "cell_type": "code",
   "execution_count": 69,
   "id": "c3f9f6b2",
   "metadata": {},
   "outputs": [
    {
     "data": {
      "text/html": [
       "<div>\n",
       "<style scoped>\n",
       "    .dataframe tbody tr th:only-of-type {\n",
       "        vertical-align: middle;\n",
       "    }\n",
       "\n",
       "    .dataframe tbody tr th {\n",
       "        vertical-align: top;\n",
       "    }\n",
       "\n",
       "    .dataframe thead th {\n",
       "        text-align: right;\n",
       "    }\n",
       "</style>\n",
       "<table border=\"1\" class=\"dataframe\">\n",
       "  <thead>\n",
       "    <tr style=\"text-align: right;\">\n",
       "      <th></th>\n",
       "      <th>movieId</th>\n",
       "      <th>title</th>\n",
       "      <th>genres</th>\n",
       "      <th>year</th>\n",
       "      <th>tmdbId</th>\n",
       "      <th>imdb_id</th>\n",
       "      <th>overview</th>\n",
       "      <th>tagline</th>\n",
       "      <th>vote_average</th>\n",
       "      <th>vote_count</th>\n",
       "    </tr>\n",
       "  </thead>\n",
       "  <tbody>\n",
       "    <tr>\n",
       "      <th>648</th>\n",
       "      <td>838</td>\n",
       "      <td>Emma (1996)</td>\n",
       "      <td>Comedy|Drama|Romance</td>\n",
       "      <td>1996</td>\n",
       "      <td>3573</td>\n",
       "      <td>tt0116191</td>\n",
       "      <td>Emma Woodhouse is a congenial young lady who d...</td>\n",
       "      <td>Cupid is armed and dangerous!</td>\n",
       "      <td>6.7</td>\n",
       "      <td>152.0</td>\n",
       "    </tr>\n",
       "    <tr>\n",
       "      <th>5590</th>\n",
       "      <td>26958</td>\n",
       "      <td>Emma (1996)</td>\n",
       "      <td>Romance</td>\n",
       "      <td>1996</td>\n",
       "      <td>12254</td>\n",
       "      <td>tt0118308</td>\n",
       "      <td>Emma Woodhouse has a rigid sense of propriety ...</td>\n",
       "      <td></td>\n",
       "      <td>6.7</td>\n",
       "      <td>34.0</td>\n",
       "    </tr>\n",
       "  </tbody>\n",
       "</table>\n",
       "</div>"
      ],
      "text/plain": [
       "     movieId        title                genres  year tmdbId    imdb_id  \\\n",
       "648      838  Emma (1996)  Comedy|Drama|Romance  1996   3573  tt0116191   \n",
       "5590   26958  Emma (1996)               Romance  1996  12254  tt0118308   \n",
       "\n",
       "                                               overview  \\\n",
       "648   Emma Woodhouse is a congenial young lady who d...   \n",
       "5590  Emma Woodhouse has a rigid sense of propriety ...   \n",
       "\n",
       "                            tagline  vote_average  vote_count  \n",
       "648   Cupid is armed and dangerous!           6.7       152.0  \n",
       "5590                                          6.7        34.0  "
      ]
     },
     "execution_count": 69,
     "metadata": {},
     "output_type": "execute_result"
    }
   ],
   "source": [
    "df_meta[df_meta['title'] == 'Emma (1996)']"
   ]
  },
  {
   "cell_type": "code",
   "execution_count": 70,
   "id": "4ba3b15e",
   "metadata": {},
   "outputs": [
    {
     "data": {
      "text/html": [
       "<div>\n",
       "<style scoped>\n",
       "    .dataframe tbody tr th:only-of-type {\n",
       "        vertical-align: middle;\n",
       "    }\n",
       "\n",
       "    .dataframe tbody tr th {\n",
       "        vertical-align: top;\n",
       "    }\n",
       "\n",
       "    .dataframe thead th {\n",
       "        text-align: right;\n",
       "    }\n",
       "</style>\n",
       "<table border=\"1\" class=\"dataframe\">\n",
       "  <thead>\n",
       "    <tr style=\"text-align: right;\">\n",
       "      <th></th>\n",
       "      <th>movieId</th>\n",
       "      <th>title</th>\n",
       "      <th>genres</th>\n",
       "      <th>year</th>\n",
       "      <th>tmdbId</th>\n",
       "      <th>imdb_id</th>\n",
       "      <th>overview</th>\n",
       "      <th>tagline</th>\n",
       "      <th>vote_average</th>\n",
       "      <th>vote_count</th>\n",
       "    </tr>\n",
       "  </thead>\n",
       "  <tbody>\n",
       "    <tr>\n",
       "      <th>5916</th>\n",
       "      <td>34048</td>\n",
       "      <td>War of the Worlds (2005)</td>\n",
       "      <td>Action|Adventure|Sci-Fi|Thriller</td>\n",
       "      <td>2005</td>\n",
       "      <td>74</td>\n",
       "      <td>tt0407304</td>\n",
       "      <td>Ray Ferrier is a divorced dockworker and less-...</td>\n",
       "      <td>They're already here.</td>\n",
       "      <td>6.2</td>\n",
       "      <td>2397.0</td>\n",
       "    </tr>\n",
       "    <tr>\n",
       "      <th>6912</th>\n",
       "      <td>64997</td>\n",
       "      <td>War of the Worlds (2005)</td>\n",
       "      <td>Action|Sci-Fi</td>\n",
       "      <td>2005</td>\n",
       "      <td>34812</td>\n",
       "      <td>tt0449040</td>\n",
       "      <td>In this modern retelling of H.G. Wells' classi...</td>\n",
       "      <td></td>\n",
       "      <td>4.4</td>\n",
       "      <td>10.0</td>\n",
       "    </tr>\n",
       "  </tbody>\n",
       "</table>\n",
       "</div>"
      ],
      "text/plain": [
       "     movieId                     title                            genres  \\\n",
       "5916   34048  War of the Worlds (2005)  Action|Adventure|Sci-Fi|Thriller   \n",
       "6912   64997  War of the Worlds (2005)                     Action|Sci-Fi   \n",
       "\n",
       "      year tmdbId    imdb_id  \\\n",
       "5916  2005     74  tt0407304   \n",
       "6912  2005  34812  tt0449040   \n",
       "\n",
       "                                               overview  \\\n",
       "5916  Ray Ferrier is a divorced dockworker and less-...   \n",
       "6912  In this modern retelling of H.G. Wells' classi...   \n",
       "\n",
       "                    tagline  vote_average  vote_count  \n",
       "5916  They're already here.           6.2      2397.0  \n",
       "6912                                  4.4        10.0  "
      ]
     },
     "execution_count": 70,
     "metadata": {},
     "output_type": "execute_result"
    }
   ],
   "source": [
    "df_meta[df_meta['title'] == 'War of the Worlds (2005)']"
   ]
  },
  {
   "cell_type": "markdown",
   "id": "bdd9c0fb",
   "metadata": {},
   "source": [
    "The movies investigated above have same titles but are different. Since we intend to build a relevance matrix based on the movie title, we must no thave duplicates in the title. We would be relying on subject matter expertise on choosing amongs the duplicates. \n",
    "- The rows for movie `Pokémon 3: The Movie (2001)` are the same except the vote_count. One of the two rows can be deleted. There is a similar case with rows for movie `Clockstoppers (2002)`. \n",
    "- There are two seperate movieIds for the movie `Confessions of a Dangerous Mind (2002)` but all the other entries for the two rows are same. These can be considered duplicates. \n",
    "- Dealing with the two rows for `Emma (1996)` is a tricky situation. Upon checking the movies using their IMDb ids, one will see that the first row is a movie while the second is a TV movie. In order to stay consistent in the dataset, the first row, which is a movie, will be retained. \n",
    "- Upon checking the information for the two `War of the Worlds (2005)` movies, it has been found that the first entry is a movie whereas the second is a video game. Hence, the second entry will be deleted. "
   ]
  },
  {
   "cell_type": "code",
   "execution_count": 71,
   "id": "77962727",
   "metadata": {},
   "outputs": [],
   "source": [
    "df_meta.drop(index=[3148,3760,9069,5590,6912], inplace=True)"
   ]
  },
  {
   "cell_type": "code",
   "execution_count": 72,
   "id": "4a3c79dc",
   "metadata": {},
   "outputs": [],
   "source": [
    "df_meta.reset_index(inplace=True)"
   ]
  },
  {
   "cell_type": "code",
   "execution_count": 73,
   "id": "2a2346ac",
   "metadata": {},
   "outputs": [],
   "source": [
    "df_meta.drop(columns=['index'], inplace=True)"
   ]
  },
  {
   "cell_type": "markdown",
   "id": "e2d5f687-614b-481b-aa58-c5aec036af1c",
   "metadata": {},
   "source": [
    "### IMDb Rating Data"
   ]
  },
  {
   "cell_type": "code",
   "execution_count": 74,
   "id": "2dd3dbcb-11d9-4319-991b-36c6b80e847c",
   "metadata": {},
   "outputs": [
    {
     "data": {
      "text/html": [
       "<div>\n",
       "<style scoped>\n",
       "    .dataframe tbody tr th:only-of-type {\n",
       "        vertical-align: middle;\n",
       "    }\n",
       "\n",
       "    .dataframe tbody tr th {\n",
       "        vertical-align: top;\n",
       "    }\n",
       "\n",
       "    .dataframe thead th {\n",
       "        text-align: right;\n",
       "    }\n",
       "</style>\n",
       "<table border=\"1\" class=\"dataframe\">\n",
       "  <thead>\n",
       "    <tr style=\"text-align: right;\">\n",
       "      <th></th>\n",
       "      <th>tconst</th>\n",
       "      <th>averageRating</th>\n",
       "      <th>numVotes</th>\n",
       "    </tr>\n",
       "  </thead>\n",
       "  <tbody>\n",
       "    <tr>\n",
       "      <th>0</th>\n",
       "      <td>tt0000001</td>\n",
       "      <td>5.7</td>\n",
       "      <td>1869</td>\n",
       "    </tr>\n",
       "    <tr>\n",
       "      <th>1</th>\n",
       "      <td>tt0000002</td>\n",
       "      <td>5.9</td>\n",
       "      <td>247</td>\n",
       "    </tr>\n",
       "    <tr>\n",
       "      <th>2</th>\n",
       "      <td>tt0000003</td>\n",
       "      <td>6.5</td>\n",
       "      <td>1644</td>\n",
       "    </tr>\n",
       "    <tr>\n",
       "      <th>3</th>\n",
       "      <td>tt0000004</td>\n",
       "      <td>5.8</td>\n",
       "      <td>159</td>\n",
       "    </tr>\n",
       "    <tr>\n",
       "      <th>4</th>\n",
       "      <td>tt0000005</td>\n",
       "      <td>6.2</td>\n",
       "      <td>2468</td>\n",
       "    </tr>\n",
       "  </tbody>\n",
       "</table>\n",
       "</div>"
      ],
      "text/plain": [
       "      tconst  averageRating  numVotes\n",
       "0  tt0000001            5.7      1869\n",
       "1  tt0000002            5.9       247\n",
       "2  tt0000003            6.5      1644\n",
       "3  tt0000004            5.8       159\n",
       "4  tt0000005            6.2      2468"
      ]
     },
     "execution_count": 74,
     "metadata": {},
     "output_type": "execute_result"
    }
   ],
   "source": [
    "df_imdb = pd.read_csv('../data/ratings.tsv', sep='\\t')\n",
    "df_imdb.head()"
   ]
  },
  {
   "cell_type": "code",
   "execution_count": 75,
   "id": "1177f153-127a-456c-9f3f-d3c2f97afe69",
   "metadata": {},
   "outputs": [
    {
     "data": {
      "text/html": [
       "<div>\n",
       "<style scoped>\n",
       "    .dataframe tbody tr th:only-of-type {\n",
       "        vertical-align: middle;\n",
       "    }\n",
       "\n",
       "    .dataframe tbody tr th {\n",
       "        vertical-align: top;\n",
       "    }\n",
       "\n",
       "    .dataframe thead th {\n",
       "        text-align: right;\n",
       "    }\n",
       "</style>\n",
       "<table border=\"1\" class=\"dataframe\">\n",
       "  <thead>\n",
       "    <tr style=\"text-align: right;\">\n",
       "      <th></th>\n",
       "      <th>movieId</th>\n",
       "      <th>title</th>\n",
       "      <th>genres</th>\n",
       "      <th>year</th>\n",
       "      <th>tmdbId</th>\n",
       "      <th>imdb_id</th>\n",
       "      <th>overview</th>\n",
       "      <th>tagline</th>\n",
       "      <th>vote_average</th>\n",
       "      <th>vote_count</th>\n",
       "      <th>tconst</th>\n",
       "      <th>averageRating</th>\n",
       "      <th>numVotes</th>\n",
       "    </tr>\n",
       "  </thead>\n",
       "  <tbody>\n",
       "    <tr>\n",
       "      <th>0</th>\n",
       "      <td>1</td>\n",
       "      <td>Toy Story (1995)</td>\n",
       "      <td>Adventure|Animation|Children|Comedy|Fantasy</td>\n",
       "      <td>1995</td>\n",
       "      <td>862</td>\n",
       "      <td>tt0114709</td>\n",
       "      <td>Led by Woody, Andy's toys live happily in his ...</td>\n",
       "      <td></td>\n",
       "      <td>7.7</td>\n",
       "      <td>5415.0</td>\n",
       "      <td>tt0114709</td>\n",
       "      <td>8.3</td>\n",
       "      <td>956821.0</td>\n",
       "    </tr>\n",
       "    <tr>\n",
       "      <th>1</th>\n",
       "      <td>2</td>\n",
       "      <td>Jumanji (1995)</td>\n",
       "      <td>Adventure|Children|Fantasy</td>\n",
       "      <td>1995</td>\n",
       "      <td>8844</td>\n",
       "      <td>tt0113497</td>\n",
       "      <td>When siblings Judy and Peter discover an encha...</td>\n",
       "      <td>Roll the dice and unleash the excitement!</td>\n",
       "      <td>6.9</td>\n",
       "      <td>2413.0</td>\n",
       "      <td>tt0113497</td>\n",
       "      <td>7.0</td>\n",
       "      <td>334566.0</td>\n",
       "    </tr>\n",
       "    <tr>\n",
       "      <th>2</th>\n",
       "      <td>3</td>\n",
       "      <td>Grumpier Old Men (1995)</td>\n",
       "      <td>Comedy|Romance</td>\n",
       "      <td>1995</td>\n",
       "      <td>15602</td>\n",
       "      <td>tt0113228</td>\n",
       "      <td>A family wedding reignites the ancient feud be...</td>\n",
       "      <td>Still Yelling. Still Fighting. Still Ready for...</td>\n",
       "      <td>6.5</td>\n",
       "      <td>92.0</td>\n",
       "      <td>tt0113228</td>\n",
       "      <td>6.6</td>\n",
       "      <td>26930.0</td>\n",
       "    </tr>\n",
       "    <tr>\n",
       "      <th>3</th>\n",
       "      <td>4</td>\n",
       "      <td>Waiting to Exhale (1995)</td>\n",
       "      <td>Comedy|Drama|Romance</td>\n",
       "      <td>1995</td>\n",
       "      <td>31357</td>\n",
       "      <td>tt0114885</td>\n",
       "      <td>Cheated on, mistreated and stepped on, the wom...</td>\n",
       "      <td>Friends are the people who let you be yourself...</td>\n",
       "      <td>6.1</td>\n",
       "      <td>34.0</td>\n",
       "      <td>tt0114885</td>\n",
       "      <td>5.9</td>\n",
       "      <td>10784.0</td>\n",
       "    </tr>\n",
       "    <tr>\n",
       "      <th>4</th>\n",
       "      <td>5</td>\n",
       "      <td>Father of the Bride Part II (1995)</td>\n",
       "      <td>Comedy</td>\n",
       "      <td>1995</td>\n",
       "      <td>11862</td>\n",
       "      <td>tt0113041</td>\n",
       "      <td>Just when George Banks has recovered from his ...</td>\n",
       "      <td>Just When His World Is Back To Normal... He's ...</td>\n",
       "      <td>5.7</td>\n",
       "      <td>173.0</td>\n",
       "      <td>tt0113041</td>\n",
       "      <td>6.0</td>\n",
       "      <td>37433.0</td>\n",
       "    </tr>\n",
       "  </tbody>\n",
       "</table>\n",
       "</div>"
      ],
      "text/plain": [
       "  movieId                               title  \\\n",
       "0       1                    Toy Story (1995)   \n",
       "1       2                      Jumanji (1995)   \n",
       "2       3             Grumpier Old Men (1995)   \n",
       "3       4            Waiting to Exhale (1995)   \n",
       "4       5  Father of the Bride Part II (1995)   \n",
       "\n",
       "                                        genres  year tmdbId    imdb_id  \\\n",
       "0  Adventure|Animation|Children|Comedy|Fantasy  1995    862  tt0114709   \n",
       "1                   Adventure|Children|Fantasy  1995   8844  tt0113497   \n",
       "2                               Comedy|Romance  1995  15602  tt0113228   \n",
       "3                         Comedy|Drama|Romance  1995  31357  tt0114885   \n",
       "4                                       Comedy  1995  11862  tt0113041   \n",
       "\n",
       "                                            overview  \\\n",
       "0  Led by Woody, Andy's toys live happily in his ...   \n",
       "1  When siblings Judy and Peter discover an encha...   \n",
       "2  A family wedding reignites the ancient feud be...   \n",
       "3  Cheated on, mistreated and stepped on, the wom...   \n",
       "4  Just when George Banks has recovered from his ...   \n",
       "\n",
       "                                             tagline  vote_average  \\\n",
       "0                                                              7.7   \n",
       "1          Roll the dice and unleash the excitement!           6.9   \n",
       "2  Still Yelling. Still Fighting. Still Ready for...           6.5   \n",
       "3  Friends are the people who let you be yourself...           6.1   \n",
       "4  Just When His World Is Back To Normal... He's ...           5.7   \n",
       "\n",
       "   vote_count     tconst  averageRating  numVotes  \n",
       "0      5415.0  tt0114709            8.3  956821.0  \n",
       "1      2413.0  tt0113497            7.0  334566.0  \n",
       "2        92.0  tt0113228            6.6   26930.0  \n",
       "3        34.0  tt0114885            5.9   10784.0  \n",
       "4       173.0  tt0113041            6.0   37433.0  "
      ]
     },
     "execution_count": 75,
     "metadata": {},
     "output_type": "execute_result"
    }
   ],
   "source": [
    "df_meta = pd.merge(df_meta, df_imdb, how='left', left_on='imdb_id', right_on='tconst')\n",
    "df_meta.head()"
   ]
  },
  {
   "cell_type": "code",
   "execution_count": 76,
   "id": "f73e7288-c4cf-439a-8ba2-66ad0311bef2",
   "metadata": {},
   "outputs": [],
   "source": [
    "df_meta.drop(columns=['tconst'], inplace=True)"
   ]
  },
  {
   "cell_type": "code",
   "execution_count": 77,
   "id": "53b95169-c288-42f5-8e1d-38570630169a",
   "metadata": {},
   "outputs": [],
   "source": [
    "df_meta.rename(columns={'movieId':'movie_id','tmdbId': 'tmdb_id','vote_average': 'tmdb_rating',\n",
    "                        'vote_count': 'tmdb_votes', 'averageRating': 'imdb_rating', 'numVotes': 'imdb_votes'}, inplace=True)"
   ]
  },
  {
   "cell_type": "code",
   "execution_count": 78,
   "id": "c7880a07-7d3a-4638-bae2-1673bccd56af",
   "metadata": {},
   "outputs": [
    {
     "data": {
      "text/html": [
       "<div>\n",
       "<style scoped>\n",
       "    .dataframe tbody tr th:only-of-type {\n",
       "        vertical-align: middle;\n",
       "    }\n",
       "\n",
       "    .dataframe tbody tr th {\n",
       "        vertical-align: top;\n",
       "    }\n",
       "\n",
       "    .dataframe thead th {\n",
       "        text-align: right;\n",
       "    }\n",
       "</style>\n",
       "<table border=\"1\" class=\"dataframe\">\n",
       "  <thead>\n",
       "    <tr style=\"text-align: right;\">\n",
       "      <th></th>\n",
       "      <th>movie_id</th>\n",
       "      <th>title</th>\n",
       "      <th>genres</th>\n",
       "      <th>year</th>\n",
       "      <th>tmdb_id</th>\n",
       "      <th>imdb_id</th>\n",
       "      <th>overview</th>\n",
       "      <th>tagline</th>\n",
       "      <th>tmdb_rating</th>\n",
       "      <th>tmdb_votes</th>\n",
       "      <th>imdb_rating</th>\n",
       "      <th>imdb_votes</th>\n",
       "    </tr>\n",
       "  </thead>\n",
       "  <tbody>\n",
       "    <tr>\n",
       "      <th>0</th>\n",
       "      <td>1</td>\n",
       "      <td>Toy Story (1995)</td>\n",
       "      <td>Adventure|Animation|Children|Comedy|Fantasy</td>\n",
       "      <td>1995</td>\n",
       "      <td>862</td>\n",
       "      <td>tt0114709</td>\n",
       "      <td>Led by Woody, Andy's toys live happily in his ...</td>\n",
       "      <td></td>\n",
       "      <td>7.7</td>\n",
       "      <td>5415.0</td>\n",
       "      <td>8.3</td>\n",
       "      <td>956821.0</td>\n",
       "    </tr>\n",
       "    <tr>\n",
       "      <th>1</th>\n",
       "      <td>2</td>\n",
       "      <td>Jumanji (1995)</td>\n",
       "      <td>Adventure|Children|Fantasy</td>\n",
       "      <td>1995</td>\n",
       "      <td>8844</td>\n",
       "      <td>tt0113497</td>\n",
       "      <td>When siblings Judy and Peter discover an encha...</td>\n",
       "      <td>Roll the dice and unleash the excitement!</td>\n",
       "      <td>6.9</td>\n",
       "      <td>2413.0</td>\n",
       "      <td>7.0</td>\n",
       "      <td>334566.0</td>\n",
       "    </tr>\n",
       "    <tr>\n",
       "      <th>2</th>\n",
       "      <td>3</td>\n",
       "      <td>Grumpier Old Men (1995)</td>\n",
       "      <td>Comedy|Romance</td>\n",
       "      <td>1995</td>\n",
       "      <td>15602</td>\n",
       "      <td>tt0113228</td>\n",
       "      <td>A family wedding reignites the ancient feud be...</td>\n",
       "      <td>Still Yelling. Still Fighting. Still Ready for...</td>\n",
       "      <td>6.5</td>\n",
       "      <td>92.0</td>\n",
       "      <td>6.6</td>\n",
       "      <td>26930.0</td>\n",
       "    </tr>\n",
       "    <tr>\n",
       "      <th>3</th>\n",
       "      <td>4</td>\n",
       "      <td>Waiting to Exhale (1995)</td>\n",
       "      <td>Comedy|Drama|Romance</td>\n",
       "      <td>1995</td>\n",
       "      <td>31357</td>\n",
       "      <td>tt0114885</td>\n",
       "      <td>Cheated on, mistreated and stepped on, the wom...</td>\n",
       "      <td>Friends are the people who let you be yourself...</td>\n",
       "      <td>6.1</td>\n",
       "      <td>34.0</td>\n",
       "      <td>5.9</td>\n",
       "      <td>10784.0</td>\n",
       "    </tr>\n",
       "    <tr>\n",
       "      <th>4</th>\n",
       "      <td>5</td>\n",
       "      <td>Father of the Bride Part II (1995)</td>\n",
       "      <td>Comedy</td>\n",
       "      <td>1995</td>\n",
       "      <td>11862</td>\n",
       "      <td>tt0113041</td>\n",
       "      <td>Just when George Banks has recovered from his ...</td>\n",
       "      <td>Just When His World Is Back To Normal... He's ...</td>\n",
       "      <td>5.7</td>\n",
       "      <td>173.0</td>\n",
       "      <td>6.0</td>\n",
       "      <td>37433.0</td>\n",
       "    </tr>\n",
       "  </tbody>\n",
       "</table>\n",
       "</div>"
      ],
      "text/plain": [
       "  movie_id                               title  \\\n",
       "0        1                    Toy Story (1995)   \n",
       "1        2                      Jumanji (1995)   \n",
       "2        3             Grumpier Old Men (1995)   \n",
       "3        4            Waiting to Exhale (1995)   \n",
       "4        5  Father of the Bride Part II (1995)   \n",
       "\n",
       "                                        genres  year tmdb_id    imdb_id  \\\n",
       "0  Adventure|Animation|Children|Comedy|Fantasy  1995     862  tt0114709   \n",
       "1                   Adventure|Children|Fantasy  1995    8844  tt0113497   \n",
       "2                               Comedy|Romance  1995   15602  tt0113228   \n",
       "3                         Comedy|Drama|Romance  1995   31357  tt0114885   \n",
       "4                                       Comedy  1995   11862  tt0113041   \n",
       "\n",
       "                                            overview  \\\n",
       "0  Led by Woody, Andy's toys live happily in his ...   \n",
       "1  When siblings Judy and Peter discover an encha...   \n",
       "2  A family wedding reignites the ancient feud be...   \n",
       "3  Cheated on, mistreated and stepped on, the wom...   \n",
       "4  Just when George Banks has recovered from his ...   \n",
       "\n",
       "                                             tagline  tmdb_rating  tmdb_votes  \\\n",
       "0                                                             7.7      5415.0   \n",
       "1          Roll the dice and unleash the excitement!          6.9      2413.0   \n",
       "2  Still Yelling. Still Fighting. Still Ready for...          6.5        92.0   \n",
       "3  Friends are the people who let you be yourself...          6.1        34.0   \n",
       "4  Just When His World Is Back To Normal... He's ...          5.7       173.0   \n",
       "\n",
       "   imdb_rating  imdb_votes  \n",
       "0          8.3    956821.0  \n",
       "1          7.0    334566.0  \n",
       "2          6.6     26930.0  \n",
       "3          5.9     10784.0  \n",
       "4          6.0     37433.0  "
      ]
     },
     "execution_count": 78,
     "metadata": {},
     "output_type": "execute_result"
    }
   ],
   "source": [
    "df_meta.head()"
   ]
  },
  {
   "cell_type": "code",
   "execution_count": 79,
   "id": "11b6f138-73b7-409d-a4ec-22892441b480",
   "metadata": {},
   "outputs": [
    {
     "data": {
      "text/plain": [
       "movie_id       0\n",
       "title          0\n",
       "genres         0\n",
       "year           0\n",
       "tmdb_id        0\n",
       "imdb_id        2\n",
       "overview       0\n",
       "tagline        0\n",
       "tmdb_rating    0\n",
       "tmdb_votes     0\n",
       "imdb_rating    6\n",
       "imdb_votes     6\n",
       "dtype: int64"
      ]
     },
     "execution_count": 79,
     "metadata": {},
     "output_type": "execute_result"
    }
   ],
   "source": [
    "df_meta.isnull().sum()"
   ]
  },
  {
   "cell_type": "code",
   "execution_count": 80,
   "id": "98d48a65-8176-4208-9f8f-253243b28ede",
   "metadata": {},
   "outputs": [],
   "source": [
    "indices = df_meta[df_meta['imdb_id'].isnull()].index"
   ]
  },
  {
   "cell_type": "code",
   "execution_count": 81,
   "id": "accb137b-b909-4c30-9be6-3ca89643a8eb",
   "metadata": {},
   "outputs": [
    {
     "data": {
      "text/plain": [
       "numpy.int64"
      ]
     },
     "execution_count": 81,
     "metadata": {},
     "output_type": "execute_result"
    }
   ],
   "source": [
    "type(indices[0])"
   ]
  },
  {
   "cell_type": "markdown",
   "id": "4da20de0-4f9b-4e0b-8003-297c8d464492",
   "metadata": {},
   "source": [
    "A quick research of the IMDB website gives the IMDB ids for the two movies above. "
   ]
  },
  {
   "cell_type": "code",
   "execution_count": 82,
   "id": "014daf8e-514f-4209-a3e9-e4d9e023e109",
   "metadata": {},
   "outputs": [],
   "source": [
    "df_meta.loc[indices[0],'imdb_id'] = 'tt0490048'"
   ]
  },
  {
   "cell_type": "code",
   "execution_count": 83,
   "id": "07beddae-1e2d-4534-ba90-6474b7ade74a",
   "metadata": {},
   "outputs": [],
   "source": [
    "df_meta.loc[indices[1],'imdb_id'] = 'tt1325753'"
   ]
  },
  {
   "cell_type": "code",
   "execution_count": 84,
   "id": "cd07391c-d919-4c1f-a9ef-18f917e81ab5",
   "metadata": {},
   "outputs": [
    {
     "data": {
      "text/plain": [
       "movie_id       0\n",
       "title          0\n",
       "genres         0\n",
       "year           0\n",
       "tmdb_id        0\n",
       "imdb_id        0\n",
       "overview       0\n",
       "tagline        0\n",
       "tmdb_rating    0\n",
       "tmdb_votes     0\n",
       "imdb_rating    6\n",
       "imdb_votes     6\n",
       "dtype: int64"
      ]
     },
     "execution_count": 84,
     "metadata": {},
     "output_type": "execute_result"
    }
   ],
   "source": [
    "df_meta.isnull().sum()"
   ]
  },
  {
   "cell_type": "code",
   "execution_count": 85,
   "id": "40788e96-761e-4b88-867d-fac3373ba04e",
   "metadata": {},
   "outputs": [],
   "source": [
    "#IMDB ids with missing rating data\n",
    "imdb_ids = df_meta[df_meta['imdb_rating'].isnull()]['imdb_id'].values"
   ]
  },
  {
   "cell_type": "code",
   "execution_count": 86,
   "id": "b76108a1-c63c-463e-8592-b16eeac55db4",
   "metadata": {},
   "outputs": [
    {
     "data": {
      "text/plain": [
       "array(['tt0169590', 'tt0490048', 'tt1325753', 'tt3534602', 'tt0088263',\n",
       "       'tt0862766'], dtype=object)"
      ]
     },
     "execution_count": 86,
     "metadata": {},
     "output_type": "execute_result"
    }
   ],
   "source": [
    "imdb_ids"
   ]
  },
  {
   "cell_type": "code",
   "execution_count": 87,
   "id": "5d850dd8-1945-42e8-8962-0cf61657f372",
   "metadata": {},
   "outputs": [],
   "source": [
    "imdb_list = []\n",
    "for imdb_id in imdb_ids: \n",
    "    #t= random.uniform(1, 7)\n",
    "    time.sleep(3)\n",
    "    url = 'https://www.imdb.com/title/' + imdb_id + '/?ref_=fn_al_tt_1'\n",
    "    res = requests.get(url)\n",
    "    soup = BeautifulSoup(res.text, 'lxml')\n",
    "    script = soup.find('script', { 'id' : '__NEXT_DATA__' })\n",
    "    imdb_dict = {}\n",
    "    try:  \n",
    "        #IMDB id\n",
    "        imdb_dict['tconst'] = imdb_id\n",
    "        #Rating\n",
    "        imdb_dict['averageRating'] = json.loads(script.contents[0])['props']['pageProps']['aboveTheFoldData']['ratingsSummary']['aggregateRating']\n",
    "        #Rating Vote Count\n",
    "        imdb_dict['numVotes'] = json.loads(script.contents[0])['props']['pageProps']['aboveTheFoldData']['ratingsSummary']['voteCount']\n",
    "        imdb_list.append(imdb_dict)\n",
    "    except:\n",
    "        imdb_dict['tconst'] = imdb_id\n",
    "        #Rating\n",
    "        imdb_dict['averageRating'] = 0\n",
    "        #Rating Vote Count\n",
    "        imdb_dict['numVotes'] = 0\n",
    "        imdb_list.append(imdb_dict)"
   ]
  },
  {
   "cell_type": "code",
   "execution_count": 88,
   "id": "f84f9c8b-c758-45fa-840b-71d66963b9a9",
   "metadata": {},
   "outputs": [
    {
     "data": {
      "text/plain": [
       "[{'tconst': 'tt0169590', 'averageRating': 0, 'numVotes': 0},\n",
       " {'tconst': 'tt0490048', 'averageRating': 8.2, 'numVotes': 2062},\n",
       " {'tconst': 'tt1325753', 'averageRating': 6.9, 'numVotes': 12397},\n",
       " {'tconst': 'tt3534602', 'averageRating': 5.1, 'numVotes': 10979},\n",
       " {'tconst': 'tt0088263', 'averageRating': 8.7, 'numVotes': 16873},\n",
       " {'tconst': 'tt0862766', 'averageRating': 8.5, 'numVotes': 13105}]"
      ]
     },
     "execution_count": 88,
     "metadata": {},
     "output_type": "execute_result"
    }
   ],
   "source": [
    "imdb_list"
   ]
  },
  {
   "cell_type": "code",
   "execution_count": 89,
   "id": "f2f324b4-3a21-432a-891d-52cbdae92780",
   "metadata": {},
   "outputs": [],
   "source": [
    "indices = df_meta[df_meta['imdb_rating'].isnull()][['imdb_id', 'imdb_rating','imdb_votes']].index"
   ]
  },
  {
   "cell_type": "code",
   "execution_count": 90,
   "id": "ec99d569-8106-454d-9b4f-166ded3a91ef",
   "metadata": {},
   "outputs": [
    {
     "data": {
      "text/html": [
       "<div>\n",
       "<style scoped>\n",
       "    .dataframe tbody tr th:only-of-type {\n",
       "        vertical-align: middle;\n",
       "    }\n",
       "\n",
       "    .dataframe tbody tr th {\n",
       "        vertical-align: top;\n",
       "    }\n",
       "\n",
       "    .dataframe thead th {\n",
       "        text-align: right;\n",
       "    }\n",
       "</style>\n",
       "<table border=\"1\" class=\"dataframe\">\n",
       "  <thead>\n",
       "    <tr style=\"text-align: right;\">\n",
       "      <th></th>\n",
       "      <th>imdb_id</th>\n",
       "      <th>imdb_rating</th>\n",
       "      <th>imdb_votes</th>\n",
       "    </tr>\n",
       "  </thead>\n",
       "  <tbody>\n",
       "    <tr>\n",
       "      <th>5606</th>\n",
       "      <td>tt0169590</td>\n",
       "      <td>NaN</td>\n",
       "      <td>NaN</td>\n",
       "    </tr>\n",
       "    <tr>\n",
       "      <th>7852</th>\n",
       "      <td>tt0490048</td>\n",
       "      <td>NaN</td>\n",
       "      <td>NaN</td>\n",
       "    </tr>\n",
       "    <tr>\n",
       "      <th>8114</th>\n",
       "      <td>tt1325753</td>\n",
       "      <td>NaN</td>\n",
       "      <td>NaN</td>\n",
       "    </tr>\n",
       "    <tr>\n",
       "      <th>8704</th>\n",
       "      <td>tt3534602</td>\n",
       "      <td>NaN</td>\n",
       "      <td>NaN</td>\n",
       "    </tr>\n",
       "    <tr>\n",
       "      <th>9182</th>\n",
       "      <td>tt0088263</td>\n",
       "      <td>NaN</td>\n",
       "      <td>NaN</td>\n",
       "    </tr>\n",
       "    <tr>\n",
       "      <th>9519</th>\n",
       "      <td>tt0862766</td>\n",
       "      <td>NaN</td>\n",
       "      <td>NaN</td>\n",
       "    </tr>\n",
       "  </tbody>\n",
       "</table>\n",
       "</div>"
      ],
      "text/plain": [
       "        imdb_id  imdb_rating  imdb_votes\n",
       "5606  tt0169590          NaN         NaN\n",
       "7852  tt0490048          NaN         NaN\n",
       "8114  tt1325753          NaN         NaN\n",
       "8704  tt3534602          NaN         NaN\n",
       "9182  tt0088263          NaN         NaN\n",
       "9519  tt0862766          NaN         NaN"
      ]
     },
     "execution_count": 90,
     "metadata": {},
     "output_type": "execute_result"
    }
   ],
   "source": [
    "df_meta.iloc[indices][['imdb_id', 'imdb_rating','imdb_votes']]"
   ]
  },
  {
   "cell_type": "code",
   "execution_count": 91,
   "id": "5d94a71a-3699-4150-b854-eea2cab15297",
   "metadata": {},
   "outputs": [],
   "source": [
    "for i in range(len(indices)):\n",
    "    df_meta.loc[indices[i], 'imdb_rating'] = imdb_list[i]['averageRating'] \n",
    "    df_meta.loc[indices[i], 'imdb_votes'] = imdb_list[i]['numVotes'] "
   ]
  },
  {
   "cell_type": "code",
   "execution_count": 92,
   "id": "4a389b12-4faa-4d14-88bf-aa5291ea531e",
   "metadata": {},
   "outputs": [
    {
     "data": {
      "text/html": [
       "<div>\n",
       "<style scoped>\n",
       "    .dataframe tbody tr th:only-of-type {\n",
       "        vertical-align: middle;\n",
       "    }\n",
       "\n",
       "    .dataframe tbody tr th {\n",
       "        vertical-align: top;\n",
       "    }\n",
       "\n",
       "    .dataframe thead th {\n",
       "        text-align: right;\n",
       "    }\n",
       "</style>\n",
       "<table border=\"1\" class=\"dataframe\">\n",
       "  <thead>\n",
       "    <tr style=\"text-align: right;\">\n",
       "      <th></th>\n",
       "      <th>imdb_id</th>\n",
       "      <th>imdb_rating</th>\n",
       "      <th>imdb_votes</th>\n",
       "    </tr>\n",
       "  </thead>\n",
       "  <tbody>\n",
       "    <tr>\n",
       "      <th>5606</th>\n",
       "      <td>tt0169590</td>\n",
       "      <td>0.0</td>\n",
       "      <td>0.0</td>\n",
       "    </tr>\n",
       "    <tr>\n",
       "      <th>7852</th>\n",
       "      <td>tt0490048</td>\n",
       "      <td>8.2</td>\n",
       "      <td>2062.0</td>\n",
       "    </tr>\n",
       "    <tr>\n",
       "      <th>8114</th>\n",
       "      <td>tt1325753</td>\n",
       "      <td>6.9</td>\n",
       "      <td>12397.0</td>\n",
       "    </tr>\n",
       "    <tr>\n",
       "      <th>8704</th>\n",
       "      <td>tt3534602</td>\n",
       "      <td>5.1</td>\n",
       "      <td>10979.0</td>\n",
       "    </tr>\n",
       "    <tr>\n",
       "      <th>9182</th>\n",
       "      <td>tt0088263</td>\n",
       "      <td>8.7</td>\n",
       "      <td>16873.0</td>\n",
       "    </tr>\n",
       "    <tr>\n",
       "      <th>9519</th>\n",
       "      <td>tt0862766</td>\n",
       "      <td>8.5</td>\n",
       "      <td>13105.0</td>\n",
       "    </tr>\n",
       "  </tbody>\n",
       "</table>\n",
       "</div>"
      ],
      "text/plain": [
       "        imdb_id  imdb_rating  imdb_votes\n",
       "5606  tt0169590          0.0         0.0\n",
       "7852  tt0490048          8.2      2062.0\n",
       "8114  tt1325753          6.9     12397.0\n",
       "8704  tt3534602          5.1     10979.0\n",
       "9182  tt0088263          8.7     16873.0\n",
       "9519  tt0862766          8.5     13105.0"
      ]
     },
     "execution_count": 92,
     "metadata": {},
     "output_type": "execute_result"
    }
   ],
   "source": [
    "df_meta.iloc[indices][['imdb_id', 'imdb_rating','imdb_votes']]"
   ]
  },
  {
   "cell_type": "code",
   "execution_count": 93,
   "id": "ce0db1a1-290d-487e-8c42-3732083d525a",
   "metadata": {},
   "outputs": [
    {
     "data": {
      "text/plain": [
       "movie_id       0\n",
       "title          0\n",
       "genres         0\n",
       "year           0\n",
       "tmdb_id        0\n",
       "imdb_id        0\n",
       "overview       0\n",
       "tagline        0\n",
       "tmdb_rating    0\n",
       "tmdb_votes     0\n",
       "imdb_rating    0\n",
       "imdb_votes     0\n",
       "dtype: int64"
      ]
     },
     "execution_count": 93,
     "metadata": {},
     "output_type": "execute_result"
    }
   ],
   "source": [
    "df_meta.isnull().sum()"
   ]
  },
  {
   "cell_type": "code",
   "execution_count": 95,
   "id": "04689097-7d5a-432b-8293-f0fe05800da0",
   "metadata": {},
   "outputs": [
    {
     "data": {
      "text/plain": [
       "<Figure size 576x432 with 0 Axes>"
      ]
     },
     "metadata": {},
     "output_type": "display_data"
    },
    {
     "data": {
      "image/png": "[encoded data removed]",
      "text/plain": [
       "<Figure size 432x432 with 3 Axes>"
      ]
     },
     "metadata": {
      "needs_background": "light"
     },
     "output_type": "display_data"
    }
   ],
   "source": [
    "plt.figure(figsize=(8,6))\n",
    "p = sns.jointplot(df_meta['tmdb_rating'], df_meta['tmdb_votes'], color='#1c6c74',alpha = 0.5)\n",
    "p.fig.suptitle('Average TMDB Rating vs Number of Ratings Across All Movies')\n",
    "p.set_axis_labels(xlabel='Average Rating', ylabel='Number of of Ratings')\n",
    "p.fig.tight_layout()\n",
    "p.fig.subplots_adjust(top=0.95)\n",
    "plt.savefig('../images/tmdb_ratings.png', facecolor='w', transparent=False, dpi = 1000, bbox_inches='tight');"
   ]
  },
  {
   "cell_type": "code",
   "execution_count": 96,
   "id": "cc11beda-7e53-476f-97d7-9aa87c982f71",
   "metadata": {},
   "outputs": [
    {
     "data": {
      "text/plain": [
       "<Figure size 576x432 with 0 Axes>"
      ]
     },
     "metadata": {},
     "output_type": "display_data"
    },
    {
     "data": {
      "image/png": "[encoded data removed]",
      "text/plain": [
       "<Figure size 432x432 with 3 Axes>"
      ]
     },
     "metadata": {
      "needs_background": "light"
     },
     "output_type": "display_data"
    }
   ],
   "source": [
    "plt.figure(figsize=(8,6))\n",
    "p = sns.jointplot(df_meta['imdb_rating'], df_meta['imdb_votes'], color='#1c6c74',alpha = 0.5)\n",
    "p.fig.suptitle('Average IMDB Rating vs Number of Ratings Across All Movies')\n",
    "p.set_axis_labels(xlabel='Average Rating', ylabel='Number of of Ratings')\n",
    "p.fig.tight_layout()\n",
    "p.fig.subplots_adjust(top=0.95)\n",
    "plt.savefig('../images/imdb_ratings.png', facecolor='w', transparent=False, dpi = 1000, bbox_inches='tight');"
   ]
  },
  {
   "cell_type": "markdown",
   "id": "3b8cc2c3",
   "metadata": {},
   "source": [
    "### Keywords Data"
   ]
  },
  {
   "cell_type": "code",
   "execution_count": 97,
   "id": "e52e5cd1",
   "metadata": {},
   "outputs": [
    {
     "data": {
      "text/html": [
       "<div>\n",
       "<style scoped>\n",
       "    .dataframe tbody tr th:only-of-type {\n",
       "        vertical-align: middle;\n",
       "    }\n",
       "\n",
       "    .dataframe tbody tr th {\n",
       "        vertical-align: top;\n",
       "    }\n",
       "\n",
       "    .dataframe thead th {\n",
       "        text-align: right;\n",
       "    }\n",
       "</style>\n",
       "<table border=\"1\" class=\"dataframe\">\n",
       "  <thead>\n",
       "    <tr style=\"text-align: right;\">\n",
       "      <th></th>\n",
       "      <th>id</th>\n",
       "      <th>keywords</th>\n",
       "    </tr>\n",
       "  </thead>\n",
       "  <tbody>\n",
       "    <tr>\n",
       "      <th>0</th>\n",
       "      <td>862</td>\n",
       "      <td>[{'id': 931, 'name': 'jealousy'}, {'id': 4290,...</td>\n",
       "    </tr>\n",
       "    <tr>\n",
       "      <th>1</th>\n",
       "      <td>8844</td>\n",
       "      <td>[{'id': 10090, 'name': 'board game'}, {'id': 1...</td>\n",
       "    </tr>\n",
       "    <tr>\n",
       "      <th>2</th>\n",
       "      <td>15602</td>\n",
       "      <td>[{'id': 1495, 'name': 'fishing'}, {'id': 12392...</td>\n",
       "    </tr>\n",
       "    <tr>\n",
       "      <th>3</th>\n",
       "      <td>31357</td>\n",
       "      <td>[{'id': 818, 'name': 'based on novel'}, {'id':...</td>\n",
       "    </tr>\n",
       "    <tr>\n",
       "      <th>4</th>\n",
       "      <td>11862</td>\n",
       "      <td>[{'id': 1009, 'name': 'baby'}, {'id': 1599, 'n...</td>\n",
       "    </tr>\n",
       "    <tr>\n",
       "      <th>...</th>\n",
       "      <td>...</td>\n",
       "      <td>...</td>\n",
       "    </tr>\n",
       "    <tr>\n",
       "      <th>46414</th>\n",
       "      <td>439050</td>\n",
       "      <td>[{'id': 10703, 'name': 'tragic love'}]</td>\n",
       "    </tr>\n",
       "    <tr>\n",
       "      <th>46415</th>\n",
       "      <td>111109</td>\n",
       "      <td>[{'id': 2679, 'name': 'artist'}, {'id': 14531,...</td>\n",
       "    </tr>\n",
       "    <tr>\n",
       "      <th>46416</th>\n",
       "      <td>67758</td>\n",
       "      <td>[]</td>\n",
       "    </tr>\n",
       "    <tr>\n",
       "      <th>46417</th>\n",
       "      <td>227506</td>\n",
       "      <td>[]</td>\n",
       "    </tr>\n",
       "    <tr>\n",
       "      <th>46418</th>\n",
       "      <td>461257</td>\n",
       "      <td>[]</td>\n",
       "    </tr>\n",
       "  </tbody>\n",
       "</table>\n",
       "<p>46419 rows × 2 columns</p>\n",
       "</div>"
      ],
      "text/plain": [
       "           id                                           keywords\n",
       "0         862  [{'id': 931, 'name': 'jealousy'}, {'id': 4290,...\n",
       "1        8844  [{'id': 10090, 'name': 'board game'}, {'id': 1...\n",
       "2       15602  [{'id': 1495, 'name': 'fishing'}, {'id': 12392...\n",
       "3       31357  [{'id': 818, 'name': 'based on novel'}, {'id':...\n",
       "4       11862  [{'id': 1009, 'name': 'baby'}, {'id': 1599, 'n...\n",
       "...       ...                                                ...\n",
       "46414  439050             [{'id': 10703, 'name': 'tragic love'}]\n",
       "46415  111109  [{'id': 2679, 'name': 'artist'}, {'id': 14531,...\n",
       "46416   67758                                                 []\n",
       "46417  227506                                                 []\n",
       "46418  461257                                                 []\n",
       "\n",
       "[46419 rows x 2 columns]"
      ]
     },
     "execution_count": 97,
     "metadata": {},
     "output_type": "execute_result"
    }
   ],
   "source": [
    "df_keywords = pd.read_csv('../data/keywords.csv')\n",
    "df_keywords"
   ]
  },
  {
   "cell_type": "code",
   "execution_count": 98,
   "id": "3641e64f",
   "metadata": {},
   "outputs": [
    {
     "data": {
      "text/plain": [
       "id           int64\n",
       "keywords    object\n",
       "dtype: object"
      ]
     },
     "execution_count": 98,
     "metadata": {},
     "output_type": "execute_result"
    }
   ],
   "source": [
    "df_keywords.dtypes"
   ]
  },
  {
   "cell_type": "code",
   "execution_count": 99,
   "id": "f0d07ad1",
   "metadata": {},
   "outputs": [],
   "source": [
    "df_meta['tmdb_id'] = df_meta['tmdb_id'].map(str)"
   ]
  },
  {
   "cell_type": "code",
   "execution_count": 100,
   "id": "e85703fe",
   "metadata": {},
   "outputs": [],
   "source": [
    "df_keywords['id'] = df_keywords['id'].map(str)"
   ]
  },
  {
   "cell_type": "code",
   "execution_count": 101,
   "id": "1dd22b5a",
   "metadata": {},
   "outputs": [
    {
     "data": {
      "text/plain": [
       "id          45432\n",
       "keywords    25989\n",
       "dtype: int64"
      ]
     },
     "execution_count": 101,
     "metadata": {},
     "output_type": "execute_result"
    }
   ],
   "source": [
    "df_keywords.nunique()"
   ]
  },
  {
   "cell_type": "code",
   "execution_count": 102,
   "id": "727ee62d",
   "metadata": {},
   "outputs": [
    {
     "data": {
      "text/plain": [
       "(46419, 2)"
      ]
     },
     "execution_count": 102,
     "metadata": {},
     "output_type": "execute_result"
    }
   ],
   "source": [
    "df_keywords.shape"
   ]
  },
  {
   "cell_type": "markdown",
   "id": "153b6325",
   "metadata": {},
   "source": [
    "There seem to be some duplicate rows in the dataset. "
   ]
  },
  {
   "cell_type": "code",
   "execution_count": 103,
   "id": "4a685466",
   "metadata": {},
   "outputs": [
    {
     "data": {
      "text/html": [
       "<div>\n",
       "<style scoped>\n",
       "    .dataframe tbody tr th:only-of-type {\n",
       "        vertical-align: middle;\n",
       "    }\n",
       "\n",
       "    .dataframe tbody tr th {\n",
       "        vertical-align: top;\n",
       "    }\n",
       "\n",
       "    .dataframe thead th {\n",
       "        text-align: right;\n",
       "    }\n",
       "</style>\n",
       "<table border=\"1\" class=\"dataframe\">\n",
       "  <thead>\n",
       "    <tr style=\"text-align: right;\">\n",
       "      <th></th>\n",
       "      <th>id</th>\n",
       "      <th>keywords</th>\n",
       "    </tr>\n",
       "  </thead>\n",
       "  <tbody>\n",
       "    <tr>\n",
       "      <th>1465</th>\n",
       "      <td>105045</td>\n",
       "      <td>[{'id': 7059, 'name': 'anti-communism'}, {'id'...</td>\n",
       "    </tr>\n",
       "    <tr>\n",
       "      <th>9165</th>\n",
       "      <td>5511</td>\n",
       "      <td>[{'id': 90, 'name': 'paris'}, {'id': 1010, 'na...</td>\n",
       "    </tr>\n",
       "    <tr>\n",
       "      <th>9327</th>\n",
       "      <td>23305</td>\n",
       "      <td>[]</td>\n",
       "    </tr>\n",
       "    <tr>\n",
       "      <th>12066</th>\n",
       "      <td>14788</td>\n",
       "      <td>[{'id': 9826, 'name': 'murder'}, {'id': 10183,...</td>\n",
       "    </tr>\n",
       "    <tr>\n",
       "      <th>13375</th>\n",
       "      <td>141971</td>\n",
       "      <td>[]</td>\n",
       "    </tr>\n",
       "    <tr>\n",
       "      <th>...</th>\n",
       "      <td>...</td>\n",
       "      <td>...</td>\n",
       "    </tr>\n",
       "    <tr>\n",
       "      <th>40994</th>\n",
       "      <td>298721</td>\n",
       "      <td>[{'id': 1227, 'name': 'cemetery'}, {'id': 1261...</td>\n",
       "    </tr>\n",
       "    <tr>\n",
       "      <th>41230</th>\n",
       "      <td>97995</td>\n",
       "      <td>[]</td>\n",
       "    </tr>\n",
       "    <tr>\n",
       "      <th>45774</th>\n",
       "      <td>10991</td>\n",
       "      <td>[{'id': 1262, 'name': 'mountain'}, {'id': 2802...</td>\n",
       "    </tr>\n",
       "    <tr>\n",
       "      <th>45779</th>\n",
       "      <td>12600</td>\n",
       "      <td>[{'id': 9663, 'name': 'sequel'}, {'id': 11451,...</td>\n",
       "    </tr>\n",
       "    <tr>\n",
       "      <th>46218</th>\n",
       "      <td>265189</td>\n",
       "      <td>[{'id': 293, 'name': 'female nudity'}, {'id': ...</td>\n",
       "    </tr>\n",
       "  </tbody>\n",
       "</table>\n",
       "<p>987 rows × 2 columns</p>\n",
       "</div>"
      ],
      "text/plain": [
       "           id                                           keywords\n",
       "1465   105045  [{'id': 7059, 'name': 'anti-communism'}, {'id'...\n",
       "9165     5511  [{'id': 90, 'name': 'paris'}, {'id': 1010, 'na...\n",
       "9327    23305                                                 []\n",
       "12066   14788  [{'id': 9826, 'name': 'murder'}, {'id': 10183,...\n",
       "13375  141971                                                 []\n",
       "...       ...                                                ...\n",
       "40994  298721  [{'id': 1227, 'name': 'cemetery'}, {'id': 1261...\n",
       "41230   97995                                                 []\n",
       "45774   10991  [{'id': 1262, 'name': 'mountain'}, {'id': 2802...\n",
       "45779   12600  [{'id': 9663, 'name': 'sequel'}, {'id': 11451,...\n",
       "46218  265189  [{'id': 293, 'name': 'female nudity'}, {'id': ...\n",
       "\n",
       "[987 rows x 2 columns]"
      ]
     },
     "execution_count": 103,
     "metadata": {},
     "output_type": "execute_result"
    }
   ],
   "source": [
    "df_keywords[df_keywords['id'].duplicated()]"
   ]
  },
  {
   "cell_type": "code",
   "execution_count": 104,
   "id": "da273d23",
   "metadata": {},
   "outputs": [
    {
     "data": {
      "text/html": [
       "<div>\n",
       "<style scoped>\n",
       "    .dataframe tbody tr th:only-of-type {\n",
       "        vertical-align: middle;\n",
       "    }\n",
       "\n",
       "    .dataframe tbody tr th {\n",
       "        vertical-align: top;\n",
       "    }\n",
       "\n",
       "    .dataframe thead th {\n",
       "        text-align: right;\n",
       "    }\n",
       "</style>\n",
       "<table border=\"1\" class=\"dataframe\">\n",
       "  <thead>\n",
       "    <tr style=\"text-align: right;\">\n",
       "      <th></th>\n",
       "      <th>id</th>\n",
       "      <th>keywords</th>\n",
       "    </tr>\n",
       "  </thead>\n",
       "  <tbody>\n",
       "    <tr>\n",
       "      <th>13261</th>\n",
       "      <td>141971</td>\n",
       "      <td>[]</td>\n",
       "    </tr>\n",
       "    <tr>\n",
       "      <th>13375</th>\n",
       "      <td>141971</td>\n",
       "      <td>[]</td>\n",
       "    </tr>\n",
       "    <tr>\n",
       "      <th>16764</th>\n",
       "      <td>141971</td>\n",
       "      <td>[]</td>\n",
       "    </tr>\n",
       "  </tbody>\n",
       "</table>\n",
       "</div>"
      ],
      "text/plain": [
       "           id keywords\n",
       "13261  141971       []\n",
       "13375  141971       []\n",
       "16764  141971       []"
      ]
     },
     "execution_count": 104,
     "metadata": {},
     "output_type": "execute_result"
    }
   ],
   "source": [
    "df_keywords[df_keywords['id'] == '141971']"
   ]
  },
  {
   "cell_type": "code",
   "execution_count": 105,
   "id": "30adce97",
   "metadata": {},
   "outputs": [
    {
     "data": {
      "text/html": [
       "<div>\n",
       "<style scoped>\n",
       "    .dataframe tbody tr th:only-of-type {\n",
       "        vertical-align: middle;\n",
       "    }\n",
       "\n",
       "    .dataframe tbody tr th {\n",
       "        vertical-align: top;\n",
       "    }\n",
       "\n",
       "    .dataframe thead th {\n",
       "        text-align: right;\n",
       "    }\n",
       "</style>\n",
       "<table border=\"1\" class=\"dataframe\">\n",
       "  <thead>\n",
       "    <tr style=\"text-align: right;\">\n",
       "      <th></th>\n",
       "      <th>id</th>\n",
       "      <th>keywords</th>\n",
       "    </tr>\n",
       "  </thead>\n",
       "  <tbody>\n",
       "    <tr>\n",
       "      <th>35717</th>\n",
       "      <td>39436</td>\n",
       "      <td>[{'id': 11039, 'name': 'giallo'}, {'id': 15167...</td>\n",
       "    </tr>\n",
       "    <tr>\n",
       "      <th>36674</th>\n",
       "      <td>39436</td>\n",
       "      <td>[{'id': 11039, 'name': 'giallo'}, {'id': 15167...</td>\n",
       "    </tr>\n",
       "  </tbody>\n",
       "</table>\n",
       "</div>"
      ],
      "text/plain": [
       "          id                                           keywords\n",
       "35717  39436  [{'id': 11039, 'name': 'giallo'}, {'id': 15167...\n",
       "36674  39436  [{'id': 11039, 'name': 'giallo'}, {'id': 15167..."
      ]
     },
     "execution_count": 105,
     "metadata": {},
     "output_type": "execute_result"
    }
   ],
   "source": [
    "df_keywords[df_keywords['id'] == '39436']"
   ]
  },
  {
   "cell_type": "code",
   "execution_count": 106,
   "id": "ae0740d7",
   "metadata": {},
   "outputs": [],
   "source": [
    "df_keywords.drop_duplicates(inplace=True)"
   ]
  },
  {
   "cell_type": "code",
   "execution_count": 107,
   "id": "61908f00",
   "metadata": {},
   "outputs": [],
   "source": [
    "#Merging the main data with the keywords data on tmdbId column \n",
    "df_meta = pd.merge(df_meta, df_keywords, left_on = 'tmdb_id', right_on = 'id')"
   ]
  },
  {
   "cell_type": "code",
   "execution_count": 108,
   "id": "82e1dfb1",
   "metadata": {},
   "outputs": [],
   "source": [
    "df_meta.drop(columns = ['id'], inplace=True)"
   ]
  },
  {
   "cell_type": "code",
   "execution_count": 109,
   "id": "964d75a3",
   "metadata": {},
   "outputs": [
    {
     "data": {
      "text/plain": [
       "(9541, 13)"
      ]
     },
     "execution_count": 109,
     "metadata": {},
     "output_type": "execute_result"
    }
   ],
   "source": [
    "df_meta.shape"
   ]
  },
  {
   "cell_type": "code",
   "execution_count": 110,
   "id": "dc434747",
   "metadata": {},
   "outputs": [
    {
     "data": {
      "text/html": [
       "<div>\n",
       "<style scoped>\n",
       "    .dataframe tbody tr th:only-of-type {\n",
       "        vertical-align: middle;\n",
       "    }\n",
       "\n",
       "    .dataframe tbody tr th {\n",
       "        vertical-align: top;\n",
       "    }\n",
       "\n",
       "    .dataframe thead th {\n",
       "        text-align: right;\n",
       "    }\n",
       "</style>\n",
       "<table border=\"1\" class=\"dataframe\">\n",
       "  <thead>\n",
       "    <tr style=\"text-align: right;\">\n",
       "      <th></th>\n",
       "      <th>movie_id</th>\n",
       "      <th>title</th>\n",
       "      <th>genres</th>\n",
       "      <th>year</th>\n",
       "      <th>tmdb_id</th>\n",
       "      <th>imdb_id</th>\n",
       "      <th>overview</th>\n",
       "      <th>tagline</th>\n",
       "      <th>tmdb_rating</th>\n",
       "      <th>tmdb_votes</th>\n",
       "      <th>imdb_rating</th>\n",
       "      <th>imdb_votes</th>\n",
       "      <th>keywords</th>\n",
       "    </tr>\n",
       "  </thead>\n",
       "  <tbody>\n",
       "    <tr>\n",
       "      <th>0</th>\n",
       "      <td>1</td>\n",
       "      <td>Toy Story (1995)</td>\n",
       "      <td>Adventure|Animation|Children|Comedy|Fantasy</td>\n",
       "      <td>1995</td>\n",
       "      <td>862</td>\n",
       "      <td>tt0114709</td>\n",
       "      <td>Led by Woody, Andy's toys live happily in his ...</td>\n",
       "      <td></td>\n",
       "      <td>7.7</td>\n",
       "      <td>5415.0</td>\n",
       "      <td>8.3</td>\n",
       "      <td>956821.0</td>\n",
       "      <td>[{'id': 931, 'name': 'jealousy'}, {'id': 4290,...</td>\n",
       "    </tr>\n",
       "    <tr>\n",
       "      <th>1</th>\n",
       "      <td>2</td>\n",
       "      <td>Jumanji (1995)</td>\n",
       "      <td>Adventure|Children|Fantasy</td>\n",
       "      <td>1995</td>\n",
       "      <td>8844</td>\n",
       "      <td>tt0113497</td>\n",
       "      <td>When siblings Judy and Peter discover an encha...</td>\n",
       "      <td>Roll the dice and unleash the excitement!</td>\n",
       "      <td>6.9</td>\n",
       "      <td>2413.0</td>\n",
       "      <td>7.0</td>\n",
       "      <td>334566.0</td>\n",
       "      <td>[{'id': 10090, 'name': 'board game'}, {'id': 1...</td>\n",
       "    </tr>\n",
       "    <tr>\n",
       "      <th>2</th>\n",
       "      <td>3</td>\n",
       "      <td>Grumpier Old Men (1995)</td>\n",
       "      <td>Comedy|Romance</td>\n",
       "      <td>1995</td>\n",
       "      <td>15602</td>\n",
       "      <td>tt0113228</td>\n",
       "      <td>A family wedding reignites the ancient feud be...</td>\n",
       "      <td>Still Yelling. Still Fighting. Still Ready for...</td>\n",
       "      <td>6.5</td>\n",
       "      <td>92.0</td>\n",
       "      <td>6.6</td>\n",
       "      <td>26930.0</td>\n",
       "      <td>[{'id': 1495, 'name': 'fishing'}, {'id': 12392...</td>\n",
       "    </tr>\n",
       "    <tr>\n",
       "      <th>3</th>\n",
       "      <td>4</td>\n",
       "      <td>Waiting to Exhale (1995)</td>\n",
       "      <td>Comedy|Drama|Romance</td>\n",
       "      <td>1995</td>\n",
       "      <td>31357</td>\n",
       "      <td>tt0114885</td>\n",
       "      <td>Cheated on, mistreated and stepped on, the wom...</td>\n",
       "      <td>Friends are the people who let you be yourself...</td>\n",
       "      <td>6.1</td>\n",
       "      <td>34.0</td>\n",
       "      <td>5.9</td>\n",
       "      <td>10784.0</td>\n",
       "      <td>[{'id': 818, 'name': 'based on novel'}, {'id':...</td>\n",
       "    </tr>\n",
       "    <tr>\n",
       "      <th>4</th>\n",
       "      <td>5</td>\n",
       "      <td>Father of the Bride Part II (1995)</td>\n",
       "      <td>Comedy</td>\n",
       "      <td>1995</td>\n",
       "      <td>11862</td>\n",
       "      <td>tt0113041</td>\n",
       "      <td>Just when George Banks has recovered from his ...</td>\n",
       "      <td>Just When His World Is Back To Normal... He's ...</td>\n",
       "      <td>5.7</td>\n",
       "      <td>173.0</td>\n",
       "      <td>6.0</td>\n",
       "      <td>37433.0</td>\n",
       "      <td>[{'id': 1009, 'name': 'baby'}, {'id': 1599, 'n...</td>\n",
       "    </tr>\n",
       "    <tr>\n",
       "      <th>...</th>\n",
       "      <td>...</td>\n",
       "      <td>...</td>\n",
       "      <td>...</td>\n",
       "      <td>...</td>\n",
       "      <td>...</td>\n",
       "      <td>...</td>\n",
       "      <td>...</td>\n",
       "      <td>...</td>\n",
       "      <td>...</td>\n",
       "      <td>...</td>\n",
       "      <td>...</td>\n",
       "      <td>...</td>\n",
       "      <td>...</td>\n",
       "    </tr>\n",
       "    <tr>\n",
       "      <th>9536</th>\n",
       "      <td>175705</td>\n",
       "      <td>Themroc (1973)</td>\n",
       "      <td>Comedy|Horror</td>\n",
       "      <td>1973</td>\n",
       "      <td>7014</td>\n",
       "      <td>tt0069369</td>\n",
       "      <td>Made without proper language, just gibberish a...</td>\n",
       "      <td></td>\n",
       "      <td>7.1</td>\n",
       "      <td>9.0</td>\n",
       "      <td>7.0</td>\n",
       "      <td>1521.0</td>\n",
       "      <td>[{'id': 214655, 'name': 'absurdism'}]</td>\n",
       "    </tr>\n",
       "    <tr>\n",
       "      <th>9537</th>\n",
       "      <td>175707</td>\n",
       "      <td>A German Life (2016)</td>\n",
       "      <td>Documentary</td>\n",
       "      <td>2016</td>\n",
       "      <td>411516</td>\n",
       "      <td>tt5135434</td>\n",
       "      <td>Brunhilde Pomsel describes herself as an \"apol...</td>\n",
       "      <td></td>\n",
       "      <td>7.5</td>\n",
       "      <td>2.0</td>\n",
       "      <td>7.2</td>\n",
       "      <td>410.0</td>\n",
       "      <td>[]</td>\n",
       "    </tr>\n",
       "    <tr>\n",
       "      <th>9538</th>\n",
       "      <td>175743</td>\n",
       "      <td>Self-criticism of a Bourgeois Dog (2017)</td>\n",
       "      <td>Comedy</td>\n",
       "      <td>2017</td>\n",
       "      <td>433410</td>\n",
       "      <td>tt6354108</td>\n",
       "      <td>A bourgeois dog confesses how he was transform...</td>\n",
       "      <td></td>\n",
       "      <td>0.0</td>\n",
       "      <td>0.0</td>\n",
       "      <td>6.6</td>\n",
       "      <td>466.0</td>\n",
       "      <td>[]</td>\n",
       "    </tr>\n",
       "    <tr>\n",
       "      <th>9539</th>\n",
       "      <td>175781</td>\n",
       "      <td>Der Herr Karl (1961)</td>\n",
       "      <td>Comedy</td>\n",
       "      <td>1961</td>\n",
       "      <td>28469</td>\n",
       "      <td>tt0273646</td>\n",
       "      <td>No overview found.</td>\n",
       "      <td></td>\n",
       "      <td>10.0</td>\n",
       "      <td>1.0</td>\n",
       "      <td>8.8</td>\n",
       "      <td>231.0</td>\n",
       "      <td>[]</td>\n",
       "    </tr>\n",
       "    <tr>\n",
       "      <th>9540</th>\n",
       "      <td>176051</td>\n",
       "      <td>LEGO DC Super Hero Girls: Brain Drain (2017)</td>\n",
       "      <td>Animation</td>\n",
       "      <td>2017</td>\n",
       "      <td>460135</td>\n",
       "      <td>tt7158814</td>\n",
       "      <td>When Supergirl, Wonder Woman, Batgirl, Bumbleb...</td>\n",
       "      <td></td>\n",
       "      <td>10.0</td>\n",
       "      <td>2.0</td>\n",
       "      <td>5.1</td>\n",
       "      <td>427.0</td>\n",
       "      <td>[{'id': 9715, 'name': 'superhero'}, {'id': 210...</td>\n",
       "    </tr>\n",
       "  </tbody>\n",
       "</table>\n",
       "<p>9541 rows × 13 columns</p>\n",
       "</div>"
      ],
      "text/plain": [
       "     movie_id                                         title  \\\n",
       "0           1                              Toy Story (1995)   \n",
       "1           2                                Jumanji (1995)   \n",
       "2           3                       Grumpier Old Men (1995)   \n",
       "3           4                      Waiting to Exhale (1995)   \n",
       "4           5            Father of the Bride Part II (1995)   \n",
       "...       ...                                           ...   \n",
       "9536   175705                                Themroc (1973)   \n",
       "9537   175707                          A German Life (2016)   \n",
       "9538   175743      Self-criticism of a Bourgeois Dog (2017)   \n",
       "9539   175781                          Der Herr Karl (1961)   \n",
       "9540   176051  LEGO DC Super Hero Girls: Brain Drain (2017)   \n",
       "\n",
       "                                           genres  year tmdb_id    imdb_id  \\\n",
       "0     Adventure|Animation|Children|Comedy|Fantasy  1995     862  tt0114709   \n",
       "1                      Adventure|Children|Fantasy  1995    8844  tt0113497   \n",
       "2                                  Comedy|Romance  1995   15602  tt0113228   \n",
       "3                            Comedy|Drama|Romance  1995   31357  tt0114885   \n",
       "4                                          Comedy  1995   11862  tt0113041   \n",
       "...                                           ...   ...     ...        ...   \n",
       "9536                                Comedy|Horror  1973    7014  tt0069369   \n",
       "9537                                  Documentary  2016  411516  tt5135434   \n",
       "9538                                       Comedy  2017  433410  tt6354108   \n",
       "9539                                       Comedy  1961   28469  tt0273646   \n",
       "9540                                    Animation  2017  460135  tt7158814   \n",
       "\n",
       "                                               overview  \\\n",
       "0     Led by Woody, Andy's toys live happily in his ...   \n",
       "1     When siblings Judy and Peter discover an encha...   \n",
       "2     A family wedding reignites the ancient feud be...   \n",
       "3     Cheated on, mistreated and stepped on, the wom...   \n",
       "4     Just when George Banks has recovered from his ...   \n",
       "...                                                 ...   \n",
       "9536  Made without proper language, just gibberish a...   \n",
       "9537  Brunhilde Pomsel describes herself as an \"apol...   \n",
       "9538  A bourgeois dog confesses how he was transform...   \n",
       "9539                                 No overview found.   \n",
       "9540  When Supergirl, Wonder Woman, Batgirl, Bumbleb...   \n",
       "\n",
       "                                                tagline  tmdb_rating  \\\n",
       "0                                                                7.7   \n",
       "1             Roll the dice and unleash the excitement!          6.9   \n",
       "2     Still Yelling. Still Fighting. Still Ready for...          6.5   \n",
       "3     Friends are the people who let you be yourself...          6.1   \n",
       "4     Just When His World Is Back To Normal... He's ...          5.7   \n",
       "...                                                 ...          ...   \n",
       "9536                                                             7.1   \n",
       "9537                                                             7.5   \n",
       "9538                                                             0.0   \n",
       "9539                                                            10.0   \n",
       "9540                                                            10.0   \n",
       "\n",
       "      tmdb_votes  imdb_rating  imdb_votes  \\\n",
       "0         5415.0          8.3    956821.0   \n",
       "1         2413.0          7.0    334566.0   \n",
       "2           92.0          6.6     26930.0   \n",
       "3           34.0          5.9     10784.0   \n",
       "4          173.0          6.0     37433.0   \n",
       "...          ...          ...         ...   \n",
       "9536         9.0          7.0      1521.0   \n",
       "9537         2.0          7.2       410.0   \n",
       "9538         0.0          6.6       466.0   \n",
       "9539         1.0          8.8       231.0   \n",
       "9540         2.0          5.1       427.0   \n",
       "\n",
       "                                               keywords  \n",
       "0     [{'id': 931, 'name': 'jealousy'}, {'id': 4290,...  \n",
       "1     [{'id': 10090, 'name': 'board game'}, {'id': 1...  \n",
       "2     [{'id': 1495, 'name': 'fishing'}, {'id': 12392...  \n",
       "3     [{'id': 818, 'name': 'based on novel'}, {'id':...  \n",
       "4     [{'id': 1009, 'name': 'baby'}, {'id': 1599, 'n...  \n",
       "...                                                 ...  \n",
       "9536              [{'id': 214655, 'name': 'absurdism'}]  \n",
       "9537                                                 []  \n",
       "9538                                                 []  \n",
       "9539                                                 []  \n",
       "9540  [{'id': 9715, 'name': 'superhero'}, {'id': 210...  \n",
       "\n",
       "[9541 rows x 13 columns]"
      ]
     },
     "execution_count": 110,
     "metadata": {},
     "output_type": "execute_result"
    }
   ],
   "source": [
    "df_meta"
   ]
  },
  {
   "cell_type": "markdown",
   "id": "de667283",
   "metadata": {},
   "source": [
    "The `keywords` column consists of string of list of dictionaries. `ast.literal_eval()` is used to safely evaluate an expression or a string containing Python literal (raw data). This step skips the need to parse data. "
   ]
  },
  {
   "cell_type": "code",
   "execution_count": 111,
   "id": "737210c9",
   "metadata": {},
   "outputs": [
    {
     "data": {
      "text/plain": [
       "0    [{'id': 931, 'name': 'jealousy'}, {'id': 4290,...\n",
       "1    [{'id': 10090, 'name': 'board game'}, {'id': 1...\n",
       "2    [{'id': 1495, 'name': 'fishing'}, {'id': 12392...\n",
       "3    [{'id': 818, 'name': 'based on novel'}, {'id':...\n",
       "4    [{'id': 1009, 'name': 'baby'}, {'id': 1599, 'n...\n",
       "Name: keywords, dtype: object"
      ]
     },
     "execution_count": 111,
     "metadata": {},
     "output_type": "execute_result"
    }
   ],
   "source": [
    "df_meta['keywords'] = df_meta['keywords'].map(ast.literal_eval)\n",
    "df_meta['keywords'].head()"
   ]
  },
  {
   "cell_type": "markdown",
   "id": "70c77f9d",
   "metadata": {},
   "source": [
    "The following code separates all the keywords from list of dictionaries and puts them together. "
   ]
  },
  {
   "cell_type": "code",
   "execution_count": 112,
   "id": "22bd2c8f",
   "metadata": {},
   "outputs": [
    {
     "data": {
      "text/plain": [
       "0       jealousy toy boy friendship friends rivalry bo...\n",
       "1       board game disappearance based on children's b...\n",
       "2        fishing best friend duringcreditsstinger old men\n",
       "3       based on novel interracial relationship single...\n",
       "4       baby midlife crisis confidence aging daughter ...\n",
       "                              ...                        \n",
       "9536                                            absurdism\n",
       "9537                                                     \n",
       "9538                                                     \n",
       "9539                                                     \n",
       "9540                                       superhero lego\n",
       "Name: keywords, Length: 9541, dtype: object"
      ]
     },
     "execution_count": 112,
     "metadata": {},
     "output_type": "execute_result"
    }
   ],
   "source": [
    "df_meta['keywords'] = df_meta['keywords'].map(lambda x : ' '.join([i['name'] for i in x]) if len(x)>0 else '')\n",
    "df_meta['keywords']"
   ]
  },
  {
   "cell_type": "code",
   "execution_count": 113,
   "id": "a5fce30e",
   "metadata": {},
   "outputs": [
    {
     "data": {
      "text/plain": [
       "0"
      ]
     },
     "execution_count": 113,
     "metadata": {},
     "output_type": "execute_result"
    }
   ],
   "source": [
    "#Check for nulls\n",
    "df_meta['keywords'].isnull().sum()"
   ]
  },
  {
   "cell_type": "markdown",
   "id": "12dfbe44",
   "metadata": {},
   "source": [
    "### Cast And Crew Data"
   ]
  },
  {
   "cell_type": "code",
   "execution_count": 115,
   "id": "7b562710",
   "metadata": {},
   "outputs": [
    {
     "data": {
      "text/html": [
       "<div>\n",
       "<style scoped>\n",
       "    .dataframe tbody tr th:only-of-type {\n",
       "        vertical-align: middle;\n",
       "    }\n",
       "\n",
       "    .dataframe tbody tr th {\n",
       "        vertical-align: top;\n",
       "    }\n",
       "\n",
       "    .dataframe thead th {\n",
       "        text-align: right;\n",
       "    }\n",
       "</style>\n",
       "<table border=\"1\" class=\"dataframe\">\n",
       "  <thead>\n",
       "    <tr style=\"text-align: right;\">\n",
       "      <th></th>\n",
       "      <th>cast</th>\n",
       "      <th>crew</th>\n",
       "      <th>id</th>\n",
       "    </tr>\n",
       "  </thead>\n",
       "  <tbody>\n",
       "    <tr>\n",
       "      <th>0</th>\n",
       "      <td>[{'cast_id': 14, 'character': 'Woody (voice)',...</td>\n",
       "      <td>[{'credit_id': '52fe4284c3a36847f8024f49', 'de...</td>\n",
       "      <td>862</td>\n",
       "    </tr>\n",
       "    <tr>\n",
       "      <th>1</th>\n",
       "      <td>[{'cast_id': 1, 'character': 'Alan Parrish', '...</td>\n",
       "      <td>[{'credit_id': '52fe44bfc3a36847f80a7cd1', 'de...</td>\n",
       "      <td>8844</td>\n",
       "    </tr>\n",
       "    <tr>\n",
       "      <th>2</th>\n",
       "      <td>[{'cast_id': 2, 'character': 'Max Goldman', 'c...</td>\n",
       "      <td>[{'credit_id': '52fe466a9251416c75077a89', 'de...</td>\n",
       "      <td>15602</td>\n",
       "    </tr>\n",
       "    <tr>\n",
       "      <th>3</th>\n",
       "      <td>[{'cast_id': 1, 'character': \"Savannah 'Vannah...</td>\n",
       "      <td>[{'credit_id': '52fe44779251416c91011acb', 'de...</td>\n",
       "      <td>31357</td>\n",
       "    </tr>\n",
       "    <tr>\n",
       "      <th>4</th>\n",
       "      <td>[{'cast_id': 1, 'character': 'George Banks', '...</td>\n",
       "      <td>[{'credit_id': '52fe44959251416c75039ed7', 'de...</td>\n",
       "      <td>11862</td>\n",
       "    </tr>\n",
       "  </tbody>\n",
       "</table>\n",
       "</div>"
      ],
      "text/plain": [
       "                                                cast  \\\n",
       "0  [{'cast_id': 14, 'character': 'Woody (voice)',...   \n",
       "1  [{'cast_id': 1, 'character': 'Alan Parrish', '...   \n",
       "2  [{'cast_id': 2, 'character': 'Max Goldman', 'c...   \n",
       "3  [{'cast_id': 1, 'character': \"Savannah 'Vannah...   \n",
       "4  [{'cast_id': 1, 'character': 'George Banks', '...   \n",
       "\n",
       "                                                crew     id  \n",
       "0  [{'credit_id': '52fe4284c3a36847f8024f49', 'de...    862  \n",
       "1  [{'credit_id': '52fe44bfc3a36847f80a7cd1', 'de...   8844  \n",
       "2  [{'credit_id': '52fe466a9251416c75077a89', 'de...  15602  \n",
       "3  [{'credit_id': '52fe44779251416c91011acb', 'de...  31357  \n",
       "4  [{'credit_id': '52fe44959251416c75039ed7', 'de...  11862  "
      ]
     },
     "execution_count": 115,
     "metadata": {},
     "output_type": "execute_result"
    }
   ],
   "source": [
    "df_cast = pd.read_csv('../data/credits.csv')\n",
    "df_cast.head()"
   ]
  },
  {
   "cell_type": "code",
   "execution_count": 116,
   "id": "632041bf",
   "metadata": {},
   "outputs": [],
   "source": [
    "df_cast['id'] = df_cast['id'].map(str)"
   ]
  },
  {
   "cell_type": "code",
   "execution_count": 117,
   "id": "e38cbdbe",
   "metadata": {},
   "outputs": [],
   "source": [
    "#Filter out that dataframe with requiered movieIds\n",
    "df_cast = df_cast[df_cast['id'].isin(df_meta['tmdb_id'])]"
   ]
  },
  {
   "cell_type": "code",
   "execution_count": 118,
   "id": "9526c9d8",
   "metadata": {},
   "outputs": [
    {
     "data": {
      "text/plain": [
       "(9551, 3)"
      ]
     },
     "execution_count": 118,
     "metadata": {},
     "output_type": "execute_result"
    }
   ],
   "source": [
    "df_cast.shape"
   ]
  },
  {
   "cell_type": "markdown",
   "id": "3eeb82a2",
   "metadata": {},
   "source": [
    "The following code not only cleans the `crew` column to extract director, but also clubs together a director's first and last name so that they are not considered separate while vectorizing the column. "
   ]
  },
  {
   "cell_type": "code",
   "execution_count": 119,
   "id": "1d39e7f8",
   "metadata": {},
   "outputs": [],
   "source": [
    "df_cast['crew'] = df_cast['crew'].map(ast.literal_eval)"
   ]
  },
  {
   "cell_type": "code",
   "execution_count": 120,
   "id": "d05cc953",
   "metadata": {},
   "outputs": [],
   "source": [
    "def get_director(row):\n",
    "    for dictionary in row:\n",
    "        if dictionary['job'] == 'Director':\n",
    "            return ''.join([name for name in dictionary['name'].split()])\n",
    "    return ''"
   ]
  },
  {
   "cell_type": "code",
   "execution_count": 121,
   "id": "ba490321",
   "metadata": {},
   "outputs": [
    {
     "data": {
      "text/plain": [
       "'JohnLasseter'"
      ]
     },
     "execution_count": 121,
     "metadata": {},
     "output_type": "execute_result"
    }
   ],
   "source": [
    "#Check the function\n",
    "get_director(df_cast['crew'].values[0])"
   ]
  },
  {
   "cell_type": "code",
   "execution_count": 122,
   "id": "12c7c86e",
   "metadata": {},
   "outputs": [],
   "source": [
    "df_cast['director'] = df_cast['crew'].map(get_director)"
   ]
  },
  {
   "cell_type": "code",
   "execution_count": 123,
   "id": "cb473a3f",
   "metadata": {},
   "outputs": [
    {
     "data": {
      "text/plain": [
       "0"
      ]
     },
     "execution_count": 123,
     "metadata": {},
     "output_type": "execute_result"
    }
   ],
   "source": [
    "df_cast['director'].isnull().sum()"
   ]
  },
  {
   "cell_type": "markdown",
   "id": "00023fad",
   "metadata": {},
   "source": [
    "The following code extracts the cast of the movie. Every movie has multiple casts members, but the actor playing the lead characters are always mentioned before the actors playing supporting characters. More often than not, a user is more likely to choose a movie based on the lead actors. Hence the following code extracts first four actors from the cast dictionary. "
   ]
  },
  {
   "cell_type": "code",
   "execution_count": 124,
   "id": "2efe72a5",
   "metadata": {},
   "outputs": [],
   "source": [
    "df_cast['cast'] = df_cast['cast'].map(ast.literal_eval)"
   ]
  },
  {
   "cell_type": "code",
   "execution_count": 125,
   "id": "87713c29",
   "metadata": {},
   "outputs": [],
   "source": [
    "def get_cast(row):\n",
    "    cast = ''\n",
    "    for dictionary in row:\n",
    "        if int(dictionary['order']) in range(0,4):  #Selecting top 4 cast members\n",
    "            cast += ''.join([name for name in dictionary['name'].split()]) + ' '\n",
    "    return cast\n"
   ]
  },
  {
   "cell_type": "code",
   "execution_count": 126,
   "id": "ca9d6982",
   "metadata": {},
   "outputs": [
    {
     "data": {
      "text/plain": [
       "'HarrisonFord JuliaOrmond GregKinnear AngieDickinson '"
      ]
     },
     "execution_count": 126,
     "metadata": {},
     "output_type": "execute_result"
    }
   ],
   "source": [
    "#Check the function\n",
    "get_cast(df_cast['cast'].values[6])"
   ]
  },
  {
   "cell_type": "code",
   "execution_count": 127,
   "id": "6a7c5073",
   "metadata": {},
   "outputs": [],
   "source": [
    "df_cast['cast'] = df_cast['cast'].map(get_cast)"
   ]
  },
  {
   "cell_type": "code",
   "execution_count": 128,
   "id": "6f41bf62",
   "metadata": {},
   "outputs": [
    {
     "data": {
      "text/plain": [
       "cast        0\n",
       "crew        0\n",
       "id          0\n",
       "director    0\n",
       "dtype: int64"
      ]
     },
     "execution_count": 128,
     "metadata": {},
     "output_type": "execute_result"
    }
   ],
   "source": [
    "df_cast.isnull().sum()"
   ]
  },
  {
   "cell_type": "code",
   "execution_count": 129,
   "id": "5334aa75",
   "metadata": {},
   "outputs": [],
   "source": [
    "df_cast.drop(columns=['crew'], inplace=True)"
   ]
  },
  {
   "cell_type": "code",
   "execution_count": 130,
   "id": "d74b5049",
   "metadata": {},
   "outputs": [],
   "source": [
    "df_meta = pd.merge(df_meta, df_cast, left_on='tmdb_id', right_on='id')"
   ]
  },
  {
   "cell_type": "code",
   "execution_count": 131,
   "id": "03a147f2",
   "metadata": {},
   "outputs": [
    {
     "data": {
      "text/html": [
       "<div>\n",
       "<style scoped>\n",
       "    .dataframe tbody tr th:only-of-type {\n",
       "        vertical-align: middle;\n",
       "    }\n",
       "\n",
       "    .dataframe tbody tr th {\n",
       "        vertical-align: top;\n",
       "    }\n",
       "\n",
       "    .dataframe thead th {\n",
       "        text-align: right;\n",
       "    }\n",
       "</style>\n",
       "<table border=\"1\" class=\"dataframe\">\n",
       "  <thead>\n",
       "    <tr style=\"text-align: right;\">\n",
       "      <th></th>\n",
       "      <th>movie_id</th>\n",
       "      <th>title</th>\n",
       "      <th>genres</th>\n",
       "      <th>year</th>\n",
       "      <th>tmdb_id</th>\n",
       "      <th>imdb_id</th>\n",
       "      <th>overview</th>\n",
       "      <th>tagline</th>\n",
       "      <th>tmdb_rating</th>\n",
       "      <th>tmdb_votes</th>\n",
       "      <th>imdb_rating</th>\n",
       "      <th>imdb_votes</th>\n",
       "      <th>keywords</th>\n",
       "      <th>cast</th>\n",
       "      <th>id</th>\n",
       "      <th>director</th>\n",
       "    </tr>\n",
       "  </thead>\n",
       "  <tbody>\n",
       "    <tr>\n",
       "      <th>0</th>\n",
       "      <td>1</td>\n",
       "      <td>Toy Story (1995)</td>\n",
       "      <td>Adventure|Animation|Children|Comedy|Fantasy</td>\n",
       "      <td>1995</td>\n",
       "      <td>862</td>\n",
       "      <td>tt0114709</td>\n",
       "      <td>Led by Woody, Andy's toys live happily in his ...</td>\n",
       "      <td></td>\n",
       "      <td>7.7</td>\n",
       "      <td>5415.0</td>\n",
       "      <td>8.3</td>\n",
       "      <td>956821.0</td>\n",
       "      <td>jealousy toy boy friendship friends rivalry bo...</td>\n",
       "      <td>TomHanks TimAllen DonRickles JimVarney</td>\n",
       "      <td>862</td>\n",
       "      <td>JohnLasseter</td>\n",
       "    </tr>\n",
       "    <tr>\n",
       "      <th>1</th>\n",
       "      <td>2</td>\n",
       "      <td>Jumanji (1995)</td>\n",
       "      <td>Adventure|Children|Fantasy</td>\n",
       "      <td>1995</td>\n",
       "      <td>8844</td>\n",
       "      <td>tt0113497</td>\n",
       "      <td>When siblings Judy and Peter discover an encha...</td>\n",
       "      <td>Roll the dice and unleash the excitement!</td>\n",
       "      <td>6.9</td>\n",
       "      <td>2413.0</td>\n",
       "      <td>7.0</td>\n",
       "      <td>334566.0</td>\n",
       "      <td>board game disappearance based on children's b...</td>\n",
       "      <td>RobinWilliams JonathanHyde KirstenDunst Bradle...</td>\n",
       "      <td>8844</td>\n",
       "      <td>JoeJohnston</td>\n",
       "    </tr>\n",
       "    <tr>\n",
       "      <th>2</th>\n",
       "      <td>3</td>\n",
       "      <td>Grumpier Old Men (1995)</td>\n",
       "      <td>Comedy|Romance</td>\n",
       "      <td>1995</td>\n",
       "      <td>15602</td>\n",
       "      <td>tt0113228</td>\n",
       "      <td>A family wedding reignites the ancient feud be...</td>\n",
       "      <td>Still Yelling. Still Fighting. Still Ready for...</td>\n",
       "      <td>6.5</td>\n",
       "      <td>92.0</td>\n",
       "      <td>6.6</td>\n",
       "      <td>26930.0</td>\n",
       "      <td>fishing best friend duringcreditsstinger old men</td>\n",
       "      <td>WalterMatthau JackLemmon Ann-Margret SophiaLoren</td>\n",
       "      <td>15602</td>\n",
       "      <td>HowardDeutch</td>\n",
       "    </tr>\n",
       "    <tr>\n",
       "      <th>3</th>\n",
       "      <td>4</td>\n",
       "      <td>Waiting to Exhale (1995)</td>\n",
       "      <td>Comedy|Drama|Romance</td>\n",
       "      <td>1995</td>\n",
       "      <td>31357</td>\n",
       "      <td>tt0114885</td>\n",
       "      <td>Cheated on, mistreated and stepped on, the wom...</td>\n",
       "      <td>Friends are the people who let you be yourself...</td>\n",
       "      <td>6.1</td>\n",
       "      <td>34.0</td>\n",
       "      <td>5.9</td>\n",
       "      <td>10784.0</td>\n",
       "      <td>based on novel interracial relationship single...</td>\n",
       "      <td>WhitneyHouston AngelaBassett LorettaDevine Lel...</td>\n",
       "      <td>31357</td>\n",
       "      <td>ForestWhitaker</td>\n",
       "    </tr>\n",
       "    <tr>\n",
       "      <th>4</th>\n",
       "      <td>5</td>\n",
       "      <td>Father of the Bride Part II (1995)</td>\n",
       "      <td>Comedy</td>\n",
       "      <td>1995</td>\n",
       "      <td>11862</td>\n",
       "      <td>tt0113041</td>\n",
       "      <td>Just when George Banks has recovered from his ...</td>\n",
       "      <td>Just When His World Is Back To Normal... He's ...</td>\n",
       "      <td>5.7</td>\n",
       "      <td>173.0</td>\n",
       "      <td>6.0</td>\n",
       "      <td>37433.0</td>\n",
       "      <td>baby midlife crisis confidence aging daughter ...</td>\n",
       "      <td>SteveMartin DianeKeaton MartinShort KimberlyWi...</td>\n",
       "      <td>11862</td>\n",
       "      <td>CharlesShyer</td>\n",
       "    </tr>\n",
       "  </tbody>\n",
       "</table>\n",
       "</div>"
      ],
      "text/plain": [
       "  movie_id                               title  \\\n",
       "0        1                    Toy Story (1995)   \n",
       "1        2                      Jumanji (1995)   \n",
       "2        3             Grumpier Old Men (1995)   \n",
       "3        4            Waiting to Exhale (1995)   \n",
       "4        5  Father of the Bride Part II (1995)   \n",
       "\n",
       "                                        genres  year tmdb_id    imdb_id  \\\n",
       "0  Adventure|Animation|Children|Comedy|Fantasy  1995     862  tt0114709   \n",
       "1                   Adventure|Children|Fantasy  1995    8844  tt0113497   \n",
       "2                               Comedy|Romance  1995   15602  tt0113228   \n",
       "3                         Comedy|Drama|Romance  1995   31357  tt0114885   \n",
       "4                                       Comedy  1995   11862  tt0113041   \n",
       "\n",
       "                                            overview  \\\n",
       "0  Led by Woody, Andy's toys live happily in his ...   \n",
       "1  When siblings Judy and Peter discover an encha...   \n",
       "2  A family wedding reignites the ancient feud be...   \n",
       "3  Cheated on, mistreated and stepped on, the wom...   \n",
       "4  Just when George Banks has recovered from his ...   \n",
       "\n",
       "                                             tagline  tmdb_rating  tmdb_votes  \\\n",
       "0                                                             7.7      5415.0   \n",
       "1          Roll the dice and unleash the excitement!          6.9      2413.0   \n",
       "2  Still Yelling. Still Fighting. Still Ready for...          6.5        92.0   \n",
       "3  Friends are the people who let you be yourself...          6.1        34.0   \n",
       "4  Just When His World Is Back To Normal... He's ...          5.7       173.0   \n",
       "\n",
       "   imdb_rating  imdb_votes                                           keywords  \\\n",
       "0          8.3    956821.0  jealousy toy boy friendship friends rivalry bo...   \n",
       "1          7.0    334566.0  board game disappearance based on children's b...   \n",
       "2          6.6     26930.0   fishing best friend duringcreditsstinger old men   \n",
       "3          5.9     10784.0  based on novel interracial relationship single...   \n",
       "4          6.0     37433.0  baby midlife crisis confidence aging daughter ...   \n",
       "\n",
       "                                                cast     id        director  \n",
       "0            TomHanks TimAllen DonRickles JimVarney     862    JohnLasseter  \n",
       "1  RobinWilliams JonathanHyde KirstenDunst Bradle...   8844     JoeJohnston  \n",
       "2  WalterMatthau JackLemmon Ann-Margret SophiaLoren   15602    HowardDeutch  \n",
       "3  WhitneyHouston AngelaBassett LorettaDevine Lel...  31357  ForestWhitaker  \n",
       "4  SteveMartin DianeKeaton MartinShort KimberlyWi...  11862    CharlesShyer  "
      ]
     },
     "execution_count": 131,
     "metadata": {},
     "output_type": "execute_result"
    }
   ],
   "source": [
    "df_meta.head()"
   ]
  },
  {
   "cell_type": "code",
   "execution_count": 132,
   "id": "8dcbfc37",
   "metadata": {},
   "outputs": [],
   "source": [
    "df_meta.drop(columns=['id'], inplace=True)"
   ]
  },
  {
   "cell_type": "code",
   "execution_count": 133,
   "id": "9cf5bde7-d090-47d8-ae00-690a33ffdecc",
   "metadata": {},
   "outputs": [
    {
     "data": {
      "text/html": [
       "<div>\n",
       "<style scoped>\n",
       "    .dataframe tbody tr th:only-of-type {\n",
       "        vertical-align: middle;\n",
       "    }\n",
       "\n",
       "    .dataframe tbody tr th {\n",
       "        vertical-align: top;\n",
       "    }\n",
       "\n",
       "    .dataframe thead th {\n",
       "        text-align: right;\n",
       "    }\n",
       "</style>\n",
       "<table border=\"1\" class=\"dataframe\">\n",
       "  <thead>\n",
       "    <tr style=\"text-align: right;\">\n",
       "      <th></th>\n",
       "      <th>movie_id</th>\n",
       "      <th>title</th>\n",
       "      <th>genres</th>\n",
       "      <th>year</th>\n",
       "      <th>tmdb_id</th>\n",
       "      <th>imdb_id</th>\n",
       "      <th>overview</th>\n",
       "      <th>tagline</th>\n",
       "      <th>tmdb_rating</th>\n",
       "      <th>tmdb_votes</th>\n",
       "      <th>imdb_rating</th>\n",
       "      <th>imdb_votes</th>\n",
       "      <th>keywords</th>\n",
       "      <th>cast</th>\n",
       "      <th>director</th>\n",
       "    </tr>\n",
       "  </thead>\n",
       "  <tbody>\n",
       "    <tr>\n",
       "      <th>0</th>\n",
       "      <td>1</td>\n",
       "      <td>Toy Story (1995)</td>\n",
       "      <td>Adventure|Animation|Children|Comedy|Fantasy</td>\n",
       "      <td>1995</td>\n",
       "      <td>862</td>\n",
       "      <td>tt0114709</td>\n",
       "      <td>Led by Woody, Andy's toys live happily in his ...</td>\n",
       "      <td></td>\n",
       "      <td>7.7</td>\n",
       "      <td>5415.0</td>\n",
       "      <td>8.3</td>\n",
       "      <td>956821.0</td>\n",
       "      <td>jealousy toy boy friendship friends rivalry bo...</td>\n",
       "      <td>TomHanks TimAllen DonRickles JimVarney</td>\n",
       "      <td>JohnLasseter</td>\n",
       "    </tr>\n",
       "    <tr>\n",
       "      <th>1</th>\n",
       "      <td>2</td>\n",
       "      <td>Jumanji (1995)</td>\n",
       "      <td>Adventure|Children|Fantasy</td>\n",
       "      <td>1995</td>\n",
       "      <td>8844</td>\n",
       "      <td>tt0113497</td>\n",
       "      <td>When siblings Judy and Peter discover an encha...</td>\n",
       "      <td>Roll the dice and unleash the excitement!</td>\n",
       "      <td>6.9</td>\n",
       "      <td>2413.0</td>\n",
       "      <td>7.0</td>\n",
       "      <td>334566.0</td>\n",
       "      <td>board game disappearance based on children's b...</td>\n",
       "      <td>RobinWilliams JonathanHyde KirstenDunst Bradle...</td>\n",
       "      <td>JoeJohnston</td>\n",
       "    </tr>\n",
       "    <tr>\n",
       "      <th>2</th>\n",
       "      <td>3</td>\n",
       "      <td>Grumpier Old Men (1995)</td>\n",
       "      <td>Comedy|Romance</td>\n",
       "      <td>1995</td>\n",
       "      <td>15602</td>\n",
       "      <td>tt0113228</td>\n",
       "      <td>A family wedding reignites the ancient feud be...</td>\n",
       "      <td>Still Yelling. Still Fighting. Still Ready for...</td>\n",
       "      <td>6.5</td>\n",
       "      <td>92.0</td>\n",
       "      <td>6.6</td>\n",
       "      <td>26930.0</td>\n",
       "      <td>fishing best friend duringcreditsstinger old men</td>\n",
       "      <td>WalterMatthau JackLemmon Ann-Margret SophiaLoren</td>\n",
       "      <td>HowardDeutch</td>\n",
       "    </tr>\n",
       "    <tr>\n",
       "      <th>3</th>\n",
       "      <td>4</td>\n",
       "      <td>Waiting to Exhale (1995)</td>\n",
       "      <td>Comedy|Drama|Romance</td>\n",
       "      <td>1995</td>\n",
       "      <td>31357</td>\n",
       "      <td>tt0114885</td>\n",
       "      <td>Cheated on, mistreated and stepped on, the wom...</td>\n",
       "      <td>Friends are the people who let you be yourself...</td>\n",
       "      <td>6.1</td>\n",
       "      <td>34.0</td>\n",
       "      <td>5.9</td>\n",
       "      <td>10784.0</td>\n",
       "      <td>based on novel interracial relationship single...</td>\n",
       "      <td>WhitneyHouston AngelaBassett LorettaDevine Lel...</td>\n",
       "      <td>ForestWhitaker</td>\n",
       "    </tr>\n",
       "    <tr>\n",
       "      <th>4</th>\n",
       "      <td>5</td>\n",
       "      <td>Father of the Bride Part II (1995)</td>\n",
       "      <td>Comedy</td>\n",
       "      <td>1995</td>\n",
       "      <td>11862</td>\n",
       "      <td>tt0113041</td>\n",
       "      <td>Just when George Banks has recovered from his ...</td>\n",
       "      <td>Just When His World Is Back To Normal... He's ...</td>\n",
       "      <td>5.7</td>\n",
       "      <td>173.0</td>\n",
       "      <td>6.0</td>\n",
       "      <td>37433.0</td>\n",
       "      <td>baby midlife crisis confidence aging daughter ...</td>\n",
       "      <td>SteveMartin DianeKeaton MartinShort KimberlyWi...</td>\n",
       "      <td>CharlesShyer</td>\n",
       "    </tr>\n",
       "    <tr>\n",
       "      <th>...</th>\n",
       "      <td>...</td>\n",
       "      <td>...</td>\n",
       "      <td>...</td>\n",
       "      <td>...</td>\n",
       "      <td>...</td>\n",
       "      <td>...</td>\n",
       "      <td>...</td>\n",
       "      <td>...</td>\n",
       "      <td>...</td>\n",
       "      <td>...</td>\n",
       "      <td>...</td>\n",
       "      <td>...</td>\n",
       "      <td>...</td>\n",
       "      <td>...</td>\n",
       "      <td>...</td>\n",
       "    </tr>\n",
       "    <tr>\n",
       "      <th>9546</th>\n",
       "      <td>175705</td>\n",
       "      <td>Themroc (1973)</td>\n",
       "      <td>Comedy|Horror</td>\n",
       "      <td>1973</td>\n",
       "      <td>7014</td>\n",
       "      <td>tt0069369</td>\n",
       "      <td>Made without proper language, just gibberish a...</td>\n",
       "      <td></td>\n",
       "      <td>7.1</td>\n",
       "      <td>9.0</td>\n",
       "      <td>7.0</td>\n",
       "      <td>1521.0</td>\n",
       "      <td>absurdism</td>\n",
       "      <td>MichelPiccoli Miou-Miou BéatriceRomand Frances...</td>\n",
       "      <td>ClaudeFaraldo</td>\n",
       "    </tr>\n",
       "    <tr>\n",
       "      <th>9547</th>\n",
       "      <td>175707</td>\n",
       "      <td>A German Life (2016)</td>\n",
       "      <td>Documentary</td>\n",
       "      <td>2016</td>\n",
       "      <td>411516</td>\n",
       "      <td>tt5135434</td>\n",
       "      <td>Brunhilde Pomsel describes herself as an \"apol...</td>\n",
       "      <td></td>\n",
       "      <td>7.5</td>\n",
       "      <td>2.0</td>\n",
       "      <td>7.2</td>\n",
       "      <td>410.0</td>\n",
       "      <td></td>\n",
       "      <td>BrunhildePomsel</td>\n",
       "      <td>ChristianKrönes</td>\n",
       "    </tr>\n",
       "    <tr>\n",
       "      <th>9548</th>\n",
       "      <td>175743</td>\n",
       "      <td>Self-criticism of a Bourgeois Dog (2017)</td>\n",
       "      <td>Comedy</td>\n",
       "      <td>2017</td>\n",
       "      <td>433410</td>\n",
       "      <td>tt6354108</td>\n",
       "      <td>A bourgeois dog confesses how he was transform...</td>\n",
       "      <td></td>\n",
       "      <td>0.0</td>\n",
       "      <td>0.0</td>\n",
       "      <td>6.6</td>\n",
       "      <td>466.0</td>\n",
       "      <td></td>\n",
       "      <td>JulianRadlmaier DeraghCampbell BeniaminForthi</td>\n",
       "      <td>JulianRadlmaier</td>\n",
       "    </tr>\n",
       "    <tr>\n",
       "      <th>9549</th>\n",
       "      <td>175781</td>\n",
       "      <td>Der Herr Karl (1961)</td>\n",
       "      <td>Comedy</td>\n",
       "      <td>1961</td>\n",
       "      <td>28469</td>\n",
       "      <td>tt0273646</td>\n",
       "      <td>No overview found.</td>\n",
       "      <td></td>\n",
       "      <td>10.0</td>\n",
       "      <td>1.0</td>\n",
       "      <td>8.8</td>\n",
       "      <td>231.0</td>\n",
       "      <td></td>\n",
       "      <td>HelmutQualtinger</td>\n",
       "      <td></td>\n",
       "    </tr>\n",
       "    <tr>\n",
       "      <th>9550</th>\n",
       "      <td>176051</td>\n",
       "      <td>LEGO DC Super Hero Girls: Brain Drain (2017)</td>\n",
       "      <td>Animation</td>\n",
       "      <td>2017</td>\n",
       "      <td>460135</td>\n",
       "      <td>tt7158814</td>\n",
       "      <td>When Supergirl, Wonder Woman, Batgirl, Bumbleb...</td>\n",
       "      <td></td>\n",
       "      <td>10.0</td>\n",
       "      <td>2.0</td>\n",
       "      <td>5.1</td>\n",
       "      <td>427.0</td>\n",
       "      <td>superhero lego</td>\n",
       "      <td>GreyGriffin TaraStrong AnaisFairweather</td>\n",
       "      <td>ToddGrimes</td>\n",
       "    </tr>\n",
       "  </tbody>\n",
       "</table>\n",
       "<p>9551 rows × 15 columns</p>\n",
       "</div>"
      ],
      "text/plain": [
       "     movie_id                                         title  \\\n",
       "0           1                              Toy Story (1995)   \n",
       "1           2                                Jumanji (1995)   \n",
       "2           3                       Grumpier Old Men (1995)   \n",
       "3           4                      Waiting to Exhale (1995)   \n",
       "4           5            Father of the Bride Part II (1995)   \n",
       "...       ...                                           ...   \n",
       "9546   175705                                Themroc (1973)   \n",
       "9547   175707                          A German Life (2016)   \n",
       "9548   175743      Self-criticism of a Bourgeois Dog (2017)   \n",
       "9549   175781                          Der Herr Karl (1961)   \n",
       "9550   176051  LEGO DC Super Hero Girls: Brain Drain (2017)   \n",
       "\n",
       "                                           genres  year tmdb_id    imdb_id  \\\n",
       "0     Adventure|Animation|Children|Comedy|Fantasy  1995     862  tt0114709   \n",
       "1                      Adventure|Children|Fantasy  1995    8844  tt0113497   \n",
       "2                                  Comedy|Romance  1995   15602  tt0113228   \n",
       "3                            Comedy|Drama|Romance  1995   31357  tt0114885   \n",
       "4                                          Comedy  1995   11862  tt0113041   \n",
       "...                                           ...   ...     ...        ...   \n",
       "9546                                Comedy|Horror  1973    7014  tt0069369   \n",
       "9547                                  Documentary  2016  411516  tt5135434   \n",
       "9548                                       Comedy  2017  433410  tt6354108   \n",
       "9549                                       Comedy  1961   28469  tt0273646   \n",
       "9550                                    Animation  2017  460135  tt7158814   \n",
       "\n",
       "                                               overview  \\\n",
       "0     Led by Woody, Andy's toys live happily in his ...   \n",
       "1     When siblings Judy and Peter discover an encha...   \n",
       "2     A family wedding reignites the ancient feud be...   \n",
       "3     Cheated on, mistreated and stepped on, the wom...   \n",
       "4     Just when George Banks has recovered from his ...   \n",
       "...                                                 ...   \n",
       "9546  Made without proper language, just gibberish a...   \n",
       "9547  Brunhilde Pomsel describes herself as an \"apol...   \n",
       "9548  A bourgeois dog confesses how he was transform...   \n",
       "9549                                 No overview found.   \n",
       "9550  When Supergirl, Wonder Woman, Batgirl, Bumbleb...   \n",
       "\n",
       "                                                tagline  tmdb_rating  \\\n",
       "0                                                                7.7   \n",
       "1             Roll the dice and unleash the excitement!          6.9   \n",
       "2     Still Yelling. Still Fighting. Still Ready for...          6.5   \n",
       "3     Friends are the people who let you be yourself...          6.1   \n",
       "4     Just When His World Is Back To Normal... He's ...          5.7   \n",
       "...                                                 ...          ...   \n",
       "9546                                                             7.1   \n",
       "9547                                                             7.5   \n",
       "9548                                                             0.0   \n",
       "9549                                                            10.0   \n",
       "9550                                                            10.0   \n",
       "\n",
       "      tmdb_votes  imdb_rating  imdb_votes  \\\n",
       "0         5415.0          8.3    956821.0   \n",
       "1         2413.0          7.0    334566.0   \n",
       "2           92.0          6.6     26930.0   \n",
       "3           34.0          5.9     10784.0   \n",
       "4          173.0          6.0     37433.0   \n",
       "...          ...          ...         ...   \n",
       "9546         9.0          7.0      1521.0   \n",
       "9547         2.0          7.2       410.0   \n",
       "9548         0.0          6.6       466.0   \n",
       "9549         1.0          8.8       231.0   \n",
       "9550         2.0          5.1       427.0   \n",
       "\n",
       "                                               keywords  \\\n",
       "0     jealousy toy boy friendship friends rivalry bo...   \n",
       "1     board game disappearance based on children's b...   \n",
       "2      fishing best friend duringcreditsstinger old men   \n",
       "3     based on novel interracial relationship single...   \n",
       "4     baby midlife crisis confidence aging daughter ...   \n",
       "...                                                 ...   \n",
       "9546                                          absurdism   \n",
       "9547                                                      \n",
       "9548                                                      \n",
       "9549                                                      \n",
       "9550                                     superhero lego   \n",
       "\n",
       "                                                   cast         director  \n",
       "0               TomHanks TimAllen DonRickles JimVarney      JohnLasseter  \n",
       "1     RobinWilliams JonathanHyde KirstenDunst Bradle...      JoeJohnston  \n",
       "2     WalterMatthau JackLemmon Ann-Margret SophiaLoren      HowardDeutch  \n",
       "3     WhitneyHouston AngelaBassett LorettaDevine Lel...   ForestWhitaker  \n",
       "4     SteveMartin DianeKeaton MartinShort KimberlyWi...     CharlesShyer  \n",
       "...                                                 ...              ...  \n",
       "9546  MichelPiccoli Miou-Miou BéatriceRomand Frances...    ClaudeFaraldo  \n",
       "9547                                   BrunhildePomsel   ChristianKrönes  \n",
       "9548     JulianRadlmaier DeraghCampbell BeniaminForthi   JulianRadlmaier  \n",
       "9549                                  HelmutQualtinger                    \n",
       "9550           GreyGriffin TaraStrong AnaisFairweather        ToddGrimes  \n",
       "\n",
       "[9551 rows x 15 columns]"
      ]
     },
     "execution_count": 133,
     "metadata": {},
     "output_type": "execute_result"
    }
   ],
   "source": [
    "df_meta"
   ]
  },
  {
   "cell_type": "code",
   "execution_count": 134,
   "id": "db8c1d72",
   "metadata": {},
   "outputs": [],
   "source": [
    "#Drop duplicate rows\n",
    "df_meta.drop_duplicates(inplace=True)"
   ]
  },
  {
   "cell_type": "code",
   "execution_count": 135,
   "id": "0e51fa9b",
   "metadata": {},
   "outputs": [
    {
     "data": {
      "text/plain": [
       "WoodyAllen          47\n",
       "AlfredHitchcock     37\n",
       "ClintEastwood       31\n",
       "StevenSpielberg     31\n",
       "                    30\n",
       "                    ..\n",
       "StuartBeattie        1\n",
       "BillyHopkins         1\n",
       "VladimírMichálek     1\n",
       "CraigMazin           1\n",
       "ZacharyDonohue       1\n",
       "Name: director, Length: 3874, dtype: int64"
      ]
     },
     "execution_count": 135,
     "metadata": {},
     "output_type": "execute_result"
    }
   ],
   "source": [
    "df_meta['director'].value_counts()"
   ]
  },
  {
   "cell_type": "code",
   "execution_count": 136,
   "id": "a7889fa7-2cb3-4546-92a2-955ef60ba746",
   "metadata": {},
   "outputs": [
    {
     "data": {
      "text/plain": [
       "director\n",
       "ToddGrimes          10.0\n",
       "BrettThompson       10.0\n",
       "JosephFrancis       10.0\n",
       "JonasMekas           9.5\n",
       "TatsuyaOishi         9.4\n",
       "                    ... \n",
       "ChristinaAndreef     0.0\n",
       "ImogenKimmel         0.0\n",
       "JulianRadlmaier      0.0\n",
       "JonJost              0.0\n",
       "NancyMeckler         0.0\n",
       "Name: tmdb_rating, Length: 3874, dtype: float64"
      ]
     },
     "execution_count": 136,
     "metadata": {},
     "output_type": "execute_result"
    }
   ],
   "source": [
    "df_meta.groupby('director').mean()['tmdb_rating'].sort_values(ascending=False)"
   ]
  },
  {
   "cell_type": "code",
   "execution_count": 137,
   "id": "0c412bcb-17e0-454f-b302-d6b1daa92e25",
   "metadata": {},
   "outputs": [
    {
     "data": {
      "image/png": "[encoded data removed]",
      "text/plain": [
       "<Figure size 576x432 with 1 Axes>"
      ]
     },
     "metadata": {
      "needs_background": "light"
     },
     "output_type": "display_data"
    }
   ],
   "source": [
    "plt.figure(figsize=(8,6))\n",
    "sns.barplot(y = df_meta.groupby('director').count()['tmdb_rating'].sort_values(ascending=False)[:11].drop(index='').index, \n",
    "           x = df_meta.groupby('director').count()['tmdb_rating'].sort_values(ascending=False)[:11].drop(index='').values, palette='crest')\n",
    "plt.xlabel('Number of Movies')\n",
    "plt.ylabel('Directors')\n",
    "plt.title('Popular Directors');"
   ]
  },
  {
   "cell_type": "code",
   "execution_count": 138,
   "id": "a36109bc-abb0-4b92-81ec-046364beb528",
   "metadata": {},
   "outputs": [
    {
     "data": {
      "text/plain": [
       "director\n",
       "WoodyAllen          47\n",
       "AlfredHitchcock     37\n",
       "StevenSpielberg     31\n",
       "ClintEastwood       31\n",
       "MartinScorsese      29\n",
       "RidleyScott         24\n",
       "RonHoward           23\n",
       "StevenSoderbergh    22\n",
       "SpikeLee            21\n",
       "BarryLevinson       21\n",
       "Name: tmdb_rating, dtype: int64"
      ]
     },
     "execution_count": 138,
     "metadata": {},
     "output_type": "execute_result"
    }
   ],
   "source": [
    "df_meta.groupby('director').count()['tmdb_rating'].sort_values(ascending=False)[:11].drop(index='')"
   ]
  },
  {
   "cell_type": "code",
   "execution_count": 139,
   "id": "be706adb-5797-4431-bc5e-d11fd90663ee",
   "metadata": {},
   "outputs": [
    {
     "data": {
      "image/png": "[encoded data removed]",
      "text/plain": [
       "<Figure size 576x432 with 1 Axes>"
      ]
     },
     "metadata": {
      "needs_background": "light"
     },
     "output_type": "display_data"
    }
   ],
   "source": [
    "plt.figure(figsize=(8,6))\n",
    "plt.hist(df_meta.groupby('director').mean()['imdb_rating'].sort_values(ascending=False), bins=50, rwidth=0.8, color='#2b1153', label='Average Rating of Directors')\n",
    "plt.axvline(df_meta['imdb_rating'].mean(), color='r', label='Mean Rating')\n",
    "plt.xlabel('Average Rating')\n",
    "plt.ylabel('Count')\n",
    "plt.title('Average Ratings Received by Directors');"
   ]
  },
  {
   "cell_type": "code",
   "execution_count": 140,
   "id": "3c91c902-3ac4-4b26-adde-ed16281a31c8",
   "metadata": {},
   "outputs": [
    {
     "data": {
      "text/plain": [
       "0                 TomHanks TimAllen DonRickles JimVarney \n",
       "1       RobinWilliams JonathanHyde KirstenDunst Bradle...\n",
       "2       WalterMatthau JackLemmon Ann-Margret SophiaLoren \n",
       "3       WhitneyHouston AngelaBassett LorettaDevine Lel...\n",
       "4       SteveMartin DianeKeaton MartinShort KimberlyWi...\n",
       "                              ...                        \n",
       "9546    MichelPiccoli Miou-Miou BéatriceRomand Frances...\n",
       "9547                                     BrunhildePomsel \n",
       "9548       JulianRadlmaier DeraghCampbell BeniaminForthi \n",
       "9549                                    HelmutQualtinger \n",
       "9550             GreyGriffin TaraStrong AnaisFairweather \n",
       "Name: cast, Length: 9541, dtype: object"
      ]
     },
     "execution_count": 140,
     "metadata": {},
     "output_type": "execute_result"
    }
   ],
   "source": [
    "df_meta['cast']"
   ]
  },
  {
   "cell_type": "code",
   "execution_count": 141,
   "id": "e666282f",
   "metadata": {},
   "outputs": [],
   "source": [
    "df_meta.to_csv('../data/content.csv', index=False)"
   ]
  },
  {
   "cell_type": "code",
   "execution_count": null,
   "id": "94780338",
   "metadata": {},
   "outputs": [],
   "source": []
  },
  {
   "cell_type": "code",
   "execution_count": null,
   "id": "37a39988",
   "metadata": {},
   "outputs": [],
   "source": []
  }
 ],
 "metadata": {
  "kernelspec": {
   "display_name": "Python 3",
   "language": "python",
   "name": "python3"
  },
  "language_info": {
   "codemirror_mode": {
    "name": "ipython",
    "version": 3
   },
   "file_extension": ".py",
   "mimetype": "text/x-python",
   "name": "python",
   "nbconvert_exporter": "python",
   "pygments_lexer": "ipython3",
   "version": "3.8.8"
  }
 },
 "nbformat": 4,
 "nbformat_minor": 5
}
